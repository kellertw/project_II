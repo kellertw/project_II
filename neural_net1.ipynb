{
 "cells": [
  {
   "cell_type": "code",
   "execution_count": 1,
   "metadata": {},
   "outputs": [],
   "source": [
    "import matplotlib.pyplot as plt\n",
    "import numpy as np\n",
    "import pandas as pd"
   ]
  },
  {
   "cell_type": "code",
   "execution_count": 2,
   "metadata": {},
   "outputs": [],
   "source": [
    "from numpy.random import seed\n",
    "seed(1)"
   ]
  },
  {
   "cell_type": "code",
   "execution_count": 3,
   "metadata": {},
   "outputs": [
    {
     "data": {
      "text/html": [
       "<div>\n",
       "<style scoped>\n",
       "    .dataframe tbody tr th:only-of-type {\n",
       "        vertical-align: middle;\n",
       "    }\n",
       "\n",
       "    .dataframe tbody tr th {\n",
       "        vertical-align: top;\n",
       "    }\n",
       "\n",
       "    .dataframe thead th {\n",
       "        text-align: right;\n",
       "    }\n",
       "</style>\n",
       "<table border=\"1\" class=\"dataframe\">\n",
       "  <thead>\n",
       "    <tr style=\"text-align: right;\">\n",
       "      <th></th>\n",
       "      <th>Id</th>\n",
       "      <th>Year</th>\n",
       "      <th>State</th>\n",
       "      <th>Countym</th>\n",
       "      <th>Industry</th>\n",
       "      <th>Suspicious Activity</th>\n",
       "      <th>Count</th>\n",
       "      <th>Lat</th>\n",
       "      <th>Long</th>\n",
       "    </tr>\n",
       "  </thead>\n",
       "  <tbody>\n",
       "    <tr>\n",
       "      <th>0</th>\n",
       "      <td>0</td>\n",
       "      <td>2014</td>\n",
       "      <td>Arizona</td>\n",
       "      <td>Coconino County</td>\n",
       "      <td>Tribal Authorized Casino</td>\n",
       "      <td>Alters or Cancels Transaction to Avoid CTR Req...</td>\n",
       "      <td>1</td>\n",
       "      <td>35.829692</td>\n",
       "      <td>-111.773728</td>\n",
       "    </tr>\n",
       "    <tr>\n",
       "      <th>1</th>\n",
       "      <td>1</td>\n",
       "      <td>2014</td>\n",
       "      <td>Arizona</td>\n",
       "      <td>Coconino County</td>\n",
       "      <td>Tribal Authorized Casino</td>\n",
       "      <td>Exchanges Small Bills for Large Bills or Vice ...</td>\n",
       "      <td>1</td>\n",
       "      <td>35.829692</td>\n",
       "      <td>-111.773728</td>\n",
       "    </tr>\n",
       "    <tr>\n",
       "      <th>2</th>\n",
       "      <td>2</td>\n",
       "      <td>2014</td>\n",
       "      <td>Arizona</td>\n",
       "      <td>Coconino County</td>\n",
       "      <td>Tribal Authorized Casino</td>\n",
       "      <td>Other Structuring</td>\n",
       "      <td>1</td>\n",
       "      <td>35.829692</td>\n",
       "      <td>-111.773728</td>\n",
       "    </tr>\n",
       "    <tr>\n",
       "      <th>3</th>\n",
       "      <td>3</td>\n",
       "      <td>2014</td>\n",
       "      <td>Arizona</td>\n",
       "      <td>Coconino County</td>\n",
       "      <td>Tribal Authorized Casino</td>\n",
       "      <td>Provided Questionable or False Documentation</td>\n",
       "      <td>1</td>\n",
       "      <td>35.829692</td>\n",
       "      <td>-111.773728</td>\n",
       "    </tr>\n",
       "    <tr>\n",
       "      <th>4</th>\n",
       "      <td>4</td>\n",
       "      <td>2016</td>\n",
       "      <td>Arizona</td>\n",
       "      <td>Coconino County</td>\n",
       "      <td>Tribal Authorized Casino</td>\n",
       "      <td>Account Takeover</td>\n",
       "      <td>1</td>\n",
       "      <td>35.829692</td>\n",
       "      <td>-111.773728</td>\n",
       "    </tr>\n",
       "  </tbody>\n",
       "</table>\n",
       "</div>"
      ],
      "text/plain": [
       "   Id  Year    State          Countym                   Industry  \\\n",
       "0   0  2014  Arizona  Coconino County   Tribal Authorized Casino   \n",
       "1   1  2014  Arizona  Coconino County   Tribal Authorized Casino   \n",
       "2   2  2014  Arizona  Coconino County   Tribal Authorized Casino   \n",
       "3   3  2014  Arizona  Coconino County   Tribal Authorized Casino   \n",
       "4   4  2016  Arizona  Coconino County   Tribal Authorized Casino   \n",
       "\n",
       "                                 Suspicious Activity Count        Lat  \\\n",
       "0  Alters or Cancels Transaction to Avoid CTR Req...     1  35.829692   \n",
       "1  Exchanges Small Bills for Large Bills or Vice ...     1  35.829692   \n",
       "2                                  Other Structuring     1  35.829692   \n",
       "3       Provided Questionable or False Documentation     1  35.829692   \n",
       "4                                   Account Takeover     1  35.829692   \n",
       "\n",
       "         Long  \n",
       "0 -111.773728  \n",
       "1 -111.773728  \n",
       "2 -111.773728  \n",
       "3 -111.773728  \n",
       "4 -111.773728  "
      ]
     },
     "execution_count": 3,
     "metadata": {},
     "output_type": "execute_result"
    }
   ],
   "source": [
    "df = pd.read_csv('casino_crime.csv')\n",
    "df.head()"
   ]
  },
  {
   "cell_type": "code",
   "execution_count": 4,
   "metadata": {},
   "outputs": [],
   "source": [
    "df['Count'] = df['Count'].str.replace(',', '').astype(float).astype(int)"
   ]
  },
  {
   "cell_type": "code",
   "execution_count": 5,
   "metadata": {},
   "outputs": [
    {
     "data": {
      "text/html": [
       "<div>\n",
       "<style scoped>\n",
       "    .dataframe tbody tr th:only-of-type {\n",
       "        vertical-align: middle;\n",
       "    }\n",
       "\n",
       "    .dataframe tbody tr th {\n",
       "        vertical-align: top;\n",
       "    }\n",
       "\n",
       "    .dataframe thead th {\n",
       "        text-align: right;\n",
       "    }\n",
       "</style>\n",
       "<table border=\"1\" class=\"dataframe\">\n",
       "  <thead>\n",
       "    <tr style=\"text-align: right;\">\n",
       "      <th></th>\n",
       "      <th>State</th>\n",
       "      <th>Countym</th>\n",
       "      <th>Industry</th>\n",
       "      <th>Suspicious Activity</th>\n",
       "      <th>Count</th>\n",
       "    </tr>\n",
       "  </thead>\n",
       "  <tbody>\n",
       "    <tr>\n",
       "      <th>0</th>\n",
       "      <td>Arizona</td>\n",
       "      <td>Coconino County</td>\n",
       "      <td>Tribal Authorized Casino</td>\n",
       "      <td>Alters or Cancels Transaction to Avoid CTR Req...</td>\n",
       "      <td>1</td>\n",
       "    </tr>\n",
       "    <tr>\n",
       "      <th>1</th>\n",
       "      <td>Arizona</td>\n",
       "      <td>Coconino County</td>\n",
       "      <td>Tribal Authorized Casino</td>\n",
       "      <td>Exchanges Small Bills for Large Bills or Vice ...</td>\n",
       "      <td>1</td>\n",
       "    </tr>\n",
       "    <tr>\n",
       "      <th>2</th>\n",
       "      <td>Arizona</td>\n",
       "      <td>Coconino County</td>\n",
       "      <td>Tribal Authorized Casino</td>\n",
       "      <td>Other Structuring</td>\n",
       "      <td>1</td>\n",
       "    </tr>\n",
       "    <tr>\n",
       "      <th>3</th>\n",
       "      <td>Arizona</td>\n",
       "      <td>Coconino County</td>\n",
       "      <td>Tribal Authorized Casino</td>\n",
       "      <td>Provided Questionable or False Documentation</td>\n",
       "      <td>1</td>\n",
       "    </tr>\n",
       "    <tr>\n",
       "      <th>4</th>\n",
       "      <td>Arizona</td>\n",
       "      <td>Coconino County</td>\n",
       "      <td>Tribal Authorized Casino</td>\n",
       "      <td>Account Takeover</td>\n",
       "      <td>1</td>\n",
       "    </tr>\n",
       "  </tbody>\n",
       "</table>\n",
       "</div>"
      ],
      "text/plain": [
       "     State          Countym                   Industry  \\\n",
       "0  Arizona  Coconino County   Tribal Authorized Casino   \n",
       "1  Arizona  Coconino County   Tribal Authorized Casino   \n",
       "2  Arizona  Coconino County   Tribal Authorized Casino   \n",
       "3  Arizona  Coconino County   Tribal Authorized Casino   \n",
       "4  Arizona  Coconino County   Tribal Authorized Casino   \n",
       "\n",
       "                                 Suspicious Activity  Count  \n",
       "0  Alters or Cancels Transaction to Avoid CTR Req...      1  \n",
       "1  Exchanges Small Bills for Large Bills or Vice ...      1  \n",
       "2                                  Other Structuring      1  \n",
       "3       Provided Questionable or False Documentation      1  \n",
       "4                                   Account Takeover      1  "
      ]
     },
     "execution_count": 5,
     "metadata": {},
     "output_type": "execute_result"
    }
   ],
   "source": [
    "data = df[['State', 'Countym','Industry', 'Suspicious Activity', 'Count']]\n",
    "\n",
    "data.head()"
   ]
  },
  {
   "cell_type": "code",
   "execution_count": 6,
   "metadata": {},
   "outputs": [],
   "source": [
    "# data['Suspicious Activity'].unique()"
   ]
  },
  {
   "cell_type": "code",
   "execution_count": 7,
   "metadata": {},
   "outputs": [
    {
     "data": {
      "text/plain": [
       "Suspicious Activity    object\n",
       "State                  object\n",
       "Countym                object\n",
       "Industry               object\n",
       "Count                   int64\n",
       "dtype: object"
      ]
     },
     "execution_count": 7,
     "metadata": {},
     "output_type": "execute_result"
    }
   ],
   "source": [
    "activity = data.groupby(['Suspicious Activity', 'State', 'Countym','Industry'])['Count'].sum().reset_index()\n",
    "activity.dtypes"
   ]
  },
  {
   "cell_type": "code",
   "execution_count": 8,
   "metadata": {},
   "outputs": [
    {
     "data": {
      "text/html": [
       "<div>\n",
       "<style scoped>\n",
       "    .dataframe tbody tr th:only-of-type {\n",
       "        vertical-align: middle;\n",
       "    }\n",
       "\n",
       "    .dataframe tbody tr th {\n",
       "        vertical-align: top;\n",
       "    }\n",
       "\n",
       "    .dataframe thead th {\n",
       "        text-align: right;\n",
       "    }\n",
       "</style>\n",
       "<table border=\"1\" class=\"dataframe\">\n",
       "  <thead>\n",
       "    <tr style=\"text-align: right;\">\n",
       "      <th></th>\n",
       "      <th>Suspicious Activity</th>\n",
       "      <th>State</th>\n",
       "      <th>Countym</th>\n",
       "      <th>Industry</th>\n",
       "      <th>Count</th>\n",
       "    </tr>\n",
       "  </thead>\n",
       "  <tbody>\n",
       "    <tr>\n",
       "      <th>0</th>\n",
       "      <td>ACH</td>\n",
       "      <td>California</td>\n",
       "      <td>Kings County</td>\n",
       "      <td>Tribal Authorized Casino</td>\n",
       "      <td>4</td>\n",
       "    </tr>\n",
       "    <tr>\n",
       "      <th>1</th>\n",
       "      <td>ACH</td>\n",
       "      <td>California</td>\n",
       "      <td>Los Angeles County</td>\n",
       "      <td>Card Club</td>\n",
       "      <td>1</td>\n",
       "    </tr>\n",
       "    <tr>\n",
       "      <th>2</th>\n",
       "      <td>ACH</td>\n",
       "      <td>California</td>\n",
       "      <td>Riverside County</td>\n",
       "      <td>Tribal Authorized Casino</td>\n",
       "      <td>2</td>\n",
       "    </tr>\n",
       "    <tr>\n",
       "      <th>3</th>\n",
       "      <td>ACH</td>\n",
       "      <td>California</td>\n",
       "      <td>San Diego County</td>\n",
       "      <td>Tribal Authorized Casino</td>\n",
       "      <td>19</td>\n",
       "    </tr>\n",
       "    <tr>\n",
       "      <th>4</th>\n",
       "      <td>ACH</td>\n",
       "      <td>California</td>\n",
       "      <td>San Joaquin County</td>\n",
       "      <td>Card Club</td>\n",
       "      <td>1</td>\n",
       "    </tr>\n",
       "  </tbody>\n",
       "</table>\n",
       "</div>"
      ],
      "text/plain": [
       "  Suspicious Activity       State             Countym  \\\n",
       "0                 ACH  California        Kings County   \n",
       "1                 ACH  California  Los Angeles County   \n",
       "2                 ACH  California    Riverside County   \n",
       "3                 ACH  California    San Diego County   \n",
       "4                 ACH  California  San Joaquin County   \n",
       "\n",
       "                    Industry  Count  \n",
       "0   Tribal Authorized Casino      4  \n",
       "1                  Card Club      1  \n",
       "2   Tribal Authorized Casino      2  \n",
       "3   Tribal Authorized Casino     19  \n",
       "4                  Card Club      1  "
      ]
     },
     "execution_count": 8,
     "metadata": {},
     "output_type": "execute_result"
    }
   ],
   "source": [
    "activity.head()"
   ]
  },
  {
   "cell_type": "code",
   "execution_count": 9,
   "metadata": {},
   "outputs": [],
   "source": [
    "# activity['Suspicious Activity'].value_counts()"
   ]
  },
  {
   "cell_type": "code",
   "execution_count": 10,
   "metadata": {},
   "outputs": [],
   "source": [
    "# activity['Suspicious Activity'] = activity['Suspicious Activity'].replace(\n",
    "#     {'Other Other Suspicious Activities': 'Diff Suspicious Activities'})"
   ]
  },
  {
   "cell_type": "code",
   "execution_count": 11,
   "metadata": {},
   "outputs": [],
   "source": [
    "# activity['Suspicious Activity'].value_counts()"
   ]
  },
  {
   "cell_type": "code",
   "execution_count": 12,
   "metadata": {},
   "outputs": [
    {
     "data": {
      "text/html": [
       "<div>\n",
       "<style scoped>\n",
       "    .dataframe tbody tr th:only-of-type {\n",
       "        vertical-align: middle;\n",
       "    }\n",
       "\n",
       "    .dataframe tbody tr th {\n",
       "        vertical-align: top;\n",
       "    }\n",
       "\n",
       "    .dataframe thead th {\n",
       "        text-align: right;\n",
       "    }\n",
       "</style>\n",
       "<table border=\"1\" class=\"dataframe\">\n",
       "  <thead>\n",
       "    <tr style=\"text-align: right;\">\n",
       "      <th></th>\n",
       "      <th>Industry</th>\n",
       "      <th>Count</th>\n",
       "      <th>State_Arizona</th>\n",
       "      <th>State_California</th>\n",
       "      <th>State_Colorado</th>\n",
       "      <th>State_Nevada</th>\n",
       "      <th>State_New Mexico</th>\n",
       "      <th>State_Utah</th>\n",
       "      <th>Countym_Adams County</th>\n",
       "      <th>Countym_Alameda County</th>\n",
       "      <th>...</th>\n",
       "      <th>Suspicious Activity_Transaction Out of Pattern for Customer(s)</th>\n",
       "      <th>Suspicious Activity_Transaction with No Apparent Economic, Business, or Lawful Purpose</th>\n",
       "      <th>Suspicious Activity_Transaction(s) Below BSA Recordkeeping Threshold</th>\n",
       "      <th>Suspicious Activity_Transaction(s) Below CTR Threshold</th>\n",
       "      <th>Suspicious Activity_Transaction(s) Involving Foreign High Risk Jurisdiction</th>\n",
       "      <th>Suspicious Activity_Two or More Individuals Working Together</th>\n",
       "      <th>Suspicious Activity_Unauthorized Electronic Intrusion</th>\n",
       "      <th>Suspicious Activity_Unknown Source of Chips</th>\n",
       "      <th>Suspicious Activity_Unlicensed or Unregistered MSB</th>\n",
       "      <th>Suspicious Activity_Wire</th>\n",
       "    </tr>\n",
       "  </thead>\n",
       "  <tbody>\n",
       "    <tr>\n",
       "      <th>0</th>\n",
       "      <td>Tribal Authorized Casino</td>\n",
       "      <td>4</td>\n",
       "      <td>0</td>\n",
       "      <td>1</td>\n",
       "      <td>0</td>\n",
       "      <td>0</td>\n",
       "      <td>0</td>\n",
       "      <td>0</td>\n",
       "      <td>0</td>\n",
       "      <td>0</td>\n",
       "      <td>...</td>\n",
       "      <td>0</td>\n",
       "      <td>0</td>\n",
       "      <td>0</td>\n",
       "      <td>0</td>\n",
       "      <td>0</td>\n",
       "      <td>0</td>\n",
       "      <td>0</td>\n",
       "      <td>0</td>\n",
       "      <td>0</td>\n",
       "      <td>0</td>\n",
       "    </tr>\n",
       "    <tr>\n",
       "      <th>1</th>\n",
       "      <td>Card Club</td>\n",
       "      <td>1</td>\n",
       "      <td>0</td>\n",
       "      <td>1</td>\n",
       "      <td>0</td>\n",
       "      <td>0</td>\n",
       "      <td>0</td>\n",
       "      <td>0</td>\n",
       "      <td>0</td>\n",
       "      <td>0</td>\n",
       "      <td>...</td>\n",
       "      <td>0</td>\n",
       "      <td>0</td>\n",
       "      <td>0</td>\n",
       "      <td>0</td>\n",
       "      <td>0</td>\n",
       "      <td>0</td>\n",
       "      <td>0</td>\n",
       "      <td>0</td>\n",
       "      <td>0</td>\n",
       "      <td>0</td>\n",
       "    </tr>\n",
       "    <tr>\n",
       "      <th>2</th>\n",
       "      <td>Tribal Authorized Casino</td>\n",
       "      <td>2</td>\n",
       "      <td>0</td>\n",
       "      <td>1</td>\n",
       "      <td>0</td>\n",
       "      <td>0</td>\n",
       "      <td>0</td>\n",
       "      <td>0</td>\n",
       "      <td>0</td>\n",
       "      <td>0</td>\n",
       "      <td>...</td>\n",
       "      <td>0</td>\n",
       "      <td>0</td>\n",
       "      <td>0</td>\n",
       "      <td>0</td>\n",
       "      <td>0</td>\n",
       "      <td>0</td>\n",
       "      <td>0</td>\n",
       "      <td>0</td>\n",
       "      <td>0</td>\n",
       "      <td>0</td>\n",
       "    </tr>\n",
       "    <tr>\n",
       "      <th>3</th>\n",
       "      <td>Tribal Authorized Casino</td>\n",
       "      <td>19</td>\n",
       "      <td>0</td>\n",
       "      <td>1</td>\n",
       "      <td>0</td>\n",
       "      <td>0</td>\n",
       "      <td>0</td>\n",
       "      <td>0</td>\n",
       "      <td>0</td>\n",
       "      <td>0</td>\n",
       "      <td>...</td>\n",
       "      <td>0</td>\n",
       "      <td>0</td>\n",
       "      <td>0</td>\n",
       "      <td>0</td>\n",
       "      <td>0</td>\n",
       "      <td>0</td>\n",
       "      <td>0</td>\n",
       "      <td>0</td>\n",
       "      <td>0</td>\n",
       "      <td>0</td>\n",
       "    </tr>\n",
       "    <tr>\n",
       "      <th>4</th>\n",
       "      <td>Card Club</td>\n",
       "      <td>1</td>\n",
       "      <td>0</td>\n",
       "      <td>1</td>\n",
       "      <td>0</td>\n",
       "      <td>0</td>\n",
       "      <td>0</td>\n",
       "      <td>0</td>\n",
       "      <td>0</td>\n",
       "      <td>0</td>\n",
       "      <td>...</td>\n",
       "      <td>0</td>\n",
       "      <td>0</td>\n",
       "      <td>0</td>\n",
       "      <td>0</td>\n",
       "      <td>0</td>\n",
       "      <td>0</td>\n",
       "      <td>0</td>\n",
       "      <td>0</td>\n",
       "      <td>0</td>\n",
       "      <td>0</td>\n",
       "    </tr>\n",
       "  </tbody>\n",
       "</table>\n",
       "<p>5 rows × 200 columns</p>\n",
       "</div>"
      ],
      "text/plain": [
       "                    Industry  Count  State_Arizona  State_California  \\\n",
       "0   Tribal Authorized Casino      4              0                 1   \n",
       "1                  Card Club      1              0                 1   \n",
       "2   Tribal Authorized Casino      2              0                 1   \n",
       "3   Tribal Authorized Casino     19              0                 1   \n",
       "4                  Card Club      1              0                 1   \n",
       "\n",
       "   State_Colorado  State_Nevada  State_New Mexico  State_Utah  \\\n",
       "0               0             0                 0           0   \n",
       "1               0             0                 0           0   \n",
       "2               0             0                 0           0   \n",
       "3               0             0                 0           0   \n",
       "4               0             0                 0           0   \n",
       "\n",
       "   Countym_Adams County  Countym_Alameda County  ...  \\\n",
       "0                     0                       0  ...   \n",
       "1                     0                       0  ...   \n",
       "2                     0                       0  ...   \n",
       "3                     0                       0  ...   \n",
       "4                     0                       0  ...   \n",
       "\n",
       "   Suspicious Activity_Transaction Out of Pattern for Customer(s)  \\\n",
       "0                                                  0                \n",
       "1                                                  0                \n",
       "2                                                  0                \n",
       "3                                                  0                \n",
       "4                                                  0                \n",
       "\n",
       "   Suspicious Activity_Transaction with No Apparent Economic, Business, or Lawful Purpose  \\\n",
       "0                                                  0                                        \n",
       "1                                                  0                                        \n",
       "2                                                  0                                        \n",
       "3                                                  0                                        \n",
       "4                                                  0                                        \n",
       "\n",
       "   Suspicious Activity_Transaction(s) Below BSA Recordkeeping Threshold  \\\n",
       "0                                                  0                      \n",
       "1                                                  0                      \n",
       "2                                                  0                      \n",
       "3                                                  0                      \n",
       "4                                                  0                      \n",
       "\n",
       "   Suspicious Activity_Transaction(s) Below CTR Threshold  \\\n",
       "0                                                  0        \n",
       "1                                                  0        \n",
       "2                                                  0        \n",
       "3                                                  0        \n",
       "4                                                  0        \n",
       "\n",
       "   Suspicious Activity_Transaction(s) Involving Foreign High Risk Jurisdiction  \\\n",
       "0                                                  0                             \n",
       "1                                                  0                             \n",
       "2                                                  0                             \n",
       "3                                                  0                             \n",
       "4                                                  0                             \n",
       "\n",
       "   Suspicious Activity_Two or More Individuals Working Together  \\\n",
       "0                                                  0              \n",
       "1                                                  0              \n",
       "2                                                  0              \n",
       "3                                                  0              \n",
       "4                                                  0              \n",
       "\n",
       "   Suspicious Activity_Unauthorized Electronic Intrusion  \\\n",
       "0                                                  0       \n",
       "1                                                  0       \n",
       "2                                                  0       \n",
       "3                                                  0       \n",
       "4                                                  0       \n",
       "\n",
       "   Suspicious Activity_Unknown Source of Chips  \\\n",
       "0                                            0   \n",
       "1                                            0   \n",
       "2                                            0   \n",
       "3                                            0   \n",
       "4                                            0   \n",
       "\n",
       "   Suspicious Activity_Unlicensed or Unregistered MSB  \\\n",
       "0                                                  0    \n",
       "1                                                  0    \n",
       "2                                                  0    \n",
       "3                                                  0    \n",
       "4                                                  0    \n",
       "\n",
       "   Suspicious Activity_Wire  \n",
       "0                         0  \n",
       "1                         0  \n",
       "2                         0  \n",
       "3                         0  \n",
       "4                         0  \n",
       "\n",
       "[5 rows x 200 columns]"
      ]
     },
     "execution_count": 12,
     "metadata": {},
     "output_type": "execute_result"
    }
   ],
   "source": [
    "activity = pd.get_dummies(activity, columns=['State', 'Countym', 'Suspicious Activity'])\n",
    "activity.head()"
   ]
  },
  {
   "cell_type": "markdown",
   "metadata": {},
   "source": [
    "# Data Pre-Processing"
   ]
  },
  {
   "cell_type": "code",
   "execution_count": 13,
   "metadata": {},
   "outputs": [
    {
     "name": "stdout",
     "output_type": "stream",
     "text": [
      "(2749, 199) (2749, 1)\n"
     ]
    }
   ],
   "source": [
    "X = activity.drop(columns = ['Industry'])\n",
    "y = activity['Industry'].values.reshape(-1, 1)\n",
    "print(X.shape, y.shape)"
   ]
  },
  {
   "cell_type": "code",
   "execution_count": 14,
   "metadata": {},
   "outputs": [
    {
     "name": "stderr",
     "output_type": "stream",
     "text": [
      "/opt/anaconda3/lib/python3.7/site-packages/tensorflow/python/framework/dtypes.py:516: FutureWarning: Passing (type, 1) or '1type' as a synonym of type is deprecated; in a future version of numpy, it will be understood as (type, (1,)) / '(1,)type'.\n",
      "  _np_qint8 = np.dtype([(\"qint8\", np.int8, 1)])\n",
      "/opt/anaconda3/lib/python3.7/site-packages/tensorflow/python/framework/dtypes.py:517: FutureWarning: Passing (type, 1) or '1type' as a synonym of type is deprecated; in a future version of numpy, it will be understood as (type, (1,)) / '(1,)type'.\n",
      "  _np_quint8 = np.dtype([(\"quint8\", np.uint8, 1)])\n",
      "/opt/anaconda3/lib/python3.7/site-packages/tensorflow/python/framework/dtypes.py:518: FutureWarning: Passing (type, 1) or '1type' as a synonym of type is deprecated; in a future version of numpy, it will be understood as (type, (1,)) / '(1,)type'.\n",
      "  _np_qint16 = np.dtype([(\"qint16\", np.int16, 1)])\n",
      "/opt/anaconda3/lib/python3.7/site-packages/tensorflow/python/framework/dtypes.py:519: FutureWarning: Passing (type, 1) or '1type' as a synonym of type is deprecated; in a future version of numpy, it will be understood as (type, (1,)) / '(1,)type'.\n",
      "  _np_quint16 = np.dtype([(\"quint16\", np.uint16, 1)])\n",
      "/opt/anaconda3/lib/python3.7/site-packages/tensorflow/python/framework/dtypes.py:520: FutureWarning: Passing (type, 1) or '1type' as a synonym of type is deprecated; in a future version of numpy, it will be understood as (type, (1,)) / '(1,)type'.\n",
      "  _np_qint32 = np.dtype([(\"qint32\", np.int32, 1)])\n",
      "/opt/anaconda3/lib/python3.7/site-packages/tensorflow/python/framework/dtypes.py:525: FutureWarning: Passing (type, 1) or '1type' as a synonym of type is deprecated; in a future version of numpy, it will be understood as (type, (1,)) / '(1,)type'.\n",
      "  np_resource = np.dtype([(\"resource\", np.ubyte, 1)])\n",
      "/opt/anaconda3/lib/python3.7/site-packages/tensorboard/compat/tensorflow_stub/dtypes.py:541: FutureWarning: Passing (type, 1) or '1type' as a synonym of type is deprecated; in a future version of numpy, it will be understood as (type, (1,)) / '(1,)type'.\n",
      "  _np_qint8 = np.dtype([(\"qint8\", np.int8, 1)])\n",
      "/opt/anaconda3/lib/python3.7/site-packages/tensorboard/compat/tensorflow_stub/dtypes.py:542: FutureWarning: Passing (type, 1) or '1type' as a synonym of type is deprecated; in a future version of numpy, it will be understood as (type, (1,)) / '(1,)type'.\n",
      "  _np_quint8 = np.dtype([(\"quint8\", np.uint8, 1)])\n",
      "/opt/anaconda3/lib/python3.7/site-packages/tensorboard/compat/tensorflow_stub/dtypes.py:543: FutureWarning: Passing (type, 1) or '1type' as a synonym of type is deprecated; in a future version of numpy, it will be understood as (type, (1,)) / '(1,)type'.\n",
      "  _np_qint16 = np.dtype([(\"qint16\", np.int16, 1)])\n",
      "/opt/anaconda3/lib/python3.7/site-packages/tensorboard/compat/tensorflow_stub/dtypes.py:544: FutureWarning: Passing (type, 1) or '1type' as a synonym of type is deprecated; in a future version of numpy, it will be understood as (type, (1,)) / '(1,)type'.\n",
      "  _np_quint16 = np.dtype([(\"quint16\", np.uint16, 1)])\n",
      "/opt/anaconda3/lib/python3.7/site-packages/tensorboard/compat/tensorflow_stub/dtypes.py:545: FutureWarning: Passing (type, 1) or '1type' as a synonym of type is deprecated; in a future version of numpy, it will be understood as (type, (1,)) / '(1,)type'.\n",
      "  _np_qint32 = np.dtype([(\"qint32\", np.int32, 1)])\n",
      "/opt/anaconda3/lib/python3.7/site-packages/tensorboard/compat/tensorflow_stub/dtypes.py:550: FutureWarning: Passing (type, 1) or '1type' as a synonym of type is deprecated; in a future version of numpy, it will be understood as (type, (1,)) / '(1,)type'.\n",
      "  np_resource = np.dtype([(\"resource\", np.ubyte, 1)])\n"
     ]
    }
   ],
   "source": [
    "from sklearn.model_selection import train_test_split\n",
    "from sklearn.preprocessing import LabelEncoder, MinMaxScaler\n",
    "from tensorflow.keras.utils import to_categorical"
   ]
  },
  {
   "cell_type": "code",
   "execution_count": 15,
   "metadata": {},
   "outputs": [],
   "source": [
    "X_train, X_test, y_train, y_test = train_test_split(\n",
    "    X, y, random_state=1)"
   ]
  },
  {
   "cell_type": "code",
   "execution_count": 16,
   "metadata": {},
   "outputs": [],
   "source": [
    "# y_test"
   ]
  },
  {
   "cell_type": "code",
   "execution_count": 17,
   "metadata": {},
   "outputs": [],
   "source": [
    "X_scaler = MinMaxScaler().fit(X_train)\n",
    "X_train_scaled = X_scaler.transform(X_train)\n",
    "X_test_scaled = X_scaler.transform(X_test)"
   ]
  },
  {
   "cell_type": "code",
   "execution_count": 18,
   "metadata": {},
   "outputs": [
    {
     "name": "stderr",
     "output_type": "stream",
     "text": [
      "/opt/anaconda3/lib/python3.7/site-packages/sklearn/preprocessing/_label.py:235: DataConversionWarning: A column-vector y was passed when a 1d array was expected. Please change the shape of y to (n_samples, ), for example using ravel().\n",
      "  y = column_or_1d(y, warn=True)\n",
      "/opt/anaconda3/lib/python3.7/site-packages/sklearn/preprocessing/_label.py:268: DataConversionWarning: A column-vector y was passed when a 1d array was expected. Please change the shape of y to (n_samples, ), for example using ravel().\n",
      "  y = column_or_1d(y, warn=True)\n"
     ]
    }
   ],
   "source": [
    "# Step 1: Label-encode data set\n",
    "label_encoder = LabelEncoder()\n",
    "label_encoder.fit(y_train)\n",
    "encoded_y_train = label_encoder.transform(y_train)\n",
    "encoded_y_test = label_encoder.transform(y_test)"
   ]
  },
  {
   "cell_type": "code",
   "execution_count": 19,
   "metadata": {},
   "outputs": [],
   "source": [
    "# Step 2: Convert encoded labels to one-hot-encoding\n",
    "y_train_categorical = to_categorical(encoded_y_train)\n",
    "y_test_categorical = to_categorical(encoded_y_test)"
   ]
  },
  {
   "cell_type": "markdown",
   "metadata": {},
   "source": [
    "# Create a Deep Learning Model"
   ]
  },
  {
   "cell_type": "code",
   "execution_count": 20,
   "metadata": {},
   "outputs": [],
   "source": [
    "from tensorflow.keras.models import Sequential\n",
    "from tensorflow.keras.layers import Dense"
   ]
  },
  {
   "cell_type": "code",
   "execution_count": 21,
   "metadata": {},
   "outputs": [
    {
     "name": "stdout",
     "output_type": "stream",
     "text": [
      "WARNING:tensorflow:From /opt/anaconda3/lib/python3.7/site-packages/tensorflow/python/ops/init_ops.py:1251: calling VarianceScaling.__init__ (from tensorflow.python.ops.init_ops) with dtype is deprecated and will be removed in a future version.\n",
      "Instructions for updating:\n",
      "Call initializer instance with the dtype argument instead of passing it to the constructor\n"
     ]
    }
   ],
   "source": [
    "# Create model and add layers\n",
    "model = Sequential()\n",
    "model.add(Dense(units=1000, activation='relu', input_dim=199))\n",
    "model.add(Dense(units=600, activation='relu'))\n",
    "model.add(Dense(units=4, activation='softmax'))"
   ]
  },
  {
   "cell_type": "code",
   "execution_count": 22,
   "metadata": {},
   "outputs": [],
   "source": [
    "# Compile and fit the model\n",
    "model.compile(optimizer='adam',\n",
    "              loss='categorical_crossentropy',\n",
    "              metrics=['accuracy'])"
   ]
  },
  {
   "cell_type": "code",
   "execution_count": 23,
   "metadata": {},
   "outputs": [
    {
     "name": "stdout",
     "output_type": "stream",
     "text": [
      "Model: \"sequential\"\n",
      "_________________________________________________________________\n",
      "Layer (type)                 Output Shape              Param #   \n",
      "=================================================================\n",
      "dense (Dense)                (None, 1000)              200000    \n",
      "_________________________________________________________________\n",
      "dense_1 (Dense)              (None, 600)               600600    \n",
      "_________________________________________________________________\n",
      "dense_2 (Dense)              (None, 4)                 2404      \n",
      "=================================================================\n",
      "Total params: 803,004\n",
      "Trainable params: 803,004\n",
      "Non-trainable params: 0\n",
      "_________________________________________________________________\n"
     ]
    }
   ],
   "source": [
    "model.summary()"
   ]
  },
  {
   "cell_type": "code",
   "execution_count": 24,
   "metadata": {},
   "outputs": [
    {
     "name": "stdout",
     "output_type": "stream",
     "text": [
      "Epoch 1/60\n",
      "2061/2061 - 1s - loss: 0.6573 - acc: 0.7448\n",
      "Epoch 2/60\n",
      "2061/2061 - 1s - loss: 0.4274 - acc: 0.8176\n",
      "Epoch 3/60\n",
      "2061/2061 - 1s - loss: 0.3675 - acc: 0.8365\n",
      "Epoch 4/60\n",
      "2061/2061 - 1s - loss: 0.3330 - acc: 0.8375\n",
      "Epoch 5/60\n",
      "2061/2061 - 1s - loss: 0.3144 - acc: 0.8467\n",
      "Epoch 6/60\n",
      "2061/2061 - 1s - loss: 0.2927 - acc: 0.8540\n",
      "Epoch 7/60\n",
      "2061/2061 - 1s - loss: 0.2732 - acc: 0.8535\n",
      "Epoch 8/60\n",
      "2061/2061 - 1s - loss: 0.2583 - acc: 0.8559\n",
      "Epoch 9/60\n",
      "2061/2061 - 1s - loss: 0.2474 - acc: 0.8549\n",
      "Epoch 10/60\n",
      "2061/2061 - 1s - loss: 0.2366 - acc: 0.8671\n",
      "Epoch 11/60\n",
      "2061/2061 - 1s - loss: 0.2318 - acc: 0.8763\n",
      "Epoch 12/60\n",
      "2061/2061 - 1s - loss: 0.2303 - acc: 0.8588\n",
      "Epoch 13/60\n",
      "2061/2061 - 1s - loss: 0.2162 - acc: 0.8603\n",
      "Epoch 14/60\n",
      "2061/2061 - 1s - loss: 0.2102 - acc: 0.8612\n",
      "Epoch 15/60\n",
      "2061/2061 - 1s - loss: 0.2109 - acc: 0.8700\n",
      "Epoch 16/60\n",
      "2061/2061 - 1s - loss: 0.2048 - acc: 0.8680\n",
      "Epoch 17/60\n",
      "2061/2061 - 1s - loss: 0.1977 - acc: 0.8617\n",
      "Epoch 18/60\n",
      "2061/2061 - 1s - loss: 0.1963 - acc: 0.8666\n",
      "Epoch 19/60\n",
      "2061/2061 - 1s - loss: 0.1906 - acc: 0.8680\n",
      "Epoch 20/60\n",
      "2061/2061 - 1s - loss: 0.1889 - acc: 0.8646\n",
      "Epoch 21/60\n",
      "2061/2061 - 1s - loss: 0.1834 - acc: 0.8753\n",
      "Epoch 22/60\n",
      "2061/2061 - 1s - loss: 0.1824 - acc: 0.8646\n",
      "Epoch 23/60\n",
      "2061/2061 - 1s - loss: 0.1797 - acc: 0.8787\n",
      "Epoch 24/60\n",
      "2061/2061 - 1s - loss: 0.1790 - acc: 0.8811\n",
      "Epoch 25/60\n",
      "2061/2061 - 1s - loss: 0.1795 - acc: 0.8802\n",
      "Epoch 26/60\n",
      "2061/2061 - 1s - loss: 0.1752 - acc: 0.8758\n",
      "Epoch 27/60\n",
      "2061/2061 - 1s - loss: 0.1728 - acc: 0.8748\n",
      "Epoch 28/60\n",
      "2061/2061 - 1s - loss: 0.1733 - acc: 0.8714\n",
      "Epoch 29/60\n",
      "2061/2061 - 1s - loss: 0.1699 - acc: 0.8758\n",
      "Epoch 30/60\n",
      "2061/2061 - 1s - loss: 0.1712 - acc: 0.8782\n",
      "Epoch 31/60\n",
      "2061/2061 - 1s - loss: 0.1695 - acc: 0.8748\n",
      "Epoch 32/60\n",
      "2061/2061 - 1s - loss: 0.1684 - acc: 0.8855\n",
      "Epoch 33/60\n",
      "2061/2061 - 1s - loss: 0.1693 - acc: 0.8748\n",
      "Epoch 34/60\n",
      "2061/2061 - 1s - loss: 0.1677 - acc: 0.8850\n",
      "Epoch 35/60\n",
      "2061/2061 - 1s - loss: 0.1669 - acc: 0.8816\n",
      "Epoch 36/60\n",
      "2061/2061 - 1s - loss: 0.1661 - acc: 0.8826\n",
      "Epoch 37/60\n",
      "2061/2061 - 1s - loss: 0.1644 - acc: 0.8816\n",
      "Epoch 38/60\n",
      "2061/2061 - 1s - loss: 0.1652 - acc: 0.8821\n",
      "Epoch 39/60\n",
      "2061/2061 - 1s - loss: 0.1641 - acc: 0.8753\n",
      "Epoch 40/60\n",
      "2061/2061 - 1s - loss: 0.1655 - acc: 0.8802\n",
      "Epoch 41/60\n",
      "2061/2061 - 2s - loss: 0.1649 - acc: 0.8845\n",
      "Epoch 42/60\n",
      "2061/2061 - 1s - loss: 0.1690 - acc: 0.8874\n",
      "Epoch 43/60\n",
      "2061/2061 - 1s - loss: 0.1654 - acc: 0.8806\n",
      "Epoch 44/60\n",
      "2061/2061 - 1s - loss: 0.1627 - acc: 0.8879\n",
      "Epoch 45/60\n",
      "2061/2061 - 1s - loss: 0.1661 - acc: 0.8753\n",
      "Epoch 46/60\n",
      "2061/2061 - 1s - loss: 0.1660 - acc: 0.8802\n",
      "Epoch 47/60\n",
      "2061/2061 - 1s - loss: 0.1618 - acc: 0.8884\n",
      "Epoch 48/60\n",
      "2061/2061 - 1s - loss: 0.1667 - acc: 0.8840\n",
      "Epoch 49/60\n",
      "2061/2061 - 1s - loss: 0.1630 - acc: 0.8850\n",
      "Epoch 50/60\n",
      "2061/2061 - 1s - loss: 0.1612 - acc: 0.8802\n",
      "Epoch 51/60\n",
      "2061/2061 - 1s - loss: 0.1579 - acc: 0.8913\n",
      "Epoch 52/60\n",
      "2061/2061 - 1s - loss: 0.1608 - acc: 0.8903\n",
      "Epoch 53/60\n",
      "2061/2061 - 1s - loss: 0.1622 - acc: 0.8826\n",
      "Epoch 54/60\n",
      "2061/2061 - 1s - loss: 0.1631 - acc: 0.8831\n",
      "Epoch 55/60\n",
      "2061/2061 - 1s - loss: 0.1615 - acc: 0.8894\n",
      "Epoch 56/60\n",
      "2061/2061 - 1s - loss: 0.1583 - acc: 0.8831\n",
      "Epoch 57/60\n",
      "2061/2061 - 1s - loss: 0.1590 - acc: 0.8937\n",
      "Epoch 58/60\n",
      "2061/2061 - 1s - loss: 0.1583 - acc: 0.8908\n",
      "Epoch 59/60\n",
      "2061/2061 - 1s - loss: 0.1560 - acc: 0.8942\n",
      "Epoch 60/60\n",
      "2061/2061 - 1s - loss: 0.1569 - acc: 0.8908\n"
     ]
    },
    {
     "data": {
      "text/plain": [
       "<tensorflow.python.keras.callbacks.History at 0x1a4265dc50>"
      ]
     },
     "execution_count": 24,
     "metadata": {},
     "output_type": "execute_result"
    }
   ],
   "source": [
    "model.fit(\n",
    "    X_train_scaled,\n",
    "    y_train_categorical,\n",
    "    epochs=60,\n",
    "    shuffle=True,\n",
    "    verbose=2\n",
    ")"
   ]
  },
  {
   "cell_type": "markdown",
   "metadata": {},
   "source": [
    "# Quantify our Trained Model"
   ]
  },
  {
   "cell_type": "code",
   "execution_count": 25,
   "metadata": {},
   "outputs": [
    {
     "name": "stdout",
     "output_type": "stream",
     "text": [
      "688/688 [==============================] - 0s 288us/sample - loss: 1.6489 - acc: 0.7456\n",
      "Normal Neural Network - Loss: 1.6489346831343894, Accuracy: 0.7456395626068115\n"
     ]
    }
   ],
   "source": [
    "model_loss, model_accuracy = model.evaluate(\n",
    "    X_test_scaled, y_test_categorical, verbose=1)\n",
    "print(\n",
    "    f\"Normal Neural Network - Loss: {model_loss}, Accuracy: {model_accuracy}\")"
   ]
  },
  {
   "cell_type": "code",
   "execution_count": 31,
   "metadata": {},
   "outputs": [],
   "source": [
    "y_pred = model.predict(X_test_scaled)\n",
    "#Converting predictions to label\n",
    "pred = list()\n",
    "for i in range(len(y_pred)):\n",
    "    pred.append(np.argmax(y_pred[i]))\n",
    "#Converting one hot encoded test label to label\n",
    "test = list()\n",
    "for i in range(len(y_test_categorical)):\n",
    "    test.append(np.argmax(y_test_categorical[i]))"
   ]
  },
  {
   "cell_type": "code",
   "execution_count": 32,
   "metadata": {},
   "outputs": [
    {
     "name": "stdout",
     "output_type": "stream",
     "text": [
      "Accuracy is: 74.56395348837209\n"
     ]
    }
   ],
   "source": [
    "from sklearn.metrics import accuracy_score\n",
    "a = accuracy_score(pred,test)\n",
    "print('Accuracy is:', a*100)"
   ]
  },
  {
   "cell_type": "markdown",
   "metadata": {},
   "source": [
    "# Make Predictions"
   ]
  },
  {
   "cell_type": "code",
   "execution_count": 28,
   "metadata": {},
   "outputs": [],
   "source": [
    "encoded_predictions = model.predict_classes(X_test_scaled[:5])\n",
    "prediction_labels = label_encoder.inverse_transform(encoded_predictions)"
   ]
  },
  {
   "cell_type": "code",
   "execution_count": 29,
   "metadata": {},
   "outputs": [
    {
     "name": "stdout",
     "output_type": "stream",
     "text": [
      "Predicted classes: [' Card Club' ' Tribal Authorized Casino' ' Tribal Authorized Casino'\n",
      " ' State Licensed Casino' ' Card Club']\n",
      "Actual Labels: [array([' Card Club'], dtype=object), array([' Tribal Authorized Casino'], dtype=object), array([' Tribal Authorized Casino'], dtype=object), array([' Tribal Authorized Casino'], dtype=object)]\n"
     ]
    }
   ],
   "source": [
    "print(f\"Predicted classes: {prediction_labels}\")\n",
    "print(f\"Actual Labels: {list(y_test[:4])}\")"
   ]
  },
  {
   "cell_type": "code",
   "execution_count": null,
   "metadata": {},
   "outputs": [],
   "source": []
  },
  {
   "cell_type": "code",
   "execution_count": null,
   "metadata": {},
   "outputs": [],
   "source": []
  }
 ],
 "metadata": {
  "kernelspec": {
   "display_name": "Python 3",
   "language": "python",
   "name": "python3"
  },
  "language_info": {
   "codemirror_mode": {
    "name": "ipython",
    "version": 3
   },
   "file_extension": ".py",
   "mimetype": "text/x-python",
   "name": "python",
   "nbconvert_exporter": "python",
   "pygments_lexer": "ipython3",
   "version": "3.7.4"
  }
 },
 "nbformat": 4,
 "nbformat_minor": 4
}
