{
 "cells": [
  {
   "cell_type": "code",
   "execution_count": 1,
   "metadata": {},
   "outputs": [],
   "source": [
    "import matplotlib.pyplot as plt\n",
    "import numpy as np\n",
    "import pandas as pd"
   ]
  },
  {
   "cell_type": "markdown",
   "metadata": {},
   "source": [
    "# Neural Networks with Keras"
   ]
  },
  {
   "cell_type": "code",
   "execution_count": 2,
   "metadata": {},
   "outputs": [],
   "source": [
    "from numpy.random import seed\n",
    "seed(1)"
   ]
  },
  {
   "cell_type": "code",
   "execution_count": 3,
   "metadata": {},
   "outputs": [
    {
     "data": {
      "text/html": [
       "<div>\n",
       "<style scoped>\n",
       "    .dataframe tbody tr th:only-of-type {\n",
       "        vertical-align: middle;\n",
       "    }\n",
       "\n",
       "    .dataframe tbody tr th {\n",
       "        vertical-align: top;\n",
       "    }\n",
       "\n",
       "    .dataframe thead th {\n",
       "        text-align: right;\n",
       "    }\n",
       "</style>\n",
       "<table border=\"1\" class=\"dataframe\">\n",
       "  <thead>\n",
       "    <tr style=\"text-align: right;\">\n",
       "      <th></th>\n",
       "      <th>Id</th>\n",
       "      <th>Year</th>\n",
       "      <th>State</th>\n",
       "      <th>Countym</th>\n",
       "      <th>Industry</th>\n",
       "      <th>Suspicious Activity</th>\n",
       "      <th>Count</th>\n",
       "      <th>Lat</th>\n",
       "      <th>Long</th>\n",
       "    </tr>\n",
       "  </thead>\n",
       "  <tbody>\n",
       "    <tr>\n",
       "      <th>0</th>\n",
       "      <td>0</td>\n",
       "      <td>2014</td>\n",
       "      <td>Arizona</td>\n",
       "      <td>Coconino County</td>\n",
       "      <td>Tribal Authorized Casino</td>\n",
       "      <td>Alters or Cancels Transaction to Avoid CTR Req...</td>\n",
       "      <td>1</td>\n",
       "      <td>35.829692</td>\n",
       "      <td>-111.773728</td>\n",
       "    </tr>\n",
       "    <tr>\n",
       "      <th>1</th>\n",
       "      <td>1</td>\n",
       "      <td>2014</td>\n",
       "      <td>Arizona</td>\n",
       "      <td>Coconino County</td>\n",
       "      <td>Tribal Authorized Casino</td>\n",
       "      <td>Exchanges Small Bills for Large Bills or Vice ...</td>\n",
       "      <td>1</td>\n",
       "      <td>35.829692</td>\n",
       "      <td>-111.773728</td>\n",
       "    </tr>\n",
       "    <tr>\n",
       "      <th>2</th>\n",
       "      <td>2</td>\n",
       "      <td>2014</td>\n",
       "      <td>Arizona</td>\n",
       "      <td>Coconino County</td>\n",
       "      <td>Tribal Authorized Casino</td>\n",
       "      <td>Other Structuring</td>\n",
       "      <td>1</td>\n",
       "      <td>35.829692</td>\n",
       "      <td>-111.773728</td>\n",
       "    </tr>\n",
       "    <tr>\n",
       "      <th>3</th>\n",
       "      <td>3</td>\n",
       "      <td>2014</td>\n",
       "      <td>Arizona</td>\n",
       "      <td>Coconino County</td>\n",
       "      <td>Tribal Authorized Casino</td>\n",
       "      <td>Provided Questionable or False Documentation</td>\n",
       "      <td>1</td>\n",
       "      <td>35.829692</td>\n",
       "      <td>-111.773728</td>\n",
       "    </tr>\n",
       "    <tr>\n",
       "      <th>4</th>\n",
       "      <td>4</td>\n",
       "      <td>2016</td>\n",
       "      <td>Arizona</td>\n",
       "      <td>Coconino County</td>\n",
       "      <td>Tribal Authorized Casino</td>\n",
       "      <td>Account Takeover</td>\n",
       "      <td>1</td>\n",
       "      <td>35.829692</td>\n",
       "      <td>-111.773728</td>\n",
       "    </tr>\n",
       "  </tbody>\n",
       "</table>\n",
       "</div>"
      ],
      "text/plain": [
       "   Id  Year    State          Countym                   Industry  \\\n",
       "0   0  2014  Arizona  Coconino County   Tribal Authorized Casino   \n",
       "1   1  2014  Arizona  Coconino County   Tribal Authorized Casino   \n",
       "2   2  2014  Arizona  Coconino County   Tribal Authorized Casino   \n",
       "3   3  2014  Arizona  Coconino County   Tribal Authorized Casino   \n",
       "4   4  2016  Arizona  Coconino County   Tribal Authorized Casino   \n",
       "\n",
       "                                 Suspicious Activity Count        Lat  \\\n",
       "0  Alters or Cancels Transaction to Avoid CTR Req...     1  35.829692   \n",
       "1  Exchanges Small Bills for Large Bills or Vice ...     1  35.829692   \n",
       "2                                  Other Structuring     1  35.829692   \n",
       "3       Provided Questionable or False Documentation     1  35.829692   \n",
       "4                                   Account Takeover     1  35.829692   \n",
       "\n",
       "         Long  \n",
       "0 -111.773728  \n",
       "1 -111.773728  \n",
       "2 -111.773728  \n",
       "3 -111.773728  \n",
       "4 -111.773728  "
      ]
     },
     "execution_count": 3,
     "metadata": {},
     "output_type": "execute_result"
    }
   ],
   "source": [
    "df = pd.read_csv('casino_crime.csv')\n",
    "df.head()"
   ]
  },
  {
   "cell_type": "code",
   "execution_count": 4,
   "metadata": {},
   "outputs": [],
   "source": [
    "df['Count'] = df['Count'].str.replace(',', '').astype(float).astype(int)"
   ]
  },
  {
   "cell_type": "code",
   "execution_count": 5,
   "metadata": {},
   "outputs": [
    {
     "data": {
      "text/html": [
       "<div>\n",
       "<style scoped>\n",
       "    .dataframe tbody tr th:only-of-type {\n",
       "        vertical-align: middle;\n",
       "    }\n",
       "\n",
       "    .dataframe tbody tr th {\n",
       "        vertical-align: top;\n",
       "    }\n",
       "\n",
       "    .dataframe thead th {\n",
       "        text-align: right;\n",
       "    }\n",
       "</style>\n",
       "<table border=\"1\" class=\"dataframe\">\n",
       "  <thead>\n",
       "    <tr style=\"text-align: right;\">\n",
       "      <th></th>\n",
       "      <th>Year</th>\n",
       "      <th>State</th>\n",
       "      <th>Countym</th>\n",
       "      <th>Industry</th>\n",
       "      <th>Suspicious Activity</th>\n",
       "      <th>Count</th>\n",
       "    </tr>\n",
       "  </thead>\n",
       "  <tbody>\n",
       "    <tr>\n",
       "      <th>0</th>\n",
       "      <td>2014</td>\n",
       "      <td>Arizona</td>\n",
       "      <td>Coconino County</td>\n",
       "      <td>Tribal Authorized Casino</td>\n",
       "      <td>Alters or Cancels Transaction to Avoid CTR Req...</td>\n",
       "      <td>1</td>\n",
       "    </tr>\n",
       "    <tr>\n",
       "      <th>1</th>\n",
       "      <td>2014</td>\n",
       "      <td>Arizona</td>\n",
       "      <td>Coconino County</td>\n",
       "      <td>Tribal Authorized Casino</td>\n",
       "      <td>Exchanges Small Bills for Large Bills or Vice ...</td>\n",
       "      <td>1</td>\n",
       "    </tr>\n",
       "    <tr>\n",
       "      <th>2</th>\n",
       "      <td>2014</td>\n",
       "      <td>Arizona</td>\n",
       "      <td>Coconino County</td>\n",
       "      <td>Tribal Authorized Casino</td>\n",
       "      <td>Other Structuring</td>\n",
       "      <td>1</td>\n",
       "    </tr>\n",
       "    <tr>\n",
       "      <th>3</th>\n",
       "      <td>2014</td>\n",
       "      <td>Arizona</td>\n",
       "      <td>Coconino County</td>\n",
       "      <td>Tribal Authorized Casino</td>\n",
       "      <td>Provided Questionable or False Documentation</td>\n",
       "      <td>1</td>\n",
       "    </tr>\n",
       "    <tr>\n",
       "      <th>4</th>\n",
       "      <td>2016</td>\n",
       "      <td>Arizona</td>\n",
       "      <td>Coconino County</td>\n",
       "      <td>Tribal Authorized Casino</td>\n",
       "      <td>Account Takeover</td>\n",
       "      <td>1</td>\n",
       "    </tr>\n",
       "  </tbody>\n",
       "</table>\n",
       "</div>"
      ],
      "text/plain": [
       "   Year    State          Countym                   Industry  \\\n",
       "0  2014  Arizona  Coconino County   Tribal Authorized Casino   \n",
       "1  2014  Arizona  Coconino County   Tribal Authorized Casino   \n",
       "2  2014  Arizona  Coconino County   Tribal Authorized Casino   \n",
       "3  2014  Arizona  Coconino County   Tribal Authorized Casino   \n",
       "4  2016  Arizona  Coconino County   Tribal Authorized Casino   \n",
       "\n",
       "                                 Suspicious Activity  Count  \n",
       "0  Alters or Cancels Transaction to Avoid CTR Req...      1  \n",
       "1  Exchanges Small Bills for Large Bills or Vice ...      1  \n",
       "2                                  Other Structuring      1  \n",
       "3       Provided Questionable or False Documentation      1  \n",
       "4                                   Account Takeover      1  "
      ]
     },
     "execution_count": 5,
     "metadata": {},
     "output_type": "execute_result"
    }
   ],
   "source": [
    "data = df[['Year','State', 'Countym','Industry', 'Suspicious Activity', 'Count']]\n",
    "\n",
    "data.head()"
   ]
  },
  {
   "cell_type": "code",
   "execution_count": 6,
   "metadata": {},
   "outputs": [],
   "source": [
    "# data['Suspicious Activity'].unique()"
   ]
  },
  {
   "cell_type": "code",
   "execution_count": 7,
   "metadata": {},
   "outputs": [
    {
     "data": {
      "text/plain": [
       "Year                    int64\n",
       "Suspicious Activity    object\n",
       "State                  object\n",
       "Countym                object\n",
       "Industry               object\n",
       "Count                   int64\n",
       "dtype: object"
      ]
     },
     "execution_count": 7,
     "metadata": {},
     "output_type": "execute_result"
    }
   ],
   "source": [
    "activity = data.groupby(['Year','Suspicious Activity', 'State', 'Countym','Industry'])['Count'].sum().reset_index()\n",
    "activity.dtypes"
   ]
  },
  {
   "cell_type": "code",
   "execution_count": 8,
   "metadata": {},
   "outputs": [
    {
     "data": {
      "text/html": [
       "<div>\n",
       "<style scoped>\n",
       "    .dataframe tbody tr th:only-of-type {\n",
       "        vertical-align: middle;\n",
       "    }\n",
       "\n",
       "    .dataframe tbody tr th {\n",
       "        vertical-align: top;\n",
       "    }\n",
       "\n",
       "    .dataframe thead th {\n",
       "        text-align: right;\n",
       "    }\n",
       "</style>\n",
       "<table border=\"1\" class=\"dataframe\">\n",
       "  <thead>\n",
       "    <tr style=\"text-align: right;\">\n",
       "      <th></th>\n",
       "      <th>Year</th>\n",
       "      <th>Suspicious Activity</th>\n",
       "      <th>State</th>\n",
       "      <th>Countym</th>\n",
       "      <th>Industry</th>\n",
       "      <th>Count</th>\n",
       "    </tr>\n",
       "  </thead>\n",
       "  <tbody>\n",
       "    <tr>\n",
       "      <th>0</th>\n",
       "      <td>2014</td>\n",
       "      <td>Account Takeover</td>\n",
       "      <td>Arizona</td>\n",
       "      <td>Maricopa County</td>\n",
       "      <td>Tribal Authorized Casino</td>\n",
       "      <td>11</td>\n",
       "    </tr>\n",
       "    <tr>\n",
       "      <th>1</th>\n",
       "      <td>2014</td>\n",
       "      <td>Account Takeover</td>\n",
       "      <td>Arizona</td>\n",
       "      <td>Pinal County</td>\n",
       "      <td>Tribal Authorized Casino</td>\n",
       "      <td>6</td>\n",
       "    </tr>\n",
       "    <tr>\n",
       "      <th>2</th>\n",
       "      <td>2014</td>\n",
       "      <td>Account Takeover</td>\n",
       "      <td>California</td>\n",
       "      <td>Contra Costa County</td>\n",
       "      <td>Card Club</td>\n",
       "      <td>1</td>\n",
       "    </tr>\n",
       "    <tr>\n",
       "      <th>3</th>\n",
       "      <td>2014</td>\n",
       "      <td>Account Takeover</td>\n",
       "      <td>California</td>\n",
       "      <td>Orange County</td>\n",
       "      <td>Tribal Authorized Casino</td>\n",
       "      <td>1</td>\n",
       "    </tr>\n",
       "    <tr>\n",
       "      <th>4</th>\n",
       "      <td>2014</td>\n",
       "      <td>Account Takeover</td>\n",
       "      <td>California</td>\n",
       "      <td>Placer County</td>\n",
       "      <td>Tribal Authorized Casino</td>\n",
       "      <td>8</td>\n",
       "    </tr>\n",
       "  </tbody>\n",
       "</table>\n",
       "</div>"
      ],
      "text/plain": [
       "   Year Suspicious Activity       State              Countym  \\\n",
       "0  2014    Account Takeover     Arizona      Maricopa County   \n",
       "1  2014    Account Takeover     Arizona         Pinal County   \n",
       "2  2014    Account Takeover  California  Contra Costa County   \n",
       "3  2014    Account Takeover  California        Orange County   \n",
       "4  2014    Account Takeover  California        Placer County   \n",
       "\n",
       "                    Industry  Count  \n",
       "0   Tribal Authorized Casino     11  \n",
       "1   Tribal Authorized Casino      6  \n",
       "2                  Card Club      1  \n",
       "3   Tribal Authorized Casino      1  \n",
       "4   Tribal Authorized Casino      8  "
      ]
     },
     "execution_count": 8,
     "metadata": {},
     "output_type": "execute_result"
    }
   ],
   "source": [
    "activity.head()"
   ]
  },
  {
   "cell_type": "code",
   "execution_count": 9,
   "metadata": {},
   "outputs": [],
   "source": [
    "# activity['Countym'].value_counts()"
   ]
  },
  {
   "cell_type": "code",
   "execution_count": 10,
   "metadata": {},
   "outputs": [],
   "source": [
    "# activity['Suspicious Activity'] = activity['Suspicious Activity'].replace(\n",
    "#     {'Other Other Suspicious Activities': 'Diff Suspicious Activities'})"
   ]
  },
  {
   "cell_type": "code",
   "execution_count": 11,
   "metadata": {},
   "outputs": [],
   "source": [
    "# activity['Suspicious Activity'].value_counts()"
   ]
  },
  {
   "cell_type": "code",
   "execution_count": 12,
   "metadata": {},
   "outputs": [
    {
     "data": {
      "text/html": [
       "<div>\n",
       "<style scoped>\n",
       "    .dataframe tbody tr th:only-of-type {\n",
       "        vertical-align: middle;\n",
       "    }\n",
       "\n",
       "    .dataframe tbody tr th {\n",
       "        vertical-align: top;\n",
       "    }\n",
       "\n",
       "    .dataframe thead th {\n",
       "        text-align: right;\n",
       "    }\n",
       "</style>\n",
       "<table border=\"1\" class=\"dataframe\">\n",
       "  <thead>\n",
       "    <tr style=\"text-align: right;\">\n",
       "      <th></th>\n",
       "      <th>Industry</th>\n",
       "      <th>Count</th>\n",
       "      <th>Year_2014</th>\n",
       "      <th>Year_2015</th>\n",
       "      <th>Year_2016</th>\n",
       "      <th>Year_2017</th>\n",
       "      <th>Year_2018</th>\n",
       "      <th>Year_2019</th>\n",
       "      <th>State_Arizona</th>\n",
       "      <th>State_California</th>\n",
       "      <th>...</th>\n",
       "      <th>Suspicious Activity_Transaction Out of Pattern for Customer(s)</th>\n",
       "      <th>Suspicious Activity_Transaction with No Apparent Economic, Business, or Lawful Purpose</th>\n",
       "      <th>Suspicious Activity_Transaction(s) Below BSA Recordkeeping Threshold</th>\n",
       "      <th>Suspicious Activity_Transaction(s) Below CTR Threshold</th>\n",
       "      <th>Suspicious Activity_Transaction(s) Involving Foreign High Risk Jurisdiction</th>\n",
       "      <th>Suspicious Activity_Two or More Individuals Working Together</th>\n",
       "      <th>Suspicious Activity_Unauthorized Electronic Intrusion</th>\n",
       "      <th>Suspicious Activity_Unknown Source of Chips</th>\n",
       "      <th>Suspicious Activity_Unlicensed or Unregistered MSB</th>\n",
       "      <th>Suspicious Activity_Wire</th>\n",
       "    </tr>\n",
       "  </thead>\n",
       "  <tbody>\n",
       "    <tr>\n",
       "      <th>0</th>\n",
       "      <td>Tribal Authorized Casino</td>\n",
       "      <td>11</td>\n",
       "      <td>1</td>\n",
       "      <td>0</td>\n",
       "      <td>0</td>\n",
       "      <td>0</td>\n",
       "      <td>0</td>\n",
       "      <td>0</td>\n",
       "      <td>1</td>\n",
       "      <td>0</td>\n",
       "      <td>...</td>\n",
       "      <td>0</td>\n",
       "      <td>0</td>\n",
       "      <td>0</td>\n",
       "      <td>0</td>\n",
       "      <td>0</td>\n",
       "      <td>0</td>\n",
       "      <td>0</td>\n",
       "      <td>0</td>\n",
       "      <td>0</td>\n",
       "      <td>0</td>\n",
       "    </tr>\n",
       "    <tr>\n",
       "      <th>1</th>\n",
       "      <td>Tribal Authorized Casino</td>\n",
       "      <td>6</td>\n",
       "      <td>1</td>\n",
       "      <td>0</td>\n",
       "      <td>0</td>\n",
       "      <td>0</td>\n",
       "      <td>0</td>\n",
       "      <td>0</td>\n",
       "      <td>1</td>\n",
       "      <td>0</td>\n",
       "      <td>...</td>\n",
       "      <td>0</td>\n",
       "      <td>0</td>\n",
       "      <td>0</td>\n",
       "      <td>0</td>\n",
       "      <td>0</td>\n",
       "      <td>0</td>\n",
       "      <td>0</td>\n",
       "      <td>0</td>\n",
       "      <td>0</td>\n",
       "      <td>0</td>\n",
       "    </tr>\n",
       "    <tr>\n",
       "      <th>2</th>\n",
       "      <td>Card Club</td>\n",
       "      <td>1</td>\n",
       "      <td>1</td>\n",
       "      <td>0</td>\n",
       "      <td>0</td>\n",
       "      <td>0</td>\n",
       "      <td>0</td>\n",
       "      <td>0</td>\n",
       "      <td>0</td>\n",
       "      <td>1</td>\n",
       "      <td>...</td>\n",
       "      <td>0</td>\n",
       "      <td>0</td>\n",
       "      <td>0</td>\n",
       "      <td>0</td>\n",
       "      <td>0</td>\n",
       "      <td>0</td>\n",
       "      <td>0</td>\n",
       "      <td>0</td>\n",
       "      <td>0</td>\n",
       "      <td>0</td>\n",
       "    </tr>\n",
       "    <tr>\n",
       "      <th>3</th>\n",
       "      <td>Tribal Authorized Casino</td>\n",
       "      <td>1</td>\n",
       "      <td>1</td>\n",
       "      <td>0</td>\n",
       "      <td>0</td>\n",
       "      <td>0</td>\n",
       "      <td>0</td>\n",
       "      <td>0</td>\n",
       "      <td>0</td>\n",
       "      <td>1</td>\n",
       "      <td>...</td>\n",
       "      <td>0</td>\n",
       "      <td>0</td>\n",
       "      <td>0</td>\n",
       "      <td>0</td>\n",
       "      <td>0</td>\n",
       "      <td>0</td>\n",
       "      <td>0</td>\n",
       "      <td>0</td>\n",
       "      <td>0</td>\n",
       "      <td>0</td>\n",
       "    </tr>\n",
       "    <tr>\n",
       "      <th>4</th>\n",
       "      <td>Tribal Authorized Casino</td>\n",
       "      <td>8</td>\n",
       "      <td>1</td>\n",
       "      <td>0</td>\n",
       "      <td>0</td>\n",
       "      <td>0</td>\n",
       "      <td>0</td>\n",
       "      <td>0</td>\n",
       "      <td>0</td>\n",
       "      <td>1</td>\n",
       "      <td>...</td>\n",
       "      <td>0</td>\n",
       "      <td>0</td>\n",
       "      <td>0</td>\n",
       "      <td>0</td>\n",
       "      <td>0</td>\n",
       "      <td>0</td>\n",
       "      <td>0</td>\n",
       "      <td>0</td>\n",
       "      <td>0</td>\n",
       "      <td>0</td>\n",
       "    </tr>\n",
       "  </tbody>\n",
       "</table>\n",
       "<p>5 rows × 206 columns</p>\n",
       "</div>"
      ],
      "text/plain": [
       "                    Industry  Count  Year_2014  Year_2015  Year_2016  \\\n",
       "0   Tribal Authorized Casino     11          1          0          0   \n",
       "1   Tribal Authorized Casino      6          1          0          0   \n",
       "2                  Card Club      1          1          0          0   \n",
       "3   Tribal Authorized Casino      1          1          0          0   \n",
       "4   Tribal Authorized Casino      8          1          0          0   \n",
       "\n",
       "   Year_2017  Year_2018  Year_2019  State_Arizona  State_California  ...  \\\n",
       "0          0          0          0              1                 0  ...   \n",
       "1          0          0          0              1                 0  ...   \n",
       "2          0          0          0              0                 1  ...   \n",
       "3          0          0          0              0                 1  ...   \n",
       "4          0          0          0              0                 1  ...   \n",
       "\n",
       "   Suspicious Activity_Transaction Out of Pattern for Customer(s)  \\\n",
       "0                                                  0                \n",
       "1                                                  0                \n",
       "2                                                  0                \n",
       "3                                                  0                \n",
       "4                                                  0                \n",
       "\n",
       "   Suspicious Activity_Transaction with No Apparent Economic, Business, or Lawful Purpose  \\\n",
       "0                                                  0                                        \n",
       "1                                                  0                                        \n",
       "2                                                  0                                        \n",
       "3                                                  0                                        \n",
       "4                                                  0                                        \n",
       "\n",
       "   Suspicious Activity_Transaction(s) Below BSA Recordkeeping Threshold  \\\n",
       "0                                                  0                      \n",
       "1                                                  0                      \n",
       "2                                                  0                      \n",
       "3                                                  0                      \n",
       "4                                                  0                      \n",
       "\n",
       "   Suspicious Activity_Transaction(s) Below CTR Threshold  \\\n",
       "0                                                  0        \n",
       "1                                                  0        \n",
       "2                                                  0        \n",
       "3                                                  0        \n",
       "4                                                  0        \n",
       "\n",
       "   Suspicious Activity_Transaction(s) Involving Foreign High Risk Jurisdiction  \\\n",
       "0                                                  0                             \n",
       "1                                                  0                             \n",
       "2                                                  0                             \n",
       "3                                                  0                             \n",
       "4                                                  0                             \n",
       "\n",
       "   Suspicious Activity_Two or More Individuals Working Together  \\\n",
       "0                                                  0              \n",
       "1                                                  0              \n",
       "2                                                  0              \n",
       "3                                                  0              \n",
       "4                                                  0              \n",
       "\n",
       "   Suspicious Activity_Unauthorized Electronic Intrusion  \\\n",
       "0                                                  0       \n",
       "1                                                  0       \n",
       "2                                                  0       \n",
       "3                                                  0       \n",
       "4                                                  0       \n",
       "\n",
       "   Suspicious Activity_Unknown Source of Chips  \\\n",
       "0                                            0   \n",
       "1                                            0   \n",
       "2                                            0   \n",
       "3                                            0   \n",
       "4                                            0   \n",
       "\n",
       "   Suspicious Activity_Unlicensed or Unregistered MSB  \\\n",
       "0                                                  0    \n",
       "1                                                  0    \n",
       "2                                                  0    \n",
       "3                                                  0    \n",
       "4                                                  0    \n",
       "\n",
       "   Suspicious Activity_Wire  \n",
       "0                         0  \n",
       "1                         0  \n",
       "2                         0  \n",
       "3                         0  \n",
       "4                         0  \n",
       "\n",
       "[5 rows x 206 columns]"
      ]
     },
     "execution_count": 12,
     "metadata": {},
     "output_type": "execute_result"
    }
   ],
   "source": [
    "activity = pd.get_dummies(activity, columns=['Year','State', 'Countym', 'Suspicious Activity'])\n",
    "activity.head()"
   ]
  },
  {
   "cell_type": "markdown",
   "metadata": {},
   "source": [
    "# Data Pre-Processing"
   ]
  },
  {
   "cell_type": "markdown",
   "metadata": {},
   "source": [
    "It is really important to scale our data before using multilayer perceptron models.\n",
    "\n",
    "Without scaling, it is often difficult for the training cycle to converge"
   ]
  },
  {
   "cell_type": "code",
   "execution_count": 13,
   "metadata": {},
   "outputs": [
    {
     "name": "stdout",
     "output_type": "stream",
     "text": [
      "(7231, 205) (7231, 1)\n"
     ]
    }
   ],
   "source": [
    "X = activity.drop(columns = ['Industry'])\n",
    "y = activity['Industry'].values.reshape(-1, 1)\n",
    "print(X.shape, y.shape)"
   ]
  },
  {
   "cell_type": "code",
   "execution_count": 14,
   "metadata": {},
   "outputs": [
    {
     "name": "stderr",
     "output_type": "stream",
     "text": [
      "/opt/anaconda3/lib/python3.7/site-packages/tensorflow/python/framework/dtypes.py:516: FutureWarning: Passing (type, 1) or '1type' as a synonym of type is deprecated; in a future version of numpy, it will be understood as (type, (1,)) / '(1,)type'.\n",
      "  _np_qint8 = np.dtype([(\"qint8\", np.int8, 1)])\n",
      "/opt/anaconda3/lib/python3.7/site-packages/tensorflow/python/framework/dtypes.py:517: FutureWarning: Passing (type, 1) or '1type' as a synonym of type is deprecated; in a future version of numpy, it will be understood as (type, (1,)) / '(1,)type'.\n",
      "  _np_quint8 = np.dtype([(\"quint8\", np.uint8, 1)])\n",
      "/opt/anaconda3/lib/python3.7/site-packages/tensorflow/python/framework/dtypes.py:518: FutureWarning: Passing (type, 1) or '1type' as a synonym of type is deprecated; in a future version of numpy, it will be understood as (type, (1,)) / '(1,)type'.\n",
      "  _np_qint16 = np.dtype([(\"qint16\", np.int16, 1)])\n",
      "/opt/anaconda3/lib/python3.7/site-packages/tensorflow/python/framework/dtypes.py:519: FutureWarning: Passing (type, 1) or '1type' as a synonym of type is deprecated; in a future version of numpy, it will be understood as (type, (1,)) / '(1,)type'.\n",
      "  _np_quint16 = np.dtype([(\"quint16\", np.uint16, 1)])\n",
      "/opt/anaconda3/lib/python3.7/site-packages/tensorflow/python/framework/dtypes.py:520: FutureWarning: Passing (type, 1) or '1type' as a synonym of type is deprecated; in a future version of numpy, it will be understood as (type, (1,)) / '(1,)type'.\n",
      "  _np_qint32 = np.dtype([(\"qint32\", np.int32, 1)])\n",
      "/opt/anaconda3/lib/python3.7/site-packages/tensorflow/python/framework/dtypes.py:525: FutureWarning: Passing (type, 1) or '1type' as a synonym of type is deprecated; in a future version of numpy, it will be understood as (type, (1,)) / '(1,)type'.\n",
      "  np_resource = np.dtype([(\"resource\", np.ubyte, 1)])\n",
      "/opt/anaconda3/lib/python3.7/site-packages/tensorboard/compat/tensorflow_stub/dtypes.py:541: FutureWarning: Passing (type, 1) or '1type' as a synonym of type is deprecated; in a future version of numpy, it will be understood as (type, (1,)) / '(1,)type'.\n",
      "  _np_qint8 = np.dtype([(\"qint8\", np.int8, 1)])\n",
      "/opt/anaconda3/lib/python3.7/site-packages/tensorboard/compat/tensorflow_stub/dtypes.py:542: FutureWarning: Passing (type, 1) or '1type' as a synonym of type is deprecated; in a future version of numpy, it will be understood as (type, (1,)) / '(1,)type'.\n",
      "  _np_quint8 = np.dtype([(\"quint8\", np.uint8, 1)])\n",
      "/opt/anaconda3/lib/python3.7/site-packages/tensorboard/compat/tensorflow_stub/dtypes.py:543: FutureWarning: Passing (type, 1) or '1type' as a synonym of type is deprecated; in a future version of numpy, it will be understood as (type, (1,)) / '(1,)type'.\n",
      "  _np_qint16 = np.dtype([(\"qint16\", np.int16, 1)])\n",
      "/opt/anaconda3/lib/python3.7/site-packages/tensorboard/compat/tensorflow_stub/dtypes.py:544: FutureWarning: Passing (type, 1) or '1type' as a synonym of type is deprecated; in a future version of numpy, it will be understood as (type, (1,)) / '(1,)type'.\n",
      "  _np_quint16 = np.dtype([(\"quint16\", np.uint16, 1)])\n",
      "/opt/anaconda3/lib/python3.7/site-packages/tensorboard/compat/tensorflow_stub/dtypes.py:545: FutureWarning: Passing (type, 1) or '1type' as a synonym of type is deprecated; in a future version of numpy, it will be understood as (type, (1,)) / '(1,)type'.\n",
      "  _np_qint32 = np.dtype([(\"qint32\", np.int32, 1)])\n",
      "/opt/anaconda3/lib/python3.7/site-packages/tensorboard/compat/tensorflow_stub/dtypes.py:550: FutureWarning: Passing (type, 1) or '1type' as a synonym of type is deprecated; in a future version of numpy, it will be understood as (type, (1,)) / '(1,)type'.\n",
      "  np_resource = np.dtype([(\"resource\", np.ubyte, 1)])\n"
     ]
    }
   ],
   "source": [
    "from sklearn.model_selection import train_test_split\n",
    "from sklearn.preprocessing import LabelEncoder, MinMaxScaler\n",
    "from tensorflow.keras.utils import to_categorical"
   ]
  },
  {
   "cell_type": "code",
   "execution_count": 15,
   "metadata": {},
   "outputs": [],
   "source": [
    "X_train, X_test, y_train, y_test = train_test_split(\n",
    "    X, y, random_state=1)"
   ]
  },
  {
   "cell_type": "code",
   "execution_count": 16,
   "metadata": {},
   "outputs": [],
   "source": [
    "# y_test"
   ]
  },
  {
   "cell_type": "code",
   "execution_count": 17,
   "metadata": {},
   "outputs": [],
   "source": [
    "X_scaler = MinMaxScaler().fit(X_train)\n",
    "X_train_scaled = X_scaler.transform(X_train)\n",
    "X_test_scaled = X_scaler.transform(X_test)"
   ]
  },
  {
   "cell_type": "code",
   "execution_count": 18,
   "metadata": {},
   "outputs": [
    {
     "name": "stderr",
     "output_type": "stream",
     "text": [
      "/opt/anaconda3/lib/python3.7/site-packages/sklearn/preprocessing/_label.py:235: DataConversionWarning: A column-vector y was passed when a 1d array was expected. Please change the shape of y to (n_samples, ), for example using ravel().\n",
      "  y = column_or_1d(y, warn=True)\n",
      "/opt/anaconda3/lib/python3.7/site-packages/sklearn/preprocessing/_label.py:268: DataConversionWarning: A column-vector y was passed when a 1d array was expected. Please change the shape of y to (n_samples, ), for example using ravel().\n",
      "  y = column_or_1d(y, warn=True)\n"
     ]
    }
   ],
   "source": [
    "# Step 1: Label-encode data set\n",
    "label_encoder = LabelEncoder()\n",
    "label_encoder.fit(y_train)\n",
    "encoded_y_train = label_encoder.transform(y_train)\n",
    "encoded_y_test = label_encoder.transform(y_test)"
   ]
  },
  {
   "cell_type": "code",
   "execution_count": 19,
   "metadata": {},
   "outputs": [],
   "source": [
    "# Step 2: Convert encoded labels to one-hot-encoding\n",
    "y_train_categorical = to_categorical(encoded_y_train)\n",
    "y_test_categorical = to_categorical(encoded_y_test)"
   ]
  },
  {
   "cell_type": "markdown",
   "metadata": {},
   "source": [
    "# Create a Deep Learning Model"
   ]
  },
  {
   "cell_type": "markdown",
   "metadata": {},
   "source": [
    "We first need to create a sequential model.\n",
    "\n",
    "Next, we add our first layer. This layer requires to specify both the number of inputs and the number of nodes that you want in the hidden layer. In our model we have 205 inputs (columns thats represent 'State', 'County', 'Suspicious Activity' and 'Year' which with the get_dumies function we converted in categorical data). \n",
    "\n",
    "Our final layer is the output layer. The output layer is mostly responsible for producing the final output results. The output layer takes the inputs which are passed in from the layers before it, and performs the calculations through its neurons and then the output is computed. Here, we need to specify the activation function (a probabilistic Activation function such as SoftMax then the output layer has one node per one class label of our model) and the number of classes (labels) that we are trying to predict (4 in this example, one for each type of Industry). \n"
   ]
  },
  {
   "cell_type": "code",
   "execution_count": 20,
   "metadata": {},
   "outputs": [],
   "source": [
    "from tensorflow.keras.models import Sequential\n",
    "from tensorflow.keras.layers import Dense"
   ]
  },
  {
   "cell_type": "code",
   "execution_count": 21,
   "metadata": {},
   "outputs": [
    {
     "name": "stdout",
     "output_type": "stream",
     "text": [
      "WARNING:tensorflow:From /opt/anaconda3/lib/python3.7/site-packages/tensorflow/python/ops/init_ops.py:1251: calling VarianceScaling.__init__ (from tensorflow.python.ops.init_ops) with dtype is deprecated and will be removed in a future version.\n",
      "Instructions for updating:\n",
      "Call initializer instance with the dtype argument instead of passing it to the constructor\n"
     ]
    }
   ],
   "source": [
    "# Create model and add layers\n",
    "model = Sequential()\n",
    "model.add(Dense(units=2000, activation='relu', input_dim=205))\n",
    "model.add(Dense(units=600, activation='relu'))\n",
    "model.add(Dense(units=4, activation='softmax'))"
   ]
  },
  {
   "cell_type": "markdown",
   "metadata": {},
   "source": [
    "# Compile the Model"
   ]
  },
  {
   "cell_type": "markdown",
   "metadata": {},
   "source": [
    "Now that we have our model architecture defined, we must compile the model using a loss function and optimizer. We can also specify additional training metrics such as accuracy. Categorical crossentropy is computed for each sample and eventually merged together – hence, the formula takes once again two inputs: prediction and target, where both are categorical.\n",
    "\n",
    "How can predictions be categorical? They cannot be converted into categorical format from numeric format, can they?\n",
    "It’s not exactly what happens. Instead of converting the data into categorical format, with categorical crossentropy we apply a categorical activation function (such as Softmax) which generates a multiclass probability distribution.\n",
    "\n",
    "That’s a difficult term which simply tells us that it outputs a vector (hence categorical format!) containing for each class the probability that the sample belongs to the class, all probabilities together being 1 (for 100%).\n",
    "Categorical crossentropy allows us to compute the loss value for multiclass classification problems – while remaining flexible with respect to the actual target class."
   ]
  },
  {
   "cell_type": "code",
   "execution_count": 22,
   "metadata": {},
   "outputs": [],
   "source": [
    "# Compile and fit the model\n",
    "model.compile(optimizer='adam',\n",
    "              loss='categorical_crossentropy',\n",
    "              metrics=['accuracy'])"
   ]
  },
  {
   "cell_type": "code",
   "execution_count": 23,
   "metadata": {},
   "outputs": [
    {
     "name": "stdout",
     "output_type": "stream",
     "text": [
      "Model: \"sequential\"\n",
      "_________________________________________________________________\n",
      "Layer (type)                 Output Shape              Param #   \n",
      "=================================================================\n",
      "dense (Dense)                (None, 2000)              412000    \n",
      "_________________________________________________________________\n",
      "dense_1 (Dense)              (None, 600)               1200600   \n",
      "_________________________________________________________________\n",
      "dense_2 (Dense)              (None, 4)                 2404      \n",
      "=================================================================\n",
      "Total params: 1,615,004\n",
      "Trainable params: 1,615,004\n",
      "Non-trainable params: 0\n",
      "_________________________________________________________________\n"
     ]
    }
   ],
   "source": [
    "model.summary()"
   ]
  },
  {
   "cell_type": "markdown",
   "metadata": {},
   "source": [
    "# Training the Model"
   ]
  },
  {
   "cell_type": "markdown",
   "metadata": {},
   "source": [
    "Finally, we train our model using our training data.\n",
    "Training consists of updating our weights using our optimizer and loss function. In this example, we choose 100 iterations (loops) of training that are called epochs.\n",
    "We also choose to shuffle our training data and increase the detail printed out during each training cycle."
   ]
  },
  {
   "cell_type": "code",
   "execution_count": 24,
   "metadata": {},
   "outputs": [
    {
     "name": "stdout",
     "output_type": "stream",
     "text": [
      "Epoch 1/60\n",
      "5423/5423 - 6s - loss: 0.3924 - acc: 0.8525\n",
      "Epoch 2/60\n",
      "5423/5423 - 6s - loss: 0.2590 - acc: 0.8877\n",
      "Epoch 3/60\n",
      "5423/5423 - 5s - loss: 0.2232 - acc: 0.8921\n",
      "Epoch 4/60\n",
      "5423/5423 - 6s - loss: 0.2001 - acc: 0.8986\n",
      "Epoch 5/60\n",
      "5423/5423 - 5s - loss: 0.1801 - acc: 0.9032\n",
      "Epoch 6/60\n",
      "5423/5423 - 5s - loss: 0.1686 - acc: 0.9113\n",
      "Epoch 7/60\n",
      "5423/5423 - 5s - loss: 0.1588 - acc: 0.9150\n",
      "Epoch 8/60\n",
      "5423/5423 - 5s - loss: 0.1498 - acc: 0.9130\n",
      "Epoch 9/60\n",
      "5423/5423 - 5s - loss: 0.1441 - acc: 0.9143\n",
      "Epoch 10/60\n",
      "5423/5423 - 6s - loss: 0.1366 - acc: 0.9218\n",
      "Epoch 11/60\n",
      "5423/5423 - 6s - loss: 0.1290 - acc: 0.9255\n",
      "Epoch 12/60\n",
      "5423/5423 - 5s - loss: 0.1251 - acc: 0.9224\n",
      "Epoch 13/60\n",
      "5423/5423 - 5s - loss: 0.1250 - acc: 0.9242\n",
      "Epoch 14/60\n",
      "5423/5423 - 5s - loss: 0.1211 - acc: 0.9279\n",
      "Epoch 15/60\n",
      "5423/5423 - 6s - loss: 0.1224 - acc: 0.9264\n",
      "Epoch 16/60\n",
      "5423/5423 - 6s - loss: 0.1183 - acc: 0.9266\n",
      "Epoch 17/60\n",
      "5423/5423 - 5s - loss: 0.1127 - acc: 0.9273\n",
      "Epoch 18/60\n",
      "5423/5423 - 5s - loss: 0.1087 - acc: 0.9309\n",
      "Epoch 19/60\n",
      "5423/5423 - 5s - loss: 0.1070 - acc: 0.9310\n",
      "Epoch 20/60\n",
      "5423/5423 - 5s - loss: 0.1064 - acc: 0.9338\n",
      "Epoch 21/60\n",
      "5423/5423 - 5s - loss: 0.1055 - acc: 0.9310\n",
      "Epoch 22/60\n",
      "5423/5423 - 6s - loss: 0.1034 - acc: 0.9301\n",
      "Epoch 23/60\n",
      "5423/5423 - 6s - loss: 0.1018 - acc: 0.9321\n",
      "Epoch 24/60\n",
      "5423/5423 - 6s - loss: 0.0994 - acc: 0.9340\n",
      "Epoch 25/60\n",
      "5423/5423 - 6s - loss: 0.1031 - acc: 0.9342\n",
      "Epoch 26/60\n",
      "5423/5423 - 6s - loss: 0.1051 - acc: 0.9336\n",
      "Epoch 27/60\n",
      "5423/5423 - 5s - loss: 0.1085 - acc: 0.9356\n",
      "Epoch 28/60\n",
      "5423/5423 - 5s - loss: 0.1079 - acc: 0.9312\n",
      "Epoch 29/60\n",
      "5423/5423 - 5s - loss: 0.0969 - acc: 0.9355\n",
      "Epoch 30/60\n",
      "5423/5423 - 5s - loss: 0.0940 - acc: 0.9362\n",
      "Epoch 31/60\n",
      "5423/5423 - 6s - loss: 0.0961 - acc: 0.9369\n",
      "Epoch 32/60\n",
      "5423/5423 - 6s - loss: 0.0966 - acc: 0.9369\n",
      "Epoch 33/60\n",
      "5423/5423 - 6s - loss: 0.0931 - acc: 0.9336\n",
      "Epoch 34/60\n",
      "5423/5423 - 6s - loss: 0.0929 - acc: 0.9371\n",
      "Epoch 35/60\n",
      "5423/5423 - 6s - loss: 0.0952 - acc: 0.9362\n",
      "Epoch 36/60\n",
      "5423/5423 - 6s - loss: 0.0930 - acc: 0.9382\n",
      "Epoch 37/60\n",
      "5423/5423 - 6s - loss: 0.0902 - acc: 0.9404\n",
      "Epoch 38/60\n",
      "5423/5423 - 6s - loss: 0.0965 - acc: 0.9380\n",
      "Epoch 39/60\n",
      "5423/5423 - 5s - loss: 0.0891 - acc: 0.9382\n",
      "Epoch 40/60\n",
      "5423/5423 - 6s - loss: 0.0891 - acc: 0.9373\n",
      "Epoch 41/60\n",
      "5423/5423 - 6s - loss: 0.0897 - acc: 0.9395\n",
      "Epoch 42/60\n",
      "5423/5423 - 6s - loss: 0.0872 - acc: 0.9393\n",
      "Epoch 43/60\n",
      "5423/5423 - 6s - loss: 0.0864 - acc: 0.9340\n",
      "Epoch 44/60\n",
      "5423/5423 - 5s - loss: 0.0851 - acc: 0.9423\n",
      "Epoch 45/60\n",
      "5423/5423 - 5s - loss: 0.0849 - acc: 0.9415\n",
      "Epoch 46/60\n",
      "5423/5423 - 5s - loss: 0.0857 - acc: 0.9397\n",
      "Epoch 47/60\n",
      "5423/5423 - 6s - loss: 0.0872 - acc: 0.9375\n",
      "Epoch 48/60\n",
      "5423/5423 - 5s - loss: 0.0840 - acc: 0.9421\n",
      "Epoch 49/60\n",
      "5423/5423 - 5s - loss: 0.0879 - acc: 0.9403\n",
      "Epoch 50/60\n",
      "5423/5423 - 5s - loss: 0.0861 - acc: 0.9406\n",
      "Epoch 51/60\n",
      "5423/5423 - 5s - loss: 0.0884 - acc: 0.9401\n",
      "Epoch 52/60\n",
      "5423/5423 - 6s - loss: 0.0971 - acc: 0.9412\n",
      "Epoch 53/60\n",
      "5423/5423 - 5s - loss: 0.0909 - acc: 0.9404\n",
      "Epoch 54/60\n",
      "5423/5423 - 6s - loss: 0.0874 - acc: 0.9373\n",
      "Epoch 55/60\n",
      "5423/5423 - 5s - loss: 0.0841 - acc: 0.9403\n",
      "Epoch 56/60\n",
      "5423/5423 - 5s - loss: 0.0824 - acc: 0.9427\n",
      "Epoch 57/60\n",
      "5423/5423 - 5s - loss: 0.0820 - acc: 0.9414\n",
      "Epoch 58/60\n",
      "5423/5423 - 5s - loss: 0.0825 - acc: 0.9412\n",
      "Epoch 59/60\n",
      "5423/5423 - 5s - loss: 0.0815 - acc: 0.9445\n",
      "Epoch 60/60\n",
      "5423/5423 - 6s - loss: 0.0857 - acc: 0.9410\n"
     ]
    }
   ],
   "source": [
    "history = model.fit(\n",
    "    X_train_scaled,\n",
    "    y_train_categorical,\n",
    "    epochs=60,\n",
    "    shuffle=True,\n",
    "    verbose=2\n",
    ")"
   ]
  },
  {
   "cell_type": "code",
   "execution_count": 25,
   "metadata": {},
   "outputs": [
    {
     "data": {
      "image/png": "[encoded data removed]",
      "text/plain": [
       "<Figure size 432x288 with 1 Axes>"
      ]
     },
     "metadata": {
      "needs_background": "light"
     },
     "output_type": "display_data"
    }
   ],
   "source": [
    "import matplotlib.pyplot as plt\n",
    "plt.plot(history.history['acc'])\n",
    "plt.title('Model accuracy')\n",
    "plt.ylabel('Accuracy')\n",
    "plt.xlabel('Epoch')\n",
    "plt.legend(['Train_scaled'], loc='best')\n",
    "plt.show()"
   ]
  },
  {
   "cell_type": "code",
   "execution_count": 26,
   "metadata": {},
   "outputs": [
    {
     "data": {
      "image/png": "[encoded data removed]",
      "text/plain": [
       "<Figure size 432x288 with 1 Axes>"
      ]
     },
     "metadata": {
      "needs_background": "light"
     },
     "output_type": "display_data"
    }
   ],
   "source": [
    "plt.plot(history.history['loss']) \n",
    "plt.title('Model loss') \n",
    "plt.ylabel('Loss') \n",
    "plt.xlabel('Epoch') \n",
    "plt.legend(['Train_scaled'], loc='best') \n",
    "plt.show()"
   ]
  },
  {
   "cell_type": "markdown",
   "metadata": {},
   "source": [
    "# Quantify our Trained Model"
   ]
  },
  {
   "cell_type": "markdown",
   "metadata": {},
   "source": [
    "We use our testing data to validate our model. This is how we determine the validity of our model (i.e. the ability to predict new and previously unseen data points)"
   ]
  },
  {
   "cell_type": "code",
   "execution_count": 27,
   "metadata": {},
   "outputs": [
    {
     "name": "stdout",
     "output_type": "stream",
     "text": [
      "1808/1808 - 0s - loss: 1.0738 - acc: 0.8429\n",
      "Normal Neural Network - Loss: 1.0738326876828101, Accuracy: 0.8429203629493713\n"
     ]
    }
   ],
   "source": [
    "model_loss, model_accuracy = model.evaluate(\n",
    "    X_test_scaled, y_test_categorical, verbose=2)\n",
    "print(\n",
    "    f\"Normal Neural Network - Loss: {model_loss}, Accuracy: {model_accuracy}\")"
   ]
  },
  {
   "cell_type": "code",
   "execution_count": 28,
   "metadata": {},
   "outputs": [],
   "source": [
    "y_pred = model.predict(X_test_scaled)\n",
    "#Converting predictions to label\n",
    "pred = list()\n",
    "for i in range(len(y_pred)):\n",
    "    pred.append(np.argmax(y_pred[i]))\n",
    "#Converting one hot encoded test label to label\n",
    "test = list()\n",
    "for i in range(len(y_test_categorical)):\n",
    "    test.append(np.argmax(y_test_categorical[i]))"
   ]
  },
  {
   "cell_type": "code",
   "execution_count": 29,
   "metadata": {},
   "outputs": [
    {
     "name": "stdout",
     "output_type": "stream",
     "text": [
      "Accuracy is: 84.2920353982301\n"
     ]
    }
   ],
   "source": [
    "from sklearn.metrics import accuracy_score\n",
    "a = accuracy_score(pred,test)\n",
    "print('Accuracy is:', a*100)"
   ]
  },
  {
   "cell_type": "markdown",
   "metadata": {},
   "source": [
    "# Make Predictions"
   ]
  },
  {
   "cell_type": "markdown",
   "metadata": {},
   "source": [
    "We can use our trained model to make predictions using model.predict"
   ]
  },
  {
   "cell_type": "code",
   "execution_count": 30,
   "metadata": {},
   "outputs": [],
   "source": [
    "encoded_predictions = model.predict_classes(X_test_scaled[:5])\n",
    "prediction_labels = label_encoder.inverse_transform(encoded_predictions)"
   ]
  },
  {
   "cell_type": "code",
   "execution_count": 31,
   "metadata": {},
   "outputs": [
    {
     "name": "stdout",
     "output_type": "stream",
     "text": [
      "Predicted classes: [' Tribal Authorized Casino' ' State Licensed Casino'\n",
      " ' Tribal Authorized Casino' ' State Licensed Casino' ' Card Club']\n",
      "Actual Labels: [array([' Tribal Authorized Casino'], dtype=object), array([' State Licensed Casino'], dtype=object), array([' Tribal Authorized Casino'], dtype=object), array([' State Licensed Casino'], dtype=object), array([' Tribal Authorized Casino'], dtype=object)]\n"
     ]
    }
   ],
   "source": [
    "print(f\"Predicted classes: {prediction_labels}\")\n",
    "print(f\"Actual Labels: {list(y_test[:5])}\")"
   ]
  },
  {
   "cell_type": "code",
   "execution_count": null,
   "metadata": {},
   "outputs": [],
   "source": []
  },
  {
   "cell_type": "markdown",
   "metadata": {},
   "source": [
    "We can use test data as validation data and can check the accuracies after every epoch. This will give us an insight into overfitting at the time of training only and we can take steps before the completion of all epochs. We can do this by changing fit function as:"
   ]
  },
  {
   "cell_type": "code",
   "execution_count": 32,
   "metadata": {},
   "outputs": [
    {
     "name": "stdout",
     "output_type": "stream",
     "text": [
      "Train on 5423 samples, validate on 1808 samples\n",
      "Epoch 1/60\n",
      "5423/5423 - 6s - loss: 0.0819 - acc: 0.9447 - val_loss: 1.1043 - val_acc: 0.8446\n",
      "Epoch 2/60\n",
      "5423/5423 - 6s - loss: 0.0825 - acc: 0.9412 - val_loss: 1.1006 - val_acc: 0.8396\n",
      "Epoch 3/60\n",
      "5423/5423 - 6s - loss: 0.0824 - acc: 0.9423 - val_loss: 1.1692 - val_acc: 0.8435\n",
      "Epoch 4/60\n",
      "5423/5423 - 6s - loss: 0.0805 - acc: 0.9419 - val_loss: 1.1665 - val_acc: 0.8479\n",
      "Epoch 5/60\n",
      "5423/5423 - 6s - loss: 0.0804 - acc: 0.9458 - val_loss: 1.1793 - val_acc: 0.8440\n",
      "Epoch 6/60\n",
      "5423/5423 - 6s - loss: 0.0812 - acc: 0.9427 - val_loss: 1.1717 - val_acc: 0.8418\n",
      "Epoch 7/60\n",
      "5423/5423 - 6s - loss: 0.0792 - acc: 0.9432 - val_loss: 1.2405 - val_acc: 0.8446\n",
      "Epoch 8/60\n",
      "5423/5423 - 6s - loss: 0.0800 - acc: 0.9450 - val_loss: 1.1925 - val_acc: 0.8457\n",
      "Epoch 9/60\n",
      "5423/5423 - 6s - loss: 0.0801 - acc: 0.9463 - val_loss: 1.2995 - val_acc: 0.8385\n",
      "Epoch 10/60\n",
      "5423/5423 - 6s - loss: 0.0815 - acc: 0.9439 - val_loss: 1.2124 - val_acc: 0.8473\n",
      "Epoch 11/60\n",
      "5423/5423 - 6s - loss: 0.0816 - acc: 0.9439 - val_loss: 1.1545 - val_acc: 0.8429\n",
      "Epoch 12/60\n",
      "5423/5423 - 6s - loss: 0.0806 - acc: 0.9450 - val_loss: 1.1927 - val_acc: 0.8451\n",
      "Epoch 13/60\n",
      "5423/5423 - 6s - loss: 0.0775 - acc: 0.9463 - val_loss: 1.3084 - val_acc: 0.8418\n",
      "Epoch 14/60\n",
      "5423/5423 - 6s - loss: 0.0809 - acc: 0.9425 - val_loss: 1.1637 - val_acc: 0.8462\n",
      "Epoch 15/60\n",
      "5423/5423 - 6s - loss: 0.0898 - acc: 0.9415 - val_loss: 1.1803 - val_acc: 0.8374\n",
      "Epoch 16/60\n",
      "5423/5423 - 6s - loss: 0.0832 - acc: 0.9428 - val_loss: 1.1467 - val_acc: 0.8429\n",
      "Epoch 17/60\n",
      "5423/5423 - 6s - loss: 0.0788 - acc: 0.9432 - val_loss: 1.2207 - val_acc: 0.8413\n",
      "Epoch 18/60\n",
      "5423/5423 - 6s - loss: 0.0774 - acc: 0.9467 - val_loss: 1.2597 - val_acc: 0.8424\n",
      "Epoch 19/60\n",
      "5423/5423 - 6s - loss: 0.0777 - acc: 0.9438 - val_loss: 1.2221 - val_acc: 0.8435\n",
      "Epoch 20/60\n",
      "5423/5423 - 6s - loss: 0.0765 - acc: 0.9460 - val_loss: 1.3127 - val_acc: 0.8418\n",
      "Epoch 21/60\n",
      "5423/5423 - 6s - loss: 0.0750 - acc: 0.9460 - val_loss: 1.3546 - val_acc: 0.8413\n",
      "Epoch 22/60\n",
      "5423/5423 - 6s - loss: 0.0770 - acc: 0.9445 - val_loss: 1.2969 - val_acc: 0.8435\n",
      "Epoch 23/60\n",
      "5423/5423 - 6s - loss: 0.0752 - acc: 0.9441 - val_loss: 1.2830 - val_acc: 0.8429\n",
      "Epoch 24/60\n",
      "5423/5423 - 6s - loss: 0.0755 - acc: 0.9513 - val_loss: 1.3639 - val_acc: 0.8440\n",
      "Epoch 25/60\n",
      "5423/5423 - 6s - loss: 0.0744 - acc: 0.9463 - val_loss: 1.3486 - val_acc: 0.8407\n",
      "Epoch 26/60\n",
      "5423/5423 - 6s - loss: 0.0764 - acc: 0.9469 - val_loss: 1.1986 - val_acc: 0.8440\n",
      "Epoch 27/60\n",
      "5423/5423 - 6s - loss: 0.0746 - acc: 0.9487 - val_loss: 1.2655 - val_acc: 0.8440\n",
      "Epoch 28/60\n",
      "5423/5423 - 6s - loss: 0.0750 - acc: 0.9480 - val_loss: 1.3266 - val_acc: 0.8446\n",
      "Epoch 29/60\n",
      "5423/5423 - 6s - loss: 0.0757 - acc: 0.9508 - val_loss: 1.2538 - val_acc: 0.8485\n",
      "Epoch 30/60\n",
      "5423/5423 - 6s - loss: 0.0749 - acc: 0.9471 - val_loss: 1.2635 - val_acc: 0.8435\n",
      "Epoch 31/60\n",
      "5423/5423 - 6s - loss: 0.0778 - acc: 0.9519 - val_loss: 1.0233 - val_acc: 0.8413\n",
      "Epoch 32/60\n",
      "5423/5423 - 6s - loss: 0.0777 - acc: 0.9497 - val_loss: 1.2326 - val_acc: 0.8479\n",
      "Epoch 33/60\n",
      "5423/5423 - 6s - loss: 0.0788 - acc: 0.9504 - val_loss: 1.2980 - val_acc: 0.8440\n",
      "Epoch 34/60\n",
      "5423/5423 - 6s - loss: 0.0760 - acc: 0.9530 - val_loss: 1.2223 - val_acc: 0.8446\n",
      "Epoch 35/60\n",
      "5423/5423 - 6s - loss: 0.0731 - acc: 0.9486 - val_loss: 1.3873 - val_acc: 0.8424\n",
      "Epoch 36/60\n",
      "5423/5423 - 6s - loss: 0.0785 - acc: 0.9487 - val_loss: 1.2799 - val_acc: 0.8407\n",
      "Epoch 37/60\n",
      "5423/5423 - 6s - loss: 0.0736 - acc: 0.9500 - val_loss: 1.2741 - val_acc: 0.8490\n",
      "Epoch 38/60\n",
      "5423/5423 - 6s - loss: 0.0717 - acc: 0.9498 - val_loss: 1.3117 - val_acc: 0.8330\n",
      "Epoch 39/60\n",
      "5423/5423 - 6s - loss: 0.0750 - acc: 0.9511 - val_loss: 1.2608 - val_acc: 0.8479\n",
      "Epoch 40/60\n",
      "5423/5423 - 6s - loss: 0.0725 - acc: 0.9535 - val_loss: 1.2401 - val_acc: 0.8457\n",
      "Epoch 41/60\n",
      "5423/5423 - 6s - loss: 0.0786 - acc: 0.9471 - val_loss: 1.3118 - val_acc: 0.8451\n",
      "Epoch 42/60\n",
      "5423/5423 - 6s - loss: 0.0719 - acc: 0.9502 - val_loss: 1.2349 - val_acc: 0.8490\n",
      "Epoch 43/60\n",
      "5423/5423 - 6s - loss: 0.0711 - acc: 0.9498 - val_loss: 1.3139 - val_acc: 0.8512\n",
      "Epoch 44/60\n",
      "5423/5423 - 6s - loss: 0.0693 - acc: 0.9532 - val_loss: 1.3185 - val_acc: 0.8501\n",
      "Epoch 45/60\n",
      "5423/5423 - 6s - loss: 0.0709 - acc: 0.9504 - val_loss: 1.2427 - val_acc: 0.8518\n",
      "Epoch 46/60\n",
      "5423/5423 - 6s - loss: 0.0683 - acc: 0.9489 - val_loss: 1.4067 - val_acc: 0.8540\n",
      "Epoch 47/60\n",
      "5423/5423 - 6s - loss: 0.0716 - acc: 0.9517 - val_loss: 1.2225 - val_acc: 0.8479\n",
      "Epoch 48/60\n",
      "5423/5423 - 6s - loss: 0.0698 - acc: 0.9559 - val_loss: 1.2735 - val_acc: 0.8534\n",
      "Epoch 49/60\n",
      "5423/5423 - 6s - loss: 0.0719 - acc: 0.9545 - val_loss: 1.1901 - val_acc: 0.8473\n",
      "Epoch 50/60\n",
      "5423/5423 - 6s - loss: 0.0752 - acc: 0.9537 - val_loss: 1.3619 - val_acc: 0.8479\n",
      "Epoch 51/60\n",
      "5423/5423 - 6s - loss: 0.0737 - acc: 0.9530 - val_loss: 1.2677 - val_acc: 0.8473\n",
      "Epoch 52/60\n",
      "5423/5423 - 6s - loss: 0.0715 - acc: 0.9515 - val_loss: 1.2785 - val_acc: 0.8473\n",
      "Epoch 53/60\n",
      "5423/5423 - 6s - loss: 0.0658 - acc: 0.9541 - val_loss: 1.3822 - val_acc: 0.8501\n",
      "Epoch 54/60\n",
      "5423/5423 - 6s - loss: 0.0665 - acc: 0.9574 - val_loss: 1.3623 - val_acc: 0.8479\n",
      "Epoch 55/60\n",
      "5423/5423 - 6s - loss: 0.0674 - acc: 0.9563 - val_loss: 1.3479 - val_acc: 0.8512\n",
      "Epoch 56/60\n",
      "5423/5423 - 6s - loss: 0.0658 - acc: 0.9574 - val_loss: 1.3304 - val_acc: 0.8534\n",
      "Epoch 57/60\n",
      "5423/5423 - 6s - loss: 0.0660 - acc: 0.9574 - val_loss: 1.3725 - val_acc: 0.8490\n",
      "Epoch 58/60\n",
      "5423/5423 - 6s - loss: 0.0674 - acc: 0.9548 - val_loss: 1.3319 - val_acc: 0.8485\n",
      "Epoch 59/60\n",
      "5423/5423 - 6s - loss: 0.0640 - acc: 0.9583 - val_loss: 1.4028 - val_acc: 0.8468\n",
      "Epoch 60/60\n",
      "5423/5423 - 6s - loss: 0.0646 - acc: 0.9546 - val_loss: 1.3440 - val_acc: 0.8473\n"
     ]
    }
   ],
   "source": [
    "history = model.fit(\n",
    "    X_train_scaled,\n",
    "    y_train_categorical,\n",
    "    validation_data = (X_test_scaled, y_test_categorical),\n",
    "    epochs=60,\n",
    "    shuffle=True,\n",
    "    verbose=2\n",
    ")"
   ]
  },
  {
   "cell_type": "markdown",
   "metadata": {},
   "source": [
    "# Visualization of training and validation losses and accuracies\n"
   ]
  },
  {
   "cell_type": "markdown",
   "metadata": {},
   "source": [
    "Now we will visualize training and validation losses and accuracies."
   ]
  },
  {
   "cell_type": "code",
   "execution_count": 33,
   "metadata": {},
   "outputs": [
    {
     "data": {
      "image/png": "[encoded data removed]",
      "text/plain": [
       "<Figure size 432x288 with 1 Axes>"
      ]
     },
     "metadata": {
      "needs_background": "light"
     },
     "output_type": "display_data"
    }
   ],
   "source": [
    "import matplotlib.pyplot as plt\n",
    "plt.plot(history.history['acc'])\n",
    "plt.plot(history.history['val_acc'])\n",
    "plt.title('Model accuracy')\n",
    "plt.ylabel('Accuracy')\n",
    "plt.xlabel('Epoch')\n",
    "plt.legend(['Train_scaled', 'Test_categorical'], loc='best')\n",
    "plt.show()"
   ]
  },
  {
   "cell_type": "code",
   "execution_count": 34,
   "metadata": {},
   "outputs": [
    {
     "data": {
      "image/png": "[encoded data removed]",
      "text/plain": [
       "<Figure size 432x288 with 1 Axes>"
      ]
     },
     "metadata": {
      "needs_background": "light"
     },
     "output_type": "display_data"
    }
   ],
   "source": [
    "plt.plot(history.history['loss']) \n",
    "plt.plot(history.history['val_loss']) \n",
    "plt.title('Model loss') \n",
    "plt.ylabel('Loss') \n",
    "plt.xlabel('Epoch') \n",
    "plt.legend(['Train_scaled', 'Test_categorical'], loc='best') \n",
    "plt.show()"
   ]
  },
  {
   "cell_type": "code",
   "execution_count": null,
   "metadata": {},
   "outputs": [],
   "source": []
  }
 ],
 "metadata": {
  "kernelspec": {
   "display_name": "Python 3",
   "language": "python",
   "name": "python3"
  },
  "language_info": {
   "codemirror_mode": {
    "name": "ipython",
    "version": 3
   },
   "file_extension": ".py",
   "mimetype": "text/x-python",
   "name": "python",
   "nbconvert_exporter": "python",
   "pygments_lexer": "ipython3",
   "version": "3.7.4"
  }
 },
 "nbformat": 4,
 "nbformat_minor": 4
}
