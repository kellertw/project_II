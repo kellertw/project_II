{
 "cells": [
  {
   "cell_type": "code",
   "execution_count": 1,
   "metadata": {},
   "outputs": [],
   "source": [
    "import matplotlib.pyplot as plt\n",
    "import numpy as np\n",
    "import pandas as pd"
   ]
  },
  {
   "cell_type": "markdown",
   "metadata": {},
   "source": [
    "# Neural Networks with Keras"
   ]
  },
  {
   "cell_type": "code",
   "execution_count": 2,
   "metadata": {},
   "outputs": [],
   "source": [
    "from numpy.random import seed\n",
    "seed(1)"
   ]
  },
  {
   "cell_type": "code",
   "execution_count": 3,
   "metadata": {},
   "outputs": [
    {
     "data": {
      "text/html": [
       "<div>\n",
       "<style scoped>\n",
       "    .dataframe tbody tr th:only-of-type {\n",
       "        vertical-align: middle;\n",
       "    }\n",
       "\n",
       "    .dataframe tbody tr th {\n",
       "        vertical-align: top;\n",
       "    }\n",
       "\n",
       "    .dataframe thead th {\n",
       "        text-align: right;\n",
       "    }\n",
       "</style>\n",
       "<table border=\"1\" class=\"dataframe\">\n",
       "  <thead>\n",
       "    <tr style=\"text-align: right;\">\n",
       "      <th></th>\n",
       "      <th>Id</th>\n",
       "      <th>Year</th>\n",
       "      <th>State</th>\n",
       "      <th>Countym</th>\n",
       "      <th>Industry</th>\n",
       "      <th>Suspicious Activity</th>\n",
       "      <th>Count</th>\n",
       "      <th>Lat</th>\n",
       "      <th>Long</th>\n",
       "    </tr>\n",
       "  </thead>\n",
       "  <tbody>\n",
       "    <tr>\n",
       "      <th>0</th>\n",
       "      <td>0</td>\n",
       "      <td>2014</td>\n",
       "      <td>Arizona</td>\n",
       "      <td>Coconino County</td>\n",
       "      <td>Tribal Authorized Casino</td>\n",
       "      <td>Alters or Cancels Transaction to Avoid CTR Req...</td>\n",
       "      <td>1</td>\n",
       "      <td>35.829692</td>\n",
       "      <td>-111.773728</td>\n",
       "    </tr>\n",
       "    <tr>\n",
       "      <th>1</th>\n",
       "      <td>1</td>\n",
       "      <td>2014</td>\n",
       "      <td>Arizona</td>\n",
       "      <td>Coconino County</td>\n",
       "      <td>Tribal Authorized Casino</td>\n",
       "      <td>Exchanges Small Bills for Large Bills or Vice ...</td>\n",
       "      <td>1</td>\n",
       "      <td>35.829692</td>\n",
       "      <td>-111.773728</td>\n",
       "    </tr>\n",
       "    <tr>\n",
       "      <th>2</th>\n",
       "      <td>2</td>\n",
       "      <td>2014</td>\n",
       "      <td>Arizona</td>\n",
       "      <td>Coconino County</td>\n",
       "      <td>Tribal Authorized Casino</td>\n",
       "      <td>Other Structuring</td>\n",
       "      <td>1</td>\n",
       "      <td>35.829692</td>\n",
       "      <td>-111.773728</td>\n",
       "    </tr>\n",
       "    <tr>\n",
       "      <th>3</th>\n",
       "      <td>3</td>\n",
       "      <td>2014</td>\n",
       "      <td>Arizona</td>\n",
       "      <td>Coconino County</td>\n",
       "      <td>Tribal Authorized Casino</td>\n",
       "      <td>Provided Questionable or False Documentation</td>\n",
       "      <td>1</td>\n",
       "      <td>35.829692</td>\n",
       "      <td>-111.773728</td>\n",
       "    </tr>\n",
       "    <tr>\n",
       "      <th>4</th>\n",
       "      <td>4</td>\n",
       "      <td>2016</td>\n",
       "      <td>Arizona</td>\n",
       "      <td>Coconino County</td>\n",
       "      <td>Tribal Authorized Casino</td>\n",
       "      <td>Account Takeover</td>\n",
       "      <td>1</td>\n",
       "      <td>35.829692</td>\n",
       "      <td>-111.773728</td>\n",
       "    </tr>\n",
       "  </tbody>\n",
       "</table>\n",
       "</div>"
      ],
      "text/plain": [
       "   Id  Year    State          Countym                   Industry  \\\n",
       "0   0  2014  Arizona  Coconino County   Tribal Authorized Casino   \n",
       "1   1  2014  Arizona  Coconino County   Tribal Authorized Casino   \n",
       "2   2  2014  Arizona  Coconino County   Tribal Authorized Casino   \n",
       "3   3  2014  Arizona  Coconino County   Tribal Authorized Casino   \n",
       "4   4  2016  Arizona  Coconino County   Tribal Authorized Casino   \n",
       "\n",
       "                                 Suspicious Activity Count        Lat  \\\n",
       "0  Alters or Cancels Transaction to Avoid CTR Req...     1  35.829692   \n",
       "1  Exchanges Small Bills for Large Bills or Vice ...     1  35.829692   \n",
       "2                                  Other Structuring     1  35.829692   \n",
       "3       Provided Questionable or False Documentation     1  35.829692   \n",
       "4                                   Account Takeover     1  35.829692   \n",
       "\n",
       "         Long  \n",
       "0 -111.773728  \n",
       "1 -111.773728  \n",
       "2 -111.773728  \n",
       "3 -111.773728  \n",
       "4 -111.773728  "
      ]
     },
     "execution_count": 3,
     "metadata": {},
     "output_type": "execute_result"
    }
   ],
   "source": [
    "df = pd.read_csv('casino_crime.csv')\n",
    "df.head()"
   ]
  },
  {
   "cell_type": "code",
   "execution_count": 4,
   "metadata": {},
   "outputs": [],
   "source": [
    "df['Count'] = df['Count'].str.replace(',', '').astype(float).astype(int)"
   ]
  },
  {
   "cell_type": "code",
   "execution_count": 5,
   "metadata": {},
   "outputs": [],
   "source": [
    "data = df[['Year','State', 'Countym','Industry', 'Suspicious Activity', 'Count']]\n",
    "\n",
    "# data.head()"
   ]
  },
  {
   "cell_type": "code",
   "execution_count": 6,
   "metadata": {},
   "outputs": [],
   "source": [
    "# data['Suspicious Activity'].unique()"
   ]
  },
  {
   "cell_type": "code",
   "execution_count": 7,
   "metadata": {},
   "outputs": [],
   "source": [
    "activity = data.groupby(['Year','Suspicious Activity', 'State', 'Countym','Industry'])['Count'].sum().reset_index()\n",
    "# activity.dtypes"
   ]
  },
  {
   "cell_type": "code",
   "execution_count": 8,
   "metadata": {},
   "outputs": [
    {
     "data": {
      "text/html": [
       "<div>\n",
       "<style scoped>\n",
       "    .dataframe tbody tr th:only-of-type {\n",
       "        vertical-align: middle;\n",
       "    }\n",
       "\n",
       "    .dataframe tbody tr th {\n",
       "        vertical-align: top;\n",
       "    }\n",
       "\n",
       "    .dataframe thead th {\n",
       "        text-align: right;\n",
       "    }\n",
       "</style>\n",
       "<table border=\"1\" class=\"dataframe\">\n",
       "  <thead>\n",
       "    <tr style=\"text-align: right;\">\n",
       "      <th></th>\n",
       "      <th>Year</th>\n",
       "      <th>Suspicious Activity</th>\n",
       "      <th>State</th>\n",
       "      <th>Countym</th>\n",
       "      <th>Industry</th>\n",
       "      <th>Count</th>\n",
       "    </tr>\n",
       "  </thead>\n",
       "  <tbody>\n",
       "    <tr>\n",
       "      <th>0</th>\n",
       "      <td>2014</td>\n",
       "      <td>Account Takeover</td>\n",
       "      <td>Arizona</td>\n",
       "      <td>Maricopa County</td>\n",
       "      <td>Tribal Authorized Casino</td>\n",
       "      <td>11</td>\n",
       "    </tr>\n",
       "    <tr>\n",
       "      <th>1</th>\n",
       "      <td>2014</td>\n",
       "      <td>Account Takeover</td>\n",
       "      <td>Arizona</td>\n",
       "      <td>Pinal County</td>\n",
       "      <td>Tribal Authorized Casino</td>\n",
       "      <td>6</td>\n",
       "    </tr>\n",
       "    <tr>\n",
       "      <th>2</th>\n",
       "      <td>2014</td>\n",
       "      <td>Account Takeover</td>\n",
       "      <td>California</td>\n",
       "      <td>Contra Costa County</td>\n",
       "      <td>Card Club</td>\n",
       "      <td>1</td>\n",
       "    </tr>\n",
       "    <tr>\n",
       "      <th>3</th>\n",
       "      <td>2014</td>\n",
       "      <td>Account Takeover</td>\n",
       "      <td>California</td>\n",
       "      <td>Orange County</td>\n",
       "      <td>Tribal Authorized Casino</td>\n",
       "      <td>1</td>\n",
       "    </tr>\n",
       "    <tr>\n",
       "      <th>4</th>\n",
       "      <td>2014</td>\n",
       "      <td>Account Takeover</td>\n",
       "      <td>California</td>\n",
       "      <td>Placer County</td>\n",
       "      <td>Tribal Authorized Casino</td>\n",
       "      <td>8</td>\n",
       "    </tr>\n",
       "  </tbody>\n",
       "</table>\n",
       "</div>"
      ],
      "text/plain": [
       "   Year Suspicious Activity       State              Countym  \\\n",
       "0  2014    Account Takeover     Arizona      Maricopa County   \n",
       "1  2014    Account Takeover     Arizona         Pinal County   \n",
       "2  2014    Account Takeover  California  Contra Costa County   \n",
       "3  2014    Account Takeover  California        Orange County   \n",
       "4  2014    Account Takeover  California        Placer County   \n",
       "\n",
       "                    Industry  Count  \n",
       "0   Tribal Authorized Casino     11  \n",
       "1   Tribal Authorized Casino      6  \n",
       "2                  Card Club      1  \n",
       "3   Tribal Authorized Casino      1  \n",
       "4   Tribal Authorized Casino      8  "
      ]
     },
     "execution_count": 8,
     "metadata": {},
     "output_type": "execute_result"
    }
   ],
   "source": [
    "activity.head()"
   ]
  },
  {
   "cell_type": "code",
   "execution_count": 9,
   "metadata": {},
   "outputs": [],
   "source": [
    "# activity['Countym'].value_counts()"
   ]
  },
  {
   "cell_type": "code",
   "execution_count": 10,
   "metadata": {},
   "outputs": [],
   "source": [
    "# activity['Suspicious Activity'] = activity['Suspicious Activity'].replace(\n",
    "#     {'Other Other Suspicious Activities': 'Diff Suspicious Activities'})"
   ]
  },
  {
   "cell_type": "code",
   "execution_count": 11,
   "metadata": {},
   "outputs": [],
   "source": [
    "# activity['Suspicious Activity'].value_counts()"
   ]
  },
  {
   "cell_type": "code",
   "execution_count": 12,
   "metadata": {},
   "outputs": [],
   "source": [
    "activity = pd.get_dummies(activity, columns=['Year','State', 'Countym', 'Suspicious Activity'])\n",
    "# activity.head()"
   ]
  },
  {
   "cell_type": "markdown",
   "metadata": {},
   "source": [
    "# Data Pre-Processing"
   ]
  },
  {
   "cell_type": "markdown",
   "metadata": {},
   "source": [
    "It is really important to scale our data before using multilayer perceptron models.\n",
    "\n",
    "Without scaling, it is often difficult for the training cycle to converge"
   ]
  },
  {
   "cell_type": "code",
   "execution_count": 13,
   "metadata": {},
   "outputs": [
    {
     "name": "stdout",
     "output_type": "stream",
     "text": [
      "(7231, 205) (7231, 1)\n"
     ]
    }
   ],
   "source": [
    "X = activity.drop(columns = ['Industry'])\n",
    "y = activity['Industry'].values.reshape(-1, 1)\n",
    "print(X.shape, y.shape)"
   ]
  },
  {
   "cell_type": "code",
   "execution_count": 14,
   "metadata": {},
   "outputs": [
    {
     "name": "stderr",
     "output_type": "stream",
     "text": [
      "/opt/anaconda3/lib/python3.7/site-packages/tensorflow/python/framework/dtypes.py:516: FutureWarning: Passing (type, 1) or '1type' as a synonym of type is deprecated; in a future version of numpy, it will be understood as (type, (1,)) / '(1,)type'.\n",
      "  _np_qint8 = np.dtype([(\"qint8\", np.int8, 1)])\n",
      "/opt/anaconda3/lib/python3.7/site-packages/tensorflow/python/framework/dtypes.py:517: FutureWarning: Passing (type, 1) or '1type' as a synonym of type is deprecated; in a future version of numpy, it will be understood as (type, (1,)) / '(1,)type'.\n",
      "  _np_quint8 = np.dtype([(\"quint8\", np.uint8, 1)])\n",
      "/opt/anaconda3/lib/python3.7/site-packages/tensorflow/python/framework/dtypes.py:518: FutureWarning: Passing (type, 1) or '1type' as a synonym of type is deprecated; in a future version of numpy, it will be understood as (type, (1,)) / '(1,)type'.\n",
      "  _np_qint16 = np.dtype([(\"qint16\", np.int16, 1)])\n",
      "/opt/anaconda3/lib/python3.7/site-packages/tensorflow/python/framework/dtypes.py:519: FutureWarning: Passing (type, 1) or '1type' as a synonym of type is deprecated; in a future version of numpy, it will be understood as (type, (1,)) / '(1,)type'.\n",
      "  _np_quint16 = np.dtype([(\"quint16\", np.uint16, 1)])\n",
      "/opt/anaconda3/lib/python3.7/site-packages/tensorflow/python/framework/dtypes.py:520: FutureWarning: Passing (type, 1) or '1type' as a synonym of type is deprecated; in a future version of numpy, it will be understood as (type, (1,)) / '(1,)type'.\n",
      "  _np_qint32 = np.dtype([(\"qint32\", np.int32, 1)])\n",
      "/opt/anaconda3/lib/python3.7/site-packages/tensorflow/python/framework/dtypes.py:525: FutureWarning: Passing (type, 1) or '1type' as a synonym of type is deprecated; in a future version of numpy, it will be understood as (type, (1,)) / '(1,)type'.\n",
      "  np_resource = np.dtype([(\"resource\", np.ubyte, 1)])\n",
      "/opt/anaconda3/lib/python3.7/site-packages/tensorboard/compat/tensorflow_stub/dtypes.py:541: FutureWarning: Passing (type, 1) or '1type' as a synonym of type is deprecated; in a future version of numpy, it will be understood as (type, (1,)) / '(1,)type'.\n",
      "  _np_qint8 = np.dtype([(\"qint8\", np.int8, 1)])\n",
      "/opt/anaconda3/lib/python3.7/site-packages/tensorboard/compat/tensorflow_stub/dtypes.py:542: FutureWarning: Passing (type, 1) or '1type' as a synonym of type is deprecated; in a future version of numpy, it will be understood as (type, (1,)) / '(1,)type'.\n",
      "  _np_quint8 = np.dtype([(\"quint8\", np.uint8, 1)])\n",
      "/opt/anaconda3/lib/python3.7/site-packages/tensorboard/compat/tensorflow_stub/dtypes.py:543: FutureWarning: Passing (type, 1) or '1type' as a synonym of type is deprecated; in a future version of numpy, it will be understood as (type, (1,)) / '(1,)type'.\n",
      "  _np_qint16 = np.dtype([(\"qint16\", np.int16, 1)])\n",
      "/opt/anaconda3/lib/python3.7/site-packages/tensorboard/compat/tensorflow_stub/dtypes.py:544: FutureWarning: Passing (type, 1) or '1type' as a synonym of type is deprecated; in a future version of numpy, it will be understood as (type, (1,)) / '(1,)type'.\n",
      "  _np_quint16 = np.dtype([(\"quint16\", np.uint16, 1)])\n",
      "/opt/anaconda3/lib/python3.7/site-packages/tensorboard/compat/tensorflow_stub/dtypes.py:545: FutureWarning: Passing (type, 1) or '1type' as a synonym of type is deprecated; in a future version of numpy, it will be understood as (type, (1,)) / '(1,)type'.\n",
      "  _np_qint32 = np.dtype([(\"qint32\", np.int32, 1)])\n",
      "/opt/anaconda3/lib/python3.7/site-packages/tensorboard/compat/tensorflow_stub/dtypes.py:550: FutureWarning: Passing (type, 1) or '1type' as a synonym of type is deprecated; in a future version of numpy, it will be understood as (type, (1,)) / '(1,)type'.\n",
      "  np_resource = np.dtype([(\"resource\", np.ubyte, 1)])\n"
     ]
    }
   ],
   "source": [
    "from sklearn.model_selection import train_test_split\n",
    "from sklearn.preprocessing import LabelEncoder, MinMaxScaler\n",
    "from tensorflow.keras.utils import to_categorical"
   ]
  },
  {
   "cell_type": "code",
   "execution_count": 15,
   "metadata": {},
   "outputs": [],
   "source": [
    "X_train, X_test, y_train, y_test = train_test_split(\n",
    "    X, y, random_state=1)"
   ]
  },
  {
   "cell_type": "code",
   "execution_count": 16,
   "metadata": {},
   "outputs": [],
   "source": [
    "# y_test"
   ]
  },
  {
   "cell_type": "code",
   "execution_count": 17,
   "metadata": {},
   "outputs": [],
   "source": [
    "X_scaler = MinMaxScaler().fit(X_train)\n",
    "X_train_scaled = X_scaler.transform(X_train)\n",
    "X_test_scaled = X_scaler.transform(X_test)"
   ]
  },
  {
   "cell_type": "code",
   "execution_count": 18,
   "metadata": {},
   "outputs": [
    {
     "name": "stderr",
     "output_type": "stream",
     "text": [
      "/opt/anaconda3/lib/python3.7/site-packages/sklearn/preprocessing/_label.py:235: DataConversionWarning: A column-vector y was passed when a 1d array was expected. Please change the shape of y to (n_samples, ), for example using ravel().\n",
      "  y = column_or_1d(y, warn=True)\n",
      "/opt/anaconda3/lib/python3.7/site-packages/sklearn/preprocessing/_label.py:268: DataConversionWarning: A column-vector y was passed when a 1d array was expected. Please change the shape of y to (n_samples, ), for example using ravel().\n",
      "  y = column_or_1d(y, warn=True)\n"
     ]
    }
   ],
   "source": [
    "# Step 1: Label-encode data set\n",
    "label_encoder = LabelEncoder()\n",
    "label_encoder.fit(y_train)\n",
    "encoded_y_train = label_encoder.transform(y_train)\n",
    "encoded_y_test = label_encoder.transform(y_test)"
   ]
  },
  {
   "cell_type": "code",
   "execution_count": 19,
   "metadata": {},
   "outputs": [],
   "source": [
    "# Step 2: Convert encoded labels to one-hot-encoding\n",
    "y_train_categorical = to_categorical(encoded_y_train)\n",
    "y_test_categorical = to_categorical(encoded_y_test)"
   ]
  },
  {
   "cell_type": "markdown",
   "metadata": {},
   "source": [
    "# Create a Deep Learning Model"
   ]
  },
  {
   "cell_type": "markdown",
   "metadata": {},
   "source": [
    "We first need to create a sequential model.\n",
    "\n",
    "Next, we add our first layer. This layer requires to specify both the number of inputs and the number of nodes that you want in the hidden layer. In our model we have 205 inputs (columns thats represent 'State', 'County', 'Suspicious Activity' and 'Year' which with the get_dumies function we converted in categorical data). \n",
    "\n",
    "Our final layer is the output layer. The output layer is mostly responsible for producing the final output results. The output layer takes the inputs which are passed in from the layers before it, and performs the calculations through its neurons and then the output is computed. Here, we need to specify the activation function (a probabilistic Activation function such as SoftMax then the output layer has one node per one class label of our model) and the number of classes (labels) that we are trying to predict (4 in this example, one for each type of Industry). \n"
   ]
  },
  {
   "cell_type": "code",
   "execution_count": 20,
   "metadata": {},
   "outputs": [],
   "source": [
    "from tensorflow.keras.models import Sequential\n",
    "from tensorflow.keras.layers import Dense"
   ]
  },
  {
   "cell_type": "code",
   "execution_count": 21,
   "metadata": {},
   "outputs": [
    {
     "name": "stdout",
     "output_type": "stream",
     "text": [
      "WARNING:tensorflow:From /opt/anaconda3/lib/python3.7/site-packages/tensorflow/python/ops/init_ops.py:1251: calling VarianceScaling.__init__ (from tensorflow.python.ops.init_ops) with dtype is deprecated and will be removed in a future version.\n",
      "Instructions for updating:\n",
      "Call initializer instance with the dtype argument instead of passing it to the constructor\n"
     ]
    }
   ],
   "source": [
    "# Create model and add layers\n",
    "model = Sequential()\n",
    "model.add(Dense(units=1000, activation='relu', input_dim=205))\n",
    "model.add(Dense(units=600, activation='relu'))\n",
    "model.add(Dense(units=4, activation='softmax'))"
   ]
  },
  {
   "cell_type": "markdown",
   "metadata": {},
   "source": [
    "# Compile the Model"
   ]
  },
  {
   "cell_type": "markdown",
   "metadata": {},
   "source": [
    "Now that we have our model architecture defined, we must compile the model using a loss function and optimizer. We can also specify additional training metrics such as accuracy. Categorical crossentropy is computed for each sample and eventually merged together – hence, the formula takes once again two inputs: prediction and target, where both are categorical.\n",
    "\n",
    "How can predictions be categorical? They cannot be converted into categorical format from numeric format, can they?\n",
    "It’s not exactly what happens. Instead of converting the data into categorical format, with categorical crossentropy we apply a categorical activation function (such as Softmax) which generates a multiclass probability distribution.\n",
    "\n",
    "That’s a difficult term which simply tells us that it outputs a vector (hence categorical format!) containing for each class the probability that the sample belongs to the class, all probabilities together being 1 (for 100%).\n",
    "Categorical crossentropy allows us to compute the loss value for multiclass classification problems – while remaining flexible with respect to the actual target class."
   ]
  },
  {
   "cell_type": "code",
   "execution_count": 22,
   "metadata": {},
   "outputs": [],
   "source": [
    "# Compile and fit the model\n",
    "model.compile(optimizer='adam',\n",
    "              loss='categorical_crossentropy',\n",
    "              metrics=['accuracy'])"
   ]
  },
  {
   "cell_type": "code",
   "execution_count": 23,
   "metadata": {},
   "outputs": [
    {
     "name": "stdout",
     "output_type": "stream",
     "text": [
      "Model: \"sequential\"\n",
      "_________________________________________________________________\n",
      "Layer (type)                 Output Shape              Param #   \n",
      "=================================================================\n",
      "dense (Dense)                (None, 1000)              206000    \n",
      "_________________________________________________________________\n",
      "dense_1 (Dense)              (None, 600)               600600    \n",
      "_________________________________________________________________\n",
      "dense_2 (Dense)              (None, 4)                 2404      \n",
      "=================================================================\n",
      "Total params: 809,004\n",
      "Trainable params: 809,004\n",
      "Non-trainable params: 0\n",
      "_________________________________________________________________\n"
     ]
    }
   ],
   "source": [
    "model.summary()"
   ]
  },
  {
   "cell_type": "markdown",
   "metadata": {},
   "source": [
    "# Training the Model"
   ]
  },
  {
   "cell_type": "markdown",
   "metadata": {},
   "source": [
    "Finally, we train our model using our training data.\n",
    "Training consists of updating our weights using our optimizer and loss function. In this example, we choose 100 iterations (loops) of training that are called epochs.\n",
    "We also choose to shuffle our training data and increase the detail printed out during each training cycle."
   ]
  },
  {
   "cell_type": "code",
   "execution_count": 24,
   "metadata": {},
   "outputs": [
    {
     "name": "stdout",
     "output_type": "stream",
     "text": [
      "Train on 5423 samples, validate on 1808 samples\n",
      "Epoch 1/60\n",
      "5423/5423 - 5s - loss: 0.4122 - acc: 0.8436 - val_loss: 0.2891 - val_acc: 0.8756\n",
      "Epoch 2/60\n",
      "5423/5423 - 4s - loss: 0.2600 - acc: 0.8886 - val_loss: 0.2739 - val_acc: 0.8838\n",
      "Epoch 3/60\n",
      "5423/5423 - 3s - loss: 0.2253 - acc: 0.8925 - val_loss: 0.2822 - val_acc: 0.8689\n",
      "Epoch 4/60\n",
      "5423/5423 - 3s - loss: 0.2046 - acc: 0.8973 - val_loss: 0.2798 - val_acc: 0.8706\n",
      "Epoch 5/60\n",
      "5423/5423 - 3s - loss: 0.1897 - acc: 0.9030 - val_loss: 0.2977 - val_acc: 0.8662\n",
      "Epoch 6/60\n",
      "5423/5423 - 3s - loss: 0.1719 - acc: 0.9080 - val_loss: 0.3128 - val_acc: 0.8700\n",
      "Epoch 7/60\n",
      "5423/5423 - 3s - loss: 0.1652 - acc: 0.9100 - val_loss: 0.3105 - val_acc: 0.8507\n",
      "Epoch 8/60\n",
      "5423/5423 - 3s - loss: 0.1528 - acc: 0.9154 - val_loss: 0.3541 - val_acc: 0.8595\n",
      "Epoch 9/60\n",
      "5423/5423 - 3s - loss: 0.1425 - acc: 0.9190 - val_loss: 0.3549 - val_acc: 0.8562\n",
      "Epoch 10/60\n",
      "5423/5423 - 3s - loss: 0.1394 - acc: 0.9198 - val_loss: 0.3726 - val_acc: 0.8518\n",
      "Epoch 11/60\n",
      "5423/5423 - 3s - loss: 0.1347 - acc: 0.9209 - val_loss: 0.3609 - val_acc: 0.8496\n",
      "Epoch 12/60\n",
      "5423/5423 - 3s - loss: 0.1292 - acc: 0.9251 - val_loss: 0.3892 - val_acc: 0.8512\n",
      "Epoch 13/60\n",
      "5423/5423 - 3s - loss: 0.1265 - acc: 0.9229 - val_loss: 0.4198 - val_acc: 0.8468\n",
      "Epoch 14/60\n",
      "5423/5423 - 3s - loss: 0.1244 - acc: 0.9235 - val_loss: 0.4368 - val_acc: 0.8462\n",
      "Epoch 15/60\n",
      "5423/5423 - 4s - loss: 0.1229 - acc: 0.9273 - val_loss: 0.4577 - val_acc: 0.8490\n",
      "Epoch 16/60\n",
      "5423/5423 - 3s - loss: 0.1184 - acc: 0.9273 - val_loss: 0.4921 - val_acc: 0.8468\n",
      "Epoch 17/60\n",
      "5423/5423 - 3s - loss: 0.1137 - acc: 0.9294 - val_loss: 0.4967 - val_acc: 0.8440\n",
      "Epoch 18/60\n",
      "5423/5423 - 3s - loss: 0.1124 - acc: 0.9303 - val_loss: 0.5639 - val_acc: 0.8534\n",
      "Epoch 19/60\n",
      "5423/5423 - 3s - loss: 0.1083 - acc: 0.9279 - val_loss: 0.6193 - val_acc: 0.8429\n",
      "Epoch 20/60\n",
      "5423/5423 - 3s - loss: 0.1068 - acc: 0.9299 - val_loss: 0.5529 - val_acc: 0.8429\n",
      "Epoch 21/60\n",
      "5423/5423 - 3s - loss: 0.1069 - acc: 0.9301 - val_loss: 0.6296 - val_acc: 0.8468\n",
      "Epoch 22/60\n",
      "5423/5423 - 3s - loss: 0.1038 - acc: 0.9327 - val_loss: 0.6468 - val_acc: 0.8424\n",
      "Epoch 23/60\n",
      "5423/5423 - 3s - loss: 0.1051 - acc: 0.9340 - val_loss: 0.6623 - val_acc: 0.8457\n",
      "Epoch 24/60\n",
      "5423/5423 - 3s - loss: 0.1021 - acc: 0.9382 - val_loss: 0.6243 - val_acc: 0.8424\n",
      "Epoch 25/60\n",
      "5423/5423 - 3s - loss: 0.1013 - acc: 0.9336 - val_loss: 0.6340 - val_acc: 0.8424\n",
      "Epoch 26/60\n",
      "5423/5423 - 3s - loss: 0.1024 - acc: 0.9353 - val_loss: 0.6535 - val_acc: 0.8451\n",
      "Epoch 27/60\n",
      "5423/5423 - 3s - loss: 0.0982 - acc: 0.9360 - val_loss: 0.6960 - val_acc: 0.8424\n",
      "Epoch 28/60\n",
      "5423/5423 - 3s - loss: 0.0977 - acc: 0.9342 - val_loss: 0.7361 - val_acc: 0.8429\n",
      "Epoch 29/60\n",
      "5423/5423 - 3s - loss: 0.0948 - acc: 0.9323 - val_loss: 0.7495 - val_acc: 0.8462\n",
      "Epoch 30/60\n",
      "5423/5423 - 3s - loss: 0.0948 - acc: 0.9355 - val_loss: 0.7384 - val_acc: 0.8451\n",
      "Epoch 31/60\n",
      "5423/5423 - 3s - loss: 0.0923 - acc: 0.9369 - val_loss: 0.8498 - val_acc: 0.8485\n",
      "Epoch 32/60\n",
      "5423/5423 - 4s - loss: 0.0962 - acc: 0.9362 - val_loss: 0.7279 - val_acc: 0.8374\n",
      "Epoch 33/60\n",
      "5423/5423 - 3s - loss: 0.0945 - acc: 0.9351 - val_loss: 0.8045 - val_acc: 0.8446\n",
      "Epoch 34/60\n",
      "5423/5423 - 3s - loss: 0.1049 - acc: 0.9364 - val_loss: 0.8211 - val_acc: 0.8368\n",
      "Epoch 35/60\n",
      "5423/5423 - 3s - loss: 0.1060 - acc: 0.9349 - val_loss: 0.8104 - val_acc: 0.8468\n",
      "Epoch 36/60\n",
      "5423/5423 - 3s - loss: 0.0964 - acc: 0.9390 - val_loss: 0.7940 - val_acc: 0.8424\n",
      "Epoch 37/60\n",
      "5423/5423 - 3s - loss: 0.0934 - acc: 0.9386 - val_loss: 0.8533 - val_acc: 0.8446\n",
      "Epoch 38/60\n",
      "5423/5423 - 3s - loss: 0.0907 - acc: 0.9371 - val_loss: 0.8078 - val_acc: 0.8418\n",
      "Epoch 39/60\n",
      "5423/5423 - 3s - loss: 0.0892 - acc: 0.9353 - val_loss: 0.8064 - val_acc: 0.8396\n",
      "Epoch 40/60\n",
      "5423/5423 - 3s - loss: 0.0871 - acc: 0.9417 - val_loss: 0.8322 - val_acc: 0.8418\n",
      "Epoch 41/60\n",
      "5423/5423 - 4s - loss: 0.0883 - acc: 0.9419 - val_loss: 0.8454 - val_acc: 0.8374\n",
      "Epoch 42/60\n",
      "5423/5423 - 3s - loss: 0.0873 - acc: 0.9421 - val_loss: 0.8386 - val_acc: 0.8451\n",
      "Epoch 43/60\n",
      "5423/5423 - 3s - loss: 0.0845 - acc: 0.9428 - val_loss: 0.9396 - val_acc: 0.8435\n",
      "Epoch 44/60\n",
      "5423/5423 - 3s - loss: 0.0860 - acc: 0.9390 - val_loss: 0.8872 - val_acc: 0.8435\n",
      "Epoch 45/60\n",
      "5423/5423 - 3s - loss: 0.0827 - acc: 0.9412 - val_loss: 0.9871 - val_acc: 0.8413\n",
      "Epoch 46/60\n",
      "5423/5423 - 3s - loss: 0.0847 - acc: 0.9397 - val_loss: 0.9066 - val_acc: 0.8468\n",
      "Epoch 47/60\n",
      "5423/5423 - 3s - loss: 0.0847 - acc: 0.9404 - val_loss: 0.9374 - val_acc: 0.8429\n",
      "Epoch 48/60\n",
      "5423/5423 - 3s - loss: 0.0869 - acc: 0.9434 - val_loss: 0.9987 - val_acc: 0.8374\n",
      "Epoch 49/60\n",
      "5423/5423 - 4s - loss: 0.0913 - acc: 0.9393 - val_loss: 1.0165 - val_acc: 0.8435\n",
      "Epoch 50/60\n",
      "5423/5423 - 3s - loss: 0.0855 - acc: 0.9408 - val_loss: 0.9818 - val_acc: 0.8457\n",
      "Epoch 51/60\n",
      "5423/5423 - 3s - loss: 0.0831 - acc: 0.9419 - val_loss: 1.0098 - val_acc: 0.8385\n",
      "Epoch 52/60\n",
      "5423/5423 - 3s - loss: 0.0814 - acc: 0.9428 - val_loss: 1.0096 - val_acc: 0.8407\n",
      "Epoch 53/60\n",
      "5423/5423 - 3s - loss: 0.0835 - acc: 0.9393 - val_loss: 1.0083 - val_acc: 0.8402\n",
      "Epoch 54/60\n",
      "5423/5423 - 4s - loss: 0.0811 - acc: 0.9469 - val_loss: 1.1397 - val_acc: 0.8413\n",
      "Epoch 55/60\n",
      "5423/5423 - 4s - loss: 0.0823 - acc: 0.9399 - val_loss: 1.1146 - val_acc: 0.8407\n",
      "Epoch 56/60\n",
      "5423/5423 - 4s - loss: 0.0844 - acc: 0.9375 - val_loss: 0.9755 - val_acc: 0.8413\n",
      "Epoch 57/60\n",
      "5423/5423 - 4s - loss: 0.0855 - acc: 0.9439 - val_loss: 0.9941 - val_acc: 0.8485\n",
      "Epoch 58/60\n",
      "5423/5423 - 4s - loss: 0.0855 - acc: 0.9445 - val_loss: 1.0324 - val_acc: 0.8512\n",
      "Epoch 59/60\n",
      "5423/5423 - 3s - loss: 0.0845 - acc: 0.9430 - val_loss: 1.0664 - val_acc: 0.8429\n",
      "Epoch 60/60\n",
      "5423/5423 - 5s - loss: 0.0798 - acc: 0.9441 - val_loss: 1.1567 - val_acc: 0.8424\n"
     ]
    }
   ],
   "source": [
    "history = model.fit(\n",
    "    X_train_scaled,\n",
    "    y_train_categorical,\n",
    "    validation_data = (X_test_scaled, y_test_categorical),\n",
    "    epochs=60,\n",
    "    shuffle=True,\n",
    "    verbose=2\n",
    ")"
   ]
  },
  {
   "cell_type": "markdown",
   "metadata": {},
   "source": [
    "# Quantify our Trained Model"
   ]
  },
  {
   "cell_type": "markdown",
   "metadata": {},
   "source": [
    "We use our testing data to validate our model. This is how we determine the validity of our model (i.e. the ability to predict new and previously unseen data points)"
   ]
  },
  {
   "cell_type": "code",
   "execution_count": 25,
   "metadata": {},
   "outputs": [
    {
     "name": "stdout",
     "output_type": "stream",
     "text": [
      "1808/1808 - 0s - loss: 1.1567 - acc: 0.8424\n",
      "Normal Neural Network - Loss: 1.1566603806166522, Accuracy: 0.8423672318458557\n"
     ]
    }
   ],
   "source": [
    "model_loss, model_accuracy = model.evaluate(\n",
    "    X_test_scaled, y_test_categorical, verbose=2)\n",
    "print(\n",
    "    f\"Normal Neural Network - Loss: {model_loss}, Accuracy: {model_accuracy}\")"
   ]
  },
  {
   "cell_type": "markdown",
   "metadata": {},
   "source": [
    "# Make Predictions"
   ]
  },
  {
   "cell_type": "markdown",
   "metadata": {},
   "source": [
    "We can use our trained model to make predictions using model.predict"
   ]
  },
  {
   "cell_type": "code",
   "execution_count": 26,
   "metadata": {},
   "outputs": [],
   "source": [
    "encoded_predictions = model.predict_classes(X_test_scaled[:5])\n",
    "prediction_labels = label_encoder.inverse_transform(encoded_predictions)"
   ]
  },
  {
   "cell_type": "code",
   "execution_count": 27,
   "metadata": {},
   "outputs": [
    {
     "name": "stdout",
     "output_type": "stream",
     "text": [
      "Predicted classes: [' Tribal Authorized Casino' ' State Licensed Casino'\n",
      " ' Tribal Authorized Casino' ' State Licensed Casino'\n",
      " ' Tribal Authorized Casino']\n",
      "Actual Labels: [array([' Tribal Authorized Casino'], dtype=object), array([' State Licensed Casino'], dtype=object), array([' Tribal Authorized Casino'], dtype=object), array([' State Licensed Casino'], dtype=object), array([' Tribal Authorized Casino'], dtype=object)]\n"
     ]
    }
   ],
   "source": [
    "print(f\"Predicted classes: {prediction_labels}\")\n",
    "print(f\"Actual Labels: {list(y_test[:5])}\")"
   ]
  },
  {
   "cell_type": "code",
   "execution_count": 28,
   "metadata": {},
   "outputs": [],
   "source": [
    "y_pred = model.predict(X_test_scaled)\n",
    "#Converting predictions to label\n",
    "pred = list()\n",
    "for i in range(len(y_pred)):\n",
    "    pred.append(np.argmax(y_pred[i]))\n",
    "#Converting one hot encoded test label to label\n",
    "test = list()\n",
    "for i in range(len(y_test_categorical)):\n",
    "    test.append(np.argmax(y_test_categorical[i]))"
   ]
  },
  {
   "cell_type": "code",
   "execution_count": 29,
   "metadata": {},
   "outputs": [
    {
     "name": "stdout",
     "output_type": "stream",
     "text": [
      "Accuracy is: 84.23672566371681\n"
     ]
    }
   ],
   "source": [
    "from sklearn.metrics import accuracy_score\n",
    "a = accuracy_score(pred,test)\n",
    "print('Accuracy is:', a*100)"
   ]
  },
  {
   "cell_type": "markdown",
   "metadata": {},
   "source": [
    "# Visualization of training and validation losses and accuracies"
   ]
  },
  {
   "cell_type": "markdown",
   "metadata": {},
   "source": [
    "We can use test data as validation data and can check the accuracies after every epoch. This will give us an insight into overfitting at the time of training only and we can take steps before the completion of all epochs."
   ]
  },
  {
   "cell_type": "markdown",
   "metadata": {},
   "source": [
    "Now we will visualize training and validation losses and accuracies."
   ]
  },
  {
   "cell_type": "code",
   "execution_count": 30,
   "metadata": {},
   "outputs": [
    {
     "data": {
      "image/png": "[encoded data removed]",
      "text/plain": [
       "<Figure size 432x288 with 1 Axes>"
      ]
     },
     "metadata": {
      "needs_background": "light"
     },
     "output_type": "display_data"
    }
   ],
   "source": [
    "import matplotlib.pyplot as plt\n",
    "plt.plot(history.history['acc'])\n",
    "plt.plot(history.history['val_acc'])\n",
    "plt.title('Model accuracy')\n",
    "plt.ylabel('Accuracy')\n",
    "plt.xlabel('Epoch')\n",
    "plt.legend(['Train_scaled', 'Test_categorical'], loc='best')\n",
    "plt.show()"
   ]
  },
  {
   "cell_type": "code",
   "execution_count": 31,
   "metadata": {},
   "outputs": [
    {
     "data": {
      "image/png": "[encoded data removed]",
      "text/plain": [
       "<Figure size 432x288 with 1 Axes>"
      ]
     },
     "metadata": {
      "needs_background": "light"
     },
     "output_type": "display_data"
    }
   ],
   "source": [
    "plt.plot(history.history['loss']) \n",
    "plt.plot(history.history['val_loss']) \n",
    "plt.title('Model loss') \n",
    "plt.ylabel('Loss') \n",
    "plt.xlabel('Epoch') \n",
    "plt.legend(['Train_scaled', 'Test_categorical'], loc='best') \n",
    "plt.show()"
   ]
  },
  {
   "cell_type": "code",
   "execution_count": null,
   "metadata": {},
   "outputs": [],
   "source": []
  }
 ],
 "metadata": {
  "kernelspec": {
   "display_name": "Python 3",
   "language": "python",
   "name": "python3"
  },
  "language_info": {
   "codemirror_mode": {
    "name": "ipython",
    "version": 3
   },
   "file_extension": ".py",
   "mimetype": "text/x-python",
   "name": "python",
   "nbconvert_exporter": "python",
   "pygments_lexer": "ipython3",
   "version": "3.7.4"
  }
 },
 "nbformat": 4,
 "nbformat_minor": 4
}
