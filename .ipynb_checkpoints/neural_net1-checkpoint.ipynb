{
 "cells": [
  {
   "cell_type": "code",
   "execution_count": 1,
   "metadata": {},
   "outputs": [],
   "source": [
    "import matplotlib.pyplot as plt\n",
    "import numpy as np\n",
    "import pandas as pd"
   ]
  },
  {
   "cell_type": "code",
   "execution_count": 2,
   "metadata": {},
   "outputs": [],
   "source": [
    "from numpy.random import seed\n",
    "seed(1)"
   ]
  },
  {
   "cell_type": "code",
   "execution_count": 3,
   "metadata": {},
   "outputs": [
    {
     "data": {
      "text/html": [
       "<div>\n",
       "<style scoped>\n",
       "    .dataframe tbody tr th:only-of-type {\n",
       "        vertical-align: middle;\n",
       "    }\n",
       "\n",
       "    .dataframe tbody tr th {\n",
       "        vertical-align: top;\n",
       "    }\n",
       "\n",
       "    .dataframe thead th {\n",
       "        text-align: right;\n",
       "    }\n",
       "</style>\n",
       "<table border=\"1\" class=\"dataframe\">\n",
       "  <thead>\n",
       "    <tr style=\"text-align: right;\">\n",
       "      <th></th>\n",
       "      <th>Id</th>\n",
       "      <th>Year</th>\n",
       "      <th>State</th>\n",
       "      <th>Countym</th>\n",
       "      <th>Industry</th>\n",
       "      <th>Suspicious Activity</th>\n",
       "      <th>Count</th>\n",
       "      <th>Lat</th>\n",
       "      <th>Long</th>\n",
       "    </tr>\n",
       "  </thead>\n",
       "  <tbody>\n",
       "    <tr>\n",
       "      <th>0</th>\n",
       "      <td>0</td>\n",
       "      <td>2014</td>\n",
       "      <td>Arizona</td>\n",
       "      <td>Coconino County</td>\n",
       "      <td>Tribal Authorized Casino</td>\n",
       "      <td>Alters or Cancels Transaction to Avoid CTR Req...</td>\n",
       "      <td>1</td>\n",
       "      <td>35.829692</td>\n",
       "      <td>-111.773728</td>\n",
       "    </tr>\n",
       "    <tr>\n",
       "      <th>1</th>\n",
       "      <td>1</td>\n",
       "      <td>2014</td>\n",
       "      <td>Arizona</td>\n",
       "      <td>Coconino County</td>\n",
       "      <td>Tribal Authorized Casino</td>\n",
       "      <td>Exchanges Small Bills for Large Bills or Vice ...</td>\n",
       "      <td>1</td>\n",
       "      <td>35.829692</td>\n",
       "      <td>-111.773728</td>\n",
       "    </tr>\n",
       "    <tr>\n",
       "      <th>2</th>\n",
       "      <td>2</td>\n",
       "      <td>2014</td>\n",
       "      <td>Arizona</td>\n",
       "      <td>Coconino County</td>\n",
       "      <td>Tribal Authorized Casino</td>\n",
       "      <td>Other Structuring</td>\n",
       "      <td>1</td>\n",
       "      <td>35.829692</td>\n",
       "      <td>-111.773728</td>\n",
       "    </tr>\n",
       "    <tr>\n",
       "      <th>3</th>\n",
       "      <td>3</td>\n",
       "      <td>2014</td>\n",
       "      <td>Arizona</td>\n",
       "      <td>Coconino County</td>\n",
       "      <td>Tribal Authorized Casino</td>\n",
       "      <td>Provided Questionable or False Documentation</td>\n",
       "      <td>1</td>\n",
       "      <td>35.829692</td>\n",
       "      <td>-111.773728</td>\n",
       "    </tr>\n",
       "    <tr>\n",
       "      <th>4</th>\n",
       "      <td>4</td>\n",
       "      <td>2016</td>\n",
       "      <td>Arizona</td>\n",
       "      <td>Coconino County</td>\n",
       "      <td>Tribal Authorized Casino</td>\n",
       "      <td>Account Takeover</td>\n",
       "      <td>1</td>\n",
       "      <td>35.829692</td>\n",
       "      <td>-111.773728</td>\n",
       "    </tr>\n",
       "  </tbody>\n",
       "</table>\n",
       "</div>"
      ],
      "text/plain": [
       "   Id  Year    State          Countym                   Industry  \\\n",
       "0   0  2014  Arizona  Coconino County   Tribal Authorized Casino   \n",
       "1   1  2014  Arizona  Coconino County   Tribal Authorized Casino   \n",
       "2   2  2014  Arizona  Coconino County   Tribal Authorized Casino   \n",
       "3   3  2014  Arizona  Coconino County   Tribal Authorized Casino   \n",
       "4   4  2016  Arizona  Coconino County   Tribal Authorized Casino   \n",
       "\n",
       "                                 Suspicious Activity Count        Lat  \\\n",
       "0  Alters or Cancels Transaction to Avoid CTR Req...     1  35.829692   \n",
       "1  Exchanges Small Bills for Large Bills or Vice ...     1  35.829692   \n",
       "2                                  Other Structuring     1  35.829692   \n",
       "3       Provided Questionable or False Documentation     1  35.829692   \n",
       "4                                   Account Takeover     1  35.829692   \n",
       "\n",
       "         Long  \n",
       "0 -111.773728  \n",
       "1 -111.773728  \n",
       "2 -111.773728  \n",
       "3 -111.773728  \n",
       "4 -111.773728  "
      ]
     },
     "execution_count": 3,
     "metadata": {},
     "output_type": "execute_result"
    }
   ],
   "source": [
    "df = pd.read_csv('casino_crime.csv')\n",
    "df.head()"
   ]
  },
  {
   "cell_type": "code",
   "execution_count": 4,
   "metadata": {},
   "outputs": [],
   "source": [
    "df['Count'] = df['Count'].str.replace(',', '').astype(float).astype(int)"
   ]
  },
  {
   "cell_type": "code",
   "execution_count": 5,
   "metadata": {},
   "outputs": [
    {
     "data": {
      "text/html": [
       "<div>\n",
       "<style scoped>\n",
       "    .dataframe tbody tr th:only-of-type {\n",
       "        vertical-align: middle;\n",
       "    }\n",
       "\n",
       "    .dataframe tbody tr th {\n",
       "        vertical-align: top;\n",
       "    }\n",
       "\n",
       "    .dataframe thead th {\n",
       "        text-align: right;\n",
       "    }\n",
       "</style>\n",
       "<table border=\"1\" class=\"dataframe\">\n",
       "  <thead>\n",
       "    <tr style=\"text-align: right;\">\n",
       "      <th></th>\n",
       "      <th>State</th>\n",
       "      <th>Industry</th>\n",
       "      <th>Suspicious Activity</th>\n",
       "      <th>Count</th>\n",
       "    </tr>\n",
       "  </thead>\n",
       "  <tbody>\n",
       "    <tr>\n",
       "      <th>0</th>\n",
       "      <td>Arizona</td>\n",
       "      <td>Tribal Authorized Casino</td>\n",
       "      <td>Alters or Cancels Transaction to Avoid CTR Req...</td>\n",
       "      <td>1</td>\n",
       "    </tr>\n",
       "    <tr>\n",
       "      <th>1</th>\n",
       "      <td>Arizona</td>\n",
       "      <td>Tribal Authorized Casino</td>\n",
       "      <td>Exchanges Small Bills for Large Bills or Vice ...</td>\n",
       "      <td>1</td>\n",
       "    </tr>\n",
       "    <tr>\n",
       "      <th>2</th>\n",
       "      <td>Arizona</td>\n",
       "      <td>Tribal Authorized Casino</td>\n",
       "      <td>Other Structuring</td>\n",
       "      <td>1</td>\n",
       "    </tr>\n",
       "    <tr>\n",
       "      <th>3</th>\n",
       "      <td>Arizona</td>\n",
       "      <td>Tribal Authorized Casino</td>\n",
       "      <td>Provided Questionable or False Documentation</td>\n",
       "      <td>1</td>\n",
       "    </tr>\n",
       "    <tr>\n",
       "      <th>4</th>\n",
       "      <td>Arizona</td>\n",
       "      <td>Tribal Authorized Casino</td>\n",
       "      <td>Account Takeover</td>\n",
       "      <td>1</td>\n",
       "    </tr>\n",
       "  </tbody>\n",
       "</table>\n",
       "</div>"
      ],
      "text/plain": [
       "     State                   Industry  \\\n",
       "0  Arizona   Tribal Authorized Casino   \n",
       "1  Arizona   Tribal Authorized Casino   \n",
       "2  Arizona   Tribal Authorized Casino   \n",
       "3  Arizona   Tribal Authorized Casino   \n",
       "4  Arizona   Tribal Authorized Casino   \n",
       "\n",
       "                                 Suspicious Activity  Count  \n",
       "0  Alters or Cancels Transaction to Avoid CTR Req...      1  \n",
       "1  Exchanges Small Bills for Large Bills or Vice ...      1  \n",
       "2                                  Other Structuring      1  \n",
       "3       Provided Questionable or False Documentation      1  \n",
       "4                                   Account Takeover      1  "
      ]
     },
     "execution_count": 5,
     "metadata": {},
     "output_type": "execute_result"
    }
   ],
   "source": [
    "data = df[['State', 'Industry', 'Suspicious Activity', 'Count']]\n",
    "\n",
    "data.head()"
   ]
  },
  {
   "cell_type": "code",
   "execution_count": 6,
   "metadata": {},
   "outputs": [
    {
     "data": {
      "text/plain": [
       "array(['Alters or Cancels Transaction to Avoid CTR Requirement',\n",
       "       'Exchanges Small Bills for Large Bills or Vice Versa',\n",
       "       'Other Structuring',\n",
       "       'Provided Questionable or False Documentation', 'Account Takeover',\n",
       "       'Identity Theft', 'Minimal Gaming with Large Transactions',\n",
       "       'Refused or Avoided Request for Documentation',\n",
       "       'Single Individual with Multiple Identities',\n",
       "       'Suspicion Concerning the Physical Condition of Funds',\n",
       "       'Suspicious Exchange of Currencies',\n",
       "       'Transaction Out of Pattern for Customer(s)',\n",
       "       'Transaction(s) Below BSA Recordkeeping Threshold',\n",
       "       'Transaction(s) Below CTR Threshold',\n",
       "       'Two or More Individuals Working Together',\n",
       "       'Alters or Cancels Transaction to Avoid BSA Recordkeeping Requirement',\n",
       "       'Counterfeit Instrument',\n",
       "       'Customer Cancels Transaction to Avoid Bsa Reporting and Recordkeeping Requirements',\n",
       "       'Embezzlement/Theft/Disappearance of Funds',\n",
       "       'Inquiry about End of Business Day', 'Other Casinos',\n",
       "       'Other Identification Documentation',\n",
       "       'Other Other Suspicious Activities',\n",
       "       'Suspicion Concerning the Source of Funds',\n",
       "       'Suspicious Inquiry by Customer Regarding Bsa Reporting or Recordkeeping Requirements',\n",
       "       'Credit/Debit Card', 'Forgeries',\n",
       "       'Multiple Individuals with Same or Similar Identities',\n",
       "       'Provided Questionable or False Identification',\n",
       "       'Suspected Public/Private Corruption (Domestic)',\n",
       "       'Suspicious Use of Noncash Monetary Instruments',\n",
       "       'Transaction with No Apparent Economic, Business, or Lawful Purpose',\n",
       "       'Other Fraud (Type)',\n",
       "       'Suspected Public/Private Corruption (Foreign)',\n",
       "       'Bribery or Gratuity', 'Changes Spelling or Arrangement of Name',\n",
       "       'Check',\n",
       "       'Little or No Concern for Product Performance Penalites, Fees, or Tax Consequences',\n",
       "       'Suspicious Designation of Beneficiaries, Assignees or Joint Owners',\n",
       "       'Suspicious Intra-Casino Funds Transfers',\n",
       "       'Suspicious Use of Multiple Accounts',\n",
       "       'Suspicious use of multiple transaction locations',\n",
       "       'Suspicious Use of Third-Party Transactors (Straw-Man)',\n",
       "       'Unauthorized Electronic Intrusion', 'Other Money Laundering',\n",
       "       'Unlicensed or Unregistered MSB', 'Chip Walking',\n",
       "       'Misuse of Position or Self-Dealing', 'Wire',\n",
       "       'Other Gaming Activites',\n",
       "       'Suspicious Use of Informal Value Transfer System',\n",
       "       'Transaction(s) Involving Foreign High Risk Jurisdiction',\n",
       "       'Unknown Source of Chips', 'Mail',\n",
       "       'Consumer Loan (see instructions)',\n",
       "       'Against Financial Institution(s)',\n",
       "       'Suspicious EFT/Wire Transfers', 'Elder Financial Exploitation',\n",
       "       'Suspicious Receipt of Government Payments/Benefits',\n",
       "       'Suspicious Use of Counter Checks or Markers', 'Mass-Marketing',\n",
       "       'Other Insurance', 'Other Securities/Futures/Options',\n",
       "       'Other Terrorist',\n",
       "       'Trade Based Money Laundering/Black Market Peso Exchange',\n",
       "       'Pyramid Scheme', 'ACH', 'Other Mortgage Fraud',\n",
       "       'Known or Suspected Terrorist/Terrorist Organization',\n",
       "       'Human Trafficking', 'Insider Trading', 'Ponzi Scheme',\n",
       "       'Healthcare/Public or Private Health Insurance', 'Business Loan',\n",
       "       'Foreclosure/Short Sale Fraud',\n",
       "       'Proceeds Sent to or Received from Unrelated Third Party',\n",
       "       'Market Manipulation/Wash Trading', 'Appraisal Fraud',\n",
       "       'Loan Modification Fraud', 'Misappropriation',\n",
       "       'Excessive or Unusal Cash Borrowing against Policy/Annuity',\n",
       "       'Other Cyber Event', 'Securities',\n",
       "       'Against Financial Institution Customer(s)'], dtype=object)"
      ]
     },
     "execution_count": 6,
     "metadata": {},
     "output_type": "execute_result"
    }
   ],
   "source": [
    "data['Suspicious Activity'].unique()"
   ]
  },
  {
   "cell_type": "code",
   "execution_count": 7,
   "metadata": {},
   "outputs": [
    {
     "data": {
      "text/plain": [
       "Suspicious Activity    object\n",
       "State                  object\n",
       "Industry               object\n",
       "Count                   int64\n",
       "dtype: object"
      ]
     },
     "execution_count": 7,
     "metadata": {},
     "output_type": "execute_result"
    }
   ],
   "source": [
    "activity = data.groupby(['Suspicious Activity', 'State', 'Industry'])['Count'].sum().reset_index()\n",
    "activity.dtypes"
   ]
  },
  {
   "cell_type": "code",
   "execution_count": 8,
   "metadata": {},
   "outputs": [
    {
     "data": {
      "text/html": [
       "<div>\n",
       "<style scoped>\n",
       "    .dataframe tbody tr th:only-of-type {\n",
       "        vertical-align: middle;\n",
       "    }\n",
       "\n",
       "    .dataframe tbody tr th {\n",
       "        vertical-align: top;\n",
       "    }\n",
       "\n",
       "    .dataframe thead th {\n",
       "        text-align: right;\n",
       "    }\n",
       "</style>\n",
       "<table border=\"1\" class=\"dataframe\">\n",
       "  <thead>\n",
       "    <tr style=\"text-align: right;\">\n",
       "      <th></th>\n",
       "      <th>Suspicious Activity</th>\n",
       "      <th>State</th>\n",
       "      <th>Industry</th>\n",
       "      <th>Count</th>\n",
       "    </tr>\n",
       "  </thead>\n",
       "  <tbody>\n",
       "    <tr>\n",
       "      <th>0</th>\n",
       "      <td>ACH</td>\n",
       "      <td>California</td>\n",
       "      <td>Card Club</td>\n",
       "      <td>2</td>\n",
       "    </tr>\n",
       "    <tr>\n",
       "      <th>1</th>\n",
       "      <td>ACH</td>\n",
       "      <td>California</td>\n",
       "      <td>Tribal Authorized Casino</td>\n",
       "      <td>30</td>\n",
       "    </tr>\n",
       "    <tr>\n",
       "      <th>2</th>\n",
       "      <td>ACH</td>\n",
       "      <td>Nevada</td>\n",
       "      <td>State Licensed Casino</td>\n",
       "      <td>12</td>\n",
       "    </tr>\n",
       "    <tr>\n",
       "      <th>3</th>\n",
       "      <td>ACH</td>\n",
       "      <td>New Mexico</td>\n",
       "      <td>Other Casino/Card Club</td>\n",
       "      <td>1</td>\n",
       "    </tr>\n",
       "    <tr>\n",
       "      <th>4</th>\n",
       "      <td>ACH</td>\n",
       "      <td>New Mexico</td>\n",
       "      <td>Tribal Authorized Casino</td>\n",
       "      <td>1</td>\n",
       "    </tr>\n",
       "  </tbody>\n",
       "</table>\n",
       "</div>"
      ],
      "text/plain": [
       "  Suspicious Activity       State                   Industry  Count\n",
       "0                 ACH  California                  Card Club      2\n",
       "1                 ACH  California   Tribal Authorized Casino     30\n",
       "2                 ACH      Nevada      State Licensed Casino     12\n",
       "3                 ACH  New Mexico     Other Casino/Card Club      1\n",
       "4                 ACH  New Mexico   Tribal Authorized Casino      1"
      ]
     },
     "execution_count": 8,
     "metadata": {},
     "output_type": "execute_result"
    }
   ],
   "source": [
    "activity.head()"
   ]
  },
  {
   "cell_type": "code",
   "execution_count": 9,
   "metadata": {},
   "outputs": [
    {
     "data": {
      "text/plain": [
       "Transaction(s) Below CTR Threshold                           14\n",
       "Refused or Avoided Request for Documentation                 13\n",
       "Other Structuring                                            13\n",
       "Two or More Individuals Working Together                     13\n",
       "Other Other Suspicious Activities                            13\n",
       "                                                             ..\n",
       "Market Manipulation/Wash Trading                              1\n",
       "Proceeds Sent to or Received from Unrelated Third Party       1\n",
       "Excessive or Unusal Cash Borrowing against Policy/Annuity     1\n",
       "Business Loan                                                 1\n",
       "Other Cyber Event                                             1\n",
       "Name: Suspicious Activity, Length: 84, dtype: int64"
      ]
     },
     "execution_count": 9,
     "metadata": {},
     "output_type": "execute_result"
    }
   ],
   "source": [
    "activity['Suspicious Activity'].value_counts()"
   ]
  },
  {
   "cell_type": "code",
   "execution_count": 10,
   "metadata": {},
   "outputs": [],
   "source": [
    "# activity['Suspicious Activity'] = activity['Suspicious Activity'].replace(\n",
    "#     {'Other Other Suspicious Activities': 'Diff Suspicious Activities'})"
   ]
  },
  {
   "cell_type": "code",
   "execution_count": 11,
   "metadata": {},
   "outputs": [],
   "source": [
    "# activity['Suspicious Activity'].value_counts()"
   ]
  },
  {
   "cell_type": "code",
   "execution_count": 12,
   "metadata": {},
   "outputs": [
    {
     "data": {
      "text/html": [
       "<div>\n",
       "<style scoped>\n",
       "    .dataframe tbody tr th:only-of-type {\n",
       "        vertical-align: middle;\n",
       "    }\n",
       "\n",
       "    .dataframe tbody tr th {\n",
       "        vertical-align: top;\n",
       "    }\n",
       "\n",
       "    .dataframe thead th {\n",
       "        text-align: right;\n",
       "    }\n",
       "</style>\n",
       "<table border=\"1\" class=\"dataframe\">\n",
       "  <thead>\n",
       "    <tr style=\"text-align: right;\">\n",
       "      <th></th>\n",
       "      <th>Industry</th>\n",
       "      <th>Count</th>\n",
       "      <th>State_Arizona</th>\n",
       "      <th>State_California</th>\n",
       "      <th>State_Colorado</th>\n",
       "      <th>State_Nevada</th>\n",
       "      <th>State_New Mexico</th>\n",
       "      <th>State_Utah</th>\n",
       "      <th>Suspicious Activity_ACH</th>\n",
       "      <th>Suspicious Activity_Account Takeover</th>\n",
       "      <th>...</th>\n",
       "      <th>Suspicious Activity_Transaction Out of Pattern for Customer(s)</th>\n",
       "      <th>Suspicious Activity_Transaction with No Apparent Economic, Business, or Lawful Purpose</th>\n",
       "      <th>Suspicious Activity_Transaction(s) Below BSA Recordkeeping Threshold</th>\n",
       "      <th>Suspicious Activity_Transaction(s) Below CTR Threshold</th>\n",
       "      <th>Suspicious Activity_Transaction(s) Involving Foreign High Risk Jurisdiction</th>\n",
       "      <th>Suspicious Activity_Two or More Individuals Working Together</th>\n",
       "      <th>Suspicious Activity_Unauthorized Electronic Intrusion</th>\n",
       "      <th>Suspicious Activity_Unknown Source of Chips</th>\n",
       "      <th>Suspicious Activity_Unlicensed or Unregistered MSB</th>\n",
       "      <th>Suspicious Activity_Wire</th>\n",
       "    </tr>\n",
       "  </thead>\n",
       "  <tbody>\n",
       "    <tr>\n",
       "      <th>0</th>\n",
       "      <td>Card Club</td>\n",
       "      <td>2</td>\n",
       "      <td>0</td>\n",
       "      <td>1</td>\n",
       "      <td>0</td>\n",
       "      <td>0</td>\n",
       "      <td>0</td>\n",
       "      <td>0</td>\n",
       "      <td>1</td>\n",
       "      <td>0</td>\n",
       "      <td>...</td>\n",
       "      <td>0</td>\n",
       "      <td>0</td>\n",
       "      <td>0</td>\n",
       "      <td>0</td>\n",
       "      <td>0</td>\n",
       "      <td>0</td>\n",
       "      <td>0</td>\n",
       "      <td>0</td>\n",
       "      <td>0</td>\n",
       "      <td>0</td>\n",
       "    </tr>\n",
       "    <tr>\n",
       "      <th>1</th>\n",
       "      <td>Tribal Authorized Casino</td>\n",
       "      <td>30</td>\n",
       "      <td>0</td>\n",
       "      <td>1</td>\n",
       "      <td>0</td>\n",
       "      <td>0</td>\n",
       "      <td>0</td>\n",
       "      <td>0</td>\n",
       "      <td>1</td>\n",
       "      <td>0</td>\n",
       "      <td>...</td>\n",
       "      <td>0</td>\n",
       "      <td>0</td>\n",
       "      <td>0</td>\n",
       "      <td>0</td>\n",
       "      <td>0</td>\n",
       "      <td>0</td>\n",
       "      <td>0</td>\n",
       "      <td>0</td>\n",
       "      <td>0</td>\n",
       "      <td>0</td>\n",
       "    </tr>\n",
       "    <tr>\n",
       "      <th>2</th>\n",
       "      <td>State Licensed Casino</td>\n",
       "      <td>12</td>\n",
       "      <td>0</td>\n",
       "      <td>0</td>\n",
       "      <td>0</td>\n",
       "      <td>1</td>\n",
       "      <td>0</td>\n",
       "      <td>0</td>\n",
       "      <td>1</td>\n",
       "      <td>0</td>\n",
       "      <td>...</td>\n",
       "      <td>0</td>\n",
       "      <td>0</td>\n",
       "      <td>0</td>\n",
       "      <td>0</td>\n",
       "      <td>0</td>\n",
       "      <td>0</td>\n",
       "      <td>0</td>\n",
       "      <td>0</td>\n",
       "      <td>0</td>\n",
       "      <td>0</td>\n",
       "    </tr>\n",
       "    <tr>\n",
       "      <th>3</th>\n",
       "      <td>Other Casino/Card Club</td>\n",
       "      <td>1</td>\n",
       "      <td>0</td>\n",
       "      <td>0</td>\n",
       "      <td>0</td>\n",
       "      <td>0</td>\n",
       "      <td>1</td>\n",
       "      <td>0</td>\n",
       "      <td>1</td>\n",
       "      <td>0</td>\n",
       "      <td>...</td>\n",
       "      <td>0</td>\n",
       "      <td>0</td>\n",
       "      <td>0</td>\n",
       "      <td>0</td>\n",
       "      <td>0</td>\n",
       "      <td>0</td>\n",
       "      <td>0</td>\n",
       "      <td>0</td>\n",
       "      <td>0</td>\n",
       "      <td>0</td>\n",
       "    </tr>\n",
       "    <tr>\n",
       "      <th>4</th>\n",
       "      <td>Tribal Authorized Casino</td>\n",
       "      <td>1</td>\n",
       "      <td>0</td>\n",
       "      <td>0</td>\n",
       "      <td>0</td>\n",
       "      <td>0</td>\n",
       "      <td>1</td>\n",
       "      <td>0</td>\n",
       "      <td>1</td>\n",
       "      <td>0</td>\n",
       "      <td>...</td>\n",
       "      <td>0</td>\n",
       "      <td>0</td>\n",
       "      <td>0</td>\n",
       "      <td>0</td>\n",
       "      <td>0</td>\n",
       "      <td>0</td>\n",
       "      <td>0</td>\n",
       "      <td>0</td>\n",
       "      <td>0</td>\n",
       "      <td>0</td>\n",
       "    </tr>\n",
       "  </tbody>\n",
       "</table>\n",
       "<p>5 rows × 92 columns</p>\n",
       "</div>"
      ],
      "text/plain": [
       "                    Industry  Count  State_Arizona  State_California  \\\n",
       "0                  Card Club      2              0                 1   \n",
       "1   Tribal Authorized Casino     30              0                 1   \n",
       "2      State Licensed Casino     12              0                 0   \n",
       "3     Other Casino/Card Club      1              0                 0   \n",
       "4   Tribal Authorized Casino      1              0                 0   \n",
       "\n",
       "   State_Colorado  State_Nevada  State_New Mexico  State_Utah  \\\n",
       "0               0             0                 0           0   \n",
       "1               0             0                 0           0   \n",
       "2               0             1                 0           0   \n",
       "3               0             0                 1           0   \n",
       "4               0             0                 1           0   \n",
       "\n",
       "   Suspicious Activity_ACH  Suspicious Activity_Account Takeover  ...  \\\n",
       "0                        1                                     0  ...   \n",
       "1                        1                                     0  ...   \n",
       "2                        1                                     0  ...   \n",
       "3                        1                                     0  ...   \n",
       "4                        1                                     0  ...   \n",
       "\n",
       "   Suspicious Activity_Transaction Out of Pattern for Customer(s)  \\\n",
       "0                                                  0                \n",
       "1                                                  0                \n",
       "2                                                  0                \n",
       "3                                                  0                \n",
       "4                                                  0                \n",
       "\n",
       "   Suspicious Activity_Transaction with No Apparent Economic, Business, or Lawful Purpose  \\\n",
       "0                                                  0                                        \n",
       "1                                                  0                                        \n",
       "2                                                  0                                        \n",
       "3                                                  0                                        \n",
       "4                                                  0                                        \n",
       "\n",
       "   Suspicious Activity_Transaction(s) Below BSA Recordkeeping Threshold  \\\n",
       "0                                                  0                      \n",
       "1                                                  0                      \n",
       "2                                                  0                      \n",
       "3                                                  0                      \n",
       "4                                                  0                      \n",
       "\n",
       "   Suspicious Activity_Transaction(s) Below CTR Threshold  \\\n",
       "0                                                  0        \n",
       "1                                                  0        \n",
       "2                                                  0        \n",
       "3                                                  0        \n",
       "4                                                  0        \n",
       "\n",
       "   Suspicious Activity_Transaction(s) Involving Foreign High Risk Jurisdiction  \\\n",
       "0                                                  0                             \n",
       "1                                                  0                             \n",
       "2                                                  0                             \n",
       "3                                                  0                             \n",
       "4                                                  0                             \n",
       "\n",
       "   Suspicious Activity_Two or More Individuals Working Together  \\\n",
       "0                                                  0              \n",
       "1                                                  0              \n",
       "2                                                  0              \n",
       "3                                                  0              \n",
       "4                                                  0              \n",
       "\n",
       "   Suspicious Activity_Unauthorized Electronic Intrusion  \\\n",
       "0                                                  0       \n",
       "1                                                  0       \n",
       "2                                                  0       \n",
       "3                                                  0       \n",
       "4                                                  0       \n",
       "\n",
       "   Suspicious Activity_Unknown Source of Chips  \\\n",
       "0                                            0   \n",
       "1                                            0   \n",
       "2                                            0   \n",
       "3                                            0   \n",
       "4                                            0   \n",
       "\n",
       "   Suspicious Activity_Unlicensed or Unregistered MSB  \\\n",
       "0                                                  0    \n",
       "1                                                  0    \n",
       "2                                                  0    \n",
       "3                                                  0    \n",
       "4                                                  0    \n",
       "\n",
       "   Suspicious Activity_Wire  \n",
       "0                         0  \n",
       "1                         0  \n",
       "2                         0  \n",
       "3                         0  \n",
       "4                         0  \n",
       "\n",
       "[5 rows x 92 columns]"
      ]
     },
     "execution_count": 12,
     "metadata": {},
     "output_type": "execute_result"
    }
   ],
   "source": [
    "activity = pd.get_dummies(activity, columns=['State', 'Suspicious Activity'])\n",
    "activity.head()"
   ]
  },
  {
   "cell_type": "markdown",
   "metadata": {},
   "source": [
    "# Data Pre-Processing"
   ]
  },
  {
   "cell_type": "code",
   "execution_count": 13,
   "metadata": {},
   "outputs": [
    {
     "name": "stdout",
     "output_type": "stream",
     "text": [
      "(555, 91) (555, 1)\n"
     ]
    }
   ],
   "source": [
    "X = activity.drop(columns = ['Industry'])\n",
    "y = activity['Industry'].values.reshape(-1, 1)\n",
    "print(X.shape, y.shape)"
   ]
  },
  {
   "cell_type": "code",
   "execution_count": 14,
   "metadata": {},
   "outputs": [
    {
     "name": "stderr",
     "output_type": "stream",
     "text": [
      "/opt/anaconda3/lib/python3.7/site-packages/tensorflow/python/framework/dtypes.py:516: FutureWarning: Passing (type, 1) or '1type' as a synonym of type is deprecated; in a future version of numpy, it will be understood as (type, (1,)) / '(1,)type'.\n",
      "  _np_qint8 = np.dtype([(\"qint8\", np.int8, 1)])\n",
      "/opt/anaconda3/lib/python3.7/site-packages/tensorflow/python/framework/dtypes.py:517: FutureWarning: Passing (type, 1) or '1type' as a synonym of type is deprecated; in a future version of numpy, it will be understood as (type, (1,)) / '(1,)type'.\n",
      "  _np_quint8 = np.dtype([(\"quint8\", np.uint8, 1)])\n",
      "/opt/anaconda3/lib/python3.7/site-packages/tensorflow/python/framework/dtypes.py:518: FutureWarning: Passing (type, 1) or '1type' as a synonym of type is deprecated; in a future version of numpy, it will be understood as (type, (1,)) / '(1,)type'.\n",
      "  _np_qint16 = np.dtype([(\"qint16\", np.int16, 1)])\n",
      "/opt/anaconda3/lib/python3.7/site-packages/tensorflow/python/framework/dtypes.py:519: FutureWarning: Passing (type, 1) or '1type' as a synonym of type is deprecated; in a future version of numpy, it will be understood as (type, (1,)) / '(1,)type'.\n",
      "  _np_quint16 = np.dtype([(\"quint16\", np.uint16, 1)])\n",
      "/opt/anaconda3/lib/python3.7/site-packages/tensorflow/python/framework/dtypes.py:520: FutureWarning: Passing (type, 1) or '1type' as a synonym of type is deprecated; in a future version of numpy, it will be understood as (type, (1,)) / '(1,)type'.\n",
      "  _np_qint32 = np.dtype([(\"qint32\", np.int32, 1)])\n",
      "/opt/anaconda3/lib/python3.7/site-packages/tensorflow/python/framework/dtypes.py:525: FutureWarning: Passing (type, 1) or '1type' as a synonym of type is deprecated; in a future version of numpy, it will be understood as (type, (1,)) / '(1,)type'.\n",
      "  np_resource = np.dtype([(\"resource\", np.ubyte, 1)])\n",
      "/opt/anaconda3/lib/python3.7/site-packages/tensorboard/compat/tensorflow_stub/dtypes.py:541: FutureWarning: Passing (type, 1) or '1type' as a synonym of type is deprecated; in a future version of numpy, it will be understood as (type, (1,)) / '(1,)type'.\n",
      "  _np_qint8 = np.dtype([(\"qint8\", np.int8, 1)])\n",
      "/opt/anaconda3/lib/python3.7/site-packages/tensorboard/compat/tensorflow_stub/dtypes.py:542: FutureWarning: Passing (type, 1) or '1type' as a synonym of type is deprecated; in a future version of numpy, it will be understood as (type, (1,)) / '(1,)type'.\n",
      "  _np_quint8 = np.dtype([(\"quint8\", np.uint8, 1)])\n",
      "/opt/anaconda3/lib/python3.7/site-packages/tensorboard/compat/tensorflow_stub/dtypes.py:543: FutureWarning: Passing (type, 1) or '1type' as a synonym of type is deprecated; in a future version of numpy, it will be understood as (type, (1,)) / '(1,)type'.\n",
      "  _np_qint16 = np.dtype([(\"qint16\", np.int16, 1)])\n",
      "/opt/anaconda3/lib/python3.7/site-packages/tensorboard/compat/tensorflow_stub/dtypes.py:544: FutureWarning: Passing (type, 1) or '1type' as a synonym of type is deprecated; in a future version of numpy, it will be understood as (type, (1,)) / '(1,)type'.\n",
      "  _np_quint16 = np.dtype([(\"quint16\", np.uint16, 1)])\n",
      "/opt/anaconda3/lib/python3.7/site-packages/tensorboard/compat/tensorflow_stub/dtypes.py:545: FutureWarning: Passing (type, 1) or '1type' as a synonym of type is deprecated; in a future version of numpy, it will be understood as (type, (1,)) / '(1,)type'.\n",
      "  _np_qint32 = np.dtype([(\"qint32\", np.int32, 1)])\n",
      "/opt/anaconda3/lib/python3.7/site-packages/tensorboard/compat/tensorflow_stub/dtypes.py:550: FutureWarning: Passing (type, 1) or '1type' as a synonym of type is deprecated; in a future version of numpy, it will be understood as (type, (1,)) / '(1,)type'.\n",
      "  np_resource = np.dtype([(\"resource\", np.ubyte, 1)])\n"
     ]
    }
   ],
   "source": [
    "from sklearn.model_selection import train_test_split\n",
    "from sklearn.preprocessing import LabelEncoder, MinMaxScaler\n",
    "from tensorflow.keras.utils import to_categorical"
   ]
  },
  {
   "cell_type": "code",
   "execution_count": 15,
   "metadata": {},
   "outputs": [],
   "source": [
    "X_train, X_test, y_train, y_test = train_test_split(\n",
    "    X, y, random_state=1)"
   ]
  },
  {
   "cell_type": "code",
   "execution_count": 16,
   "metadata": {},
   "outputs": [],
   "source": [
    "# y_test"
   ]
  },
  {
   "cell_type": "code",
   "execution_count": 17,
   "metadata": {},
   "outputs": [],
   "source": [
    "X_scaler = MinMaxScaler().fit(X_train)\n",
    "X_train_scaled = X_scaler.transform(X_train)\n",
    "X_test_scaled = X_scaler.transform(X_test)"
   ]
  },
  {
   "cell_type": "code",
   "execution_count": 18,
   "metadata": {},
   "outputs": [
    {
     "name": "stderr",
     "output_type": "stream",
     "text": [
      "/opt/anaconda3/lib/python3.7/site-packages/sklearn/preprocessing/_label.py:235: DataConversionWarning: A column-vector y was passed when a 1d array was expected. Please change the shape of y to (n_samples, ), for example using ravel().\n",
      "  y = column_or_1d(y, warn=True)\n",
      "/opt/anaconda3/lib/python3.7/site-packages/sklearn/preprocessing/_label.py:268: DataConversionWarning: A column-vector y was passed when a 1d array was expected. Please change the shape of y to (n_samples, ), for example using ravel().\n",
      "  y = column_or_1d(y, warn=True)\n"
     ]
    }
   ],
   "source": [
    "# Step 1: Label-encode data set\n",
    "label_encoder = LabelEncoder()\n",
    "label_encoder.fit(y_train)\n",
    "encoded_y_train = label_encoder.transform(y_train)\n",
    "encoded_y_test = label_encoder.transform(y_test)"
   ]
  },
  {
   "cell_type": "code",
   "execution_count": 19,
   "metadata": {},
   "outputs": [],
   "source": [
    "# Step 2: Convert encoded labels to one-hot-encoding\n",
    "y_train_categorical = to_categorical(encoded_y_train)\n",
    "y_test_categorical = to_categorical(encoded_y_test)"
   ]
  },
  {
   "cell_type": "markdown",
   "metadata": {},
   "source": [
    "# Create a Deep Learning Model"
   ]
  },
  {
   "cell_type": "code",
   "execution_count": 20,
   "metadata": {},
   "outputs": [],
   "source": [
    "from tensorflow.keras.models import Sequential\n",
    "from tensorflow.keras.layers import Dense"
   ]
  },
  {
   "cell_type": "code",
   "execution_count": 21,
   "metadata": {},
   "outputs": [
    {
     "name": "stdout",
     "output_type": "stream",
     "text": [
      "WARNING:tensorflow:From /opt/anaconda3/lib/python3.7/site-packages/tensorflow/python/ops/init_ops.py:1251: calling VarianceScaling.__init__ (from tensorflow.python.ops.init_ops) with dtype is deprecated and will be removed in a future version.\n",
      "Instructions for updating:\n",
      "Call initializer instance with the dtype argument instead of passing it to the constructor\n"
     ]
    }
   ],
   "source": [
    "# Create model and add layers\n",
    "model = Sequential()\n",
    "model.add(Dense(units=600, activation='relu', input_dim=91))\n",
    "model.add(Dense(units=200, activation='relu'))\n",
    "model.add(Dense(units=4, activation='softmax'))"
   ]
  },
  {
   "cell_type": "code",
   "execution_count": 22,
   "metadata": {},
   "outputs": [],
   "source": [
    "# Compile and fit the model\n",
    "model.compile(optimizer='adam',\n",
    "              loss='categorical_crossentropy',\n",
    "              metrics=['accuracy'])"
   ]
  },
  {
   "cell_type": "code",
   "execution_count": 23,
   "metadata": {},
   "outputs": [
    {
     "name": "stdout",
     "output_type": "stream",
     "text": [
      "Model: \"sequential\"\n",
      "_________________________________________________________________\n",
      "Layer (type)                 Output Shape              Param #   \n",
      "=================================================================\n",
      "dense (Dense)                (None, 600)               55200     \n",
      "_________________________________________________________________\n",
      "dense_1 (Dense)              (None, 200)               120200    \n",
      "_________________________________________________________________\n",
      "dense_2 (Dense)              (None, 4)                 804       \n",
      "=================================================================\n",
      "Total params: 176,204\n",
      "Trainable params: 176,204\n",
      "Non-trainable params: 0\n",
      "_________________________________________________________________\n"
     ]
    }
   ],
   "source": [
    "model.summary()"
   ]
  },
  {
   "cell_type": "code",
   "execution_count": 24,
   "metadata": {},
   "outputs": [
    {
     "name": "stdout",
     "output_type": "stream",
     "text": [
      "Epoch 1/60\n",
      "416/416 - 0s - loss: 1.2108 - acc: 0.4832\n",
      "Epoch 2/60\n",
      "416/416 - 0s - loss: 1.0145 - acc: 0.5625\n",
      "Epoch 3/60\n",
      "416/416 - 0s - loss: 0.9397 - acc: 0.5817\n",
      "Epoch 4/60\n",
      "416/416 - 0s - loss: 0.8953 - acc: 0.5913\n",
      "Epoch 5/60\n",
      "416/416 - 0s - loss: 0.8565 - acc: 0.5889\n",
      "Epoch 6/60\n",
      "416/416 - 0s - loss: 0.8192 - acc: 0.6130\n",
      "Epoch 7/60\n",
      "416/416 - 0s - loss: 0.7934 - acc: 0.5889\n",
      "Epoch 8/60\n",
      "416/416 - 0s - loss: 0.7665 - acc: 0.6106\n",
      "Epoch 9/60\n",
      "416/416 - 0s - loss: 0.7337 - acc: 0.6226\n",
      "Epoch 10/60\n",
      "416/416 - 0s - loss: 0.7096 - acc: 0.6130\n",
      "Epoch 11/60\n",
      "416/416 - 0s - loss: 0.6817 - acc: 0.6346\n",
      "Epoch 12/60\n",
      "416/416 - 0s - loss: 0.6582 - acc: 0.6202\n",
      "Epoch 13/60\n",
      "416/416 - 0s - loss: 0.6487 - acc: 0.6106\n",
      "Epoch 14/60\n",
      "416/416 - 0s - loss: 0.6311 - acc: 0.6370\n",
      "Epoch 15/60\n",
      "416/416 - 0s - loss: 0.6092 - acc: 0.6611\n",
      "Epoch 16/60\n",
      "416/416 - 0s - loss: 0.6023 - acc: 0.6562\n",
      "Epoch 17/60\n",
      "416/416 - 0s - loss: 0.5924 - acc: 0.6178\n",
      "Epoch 18/60\n",
      "416/416 - 0s - loss: 0.5702 - acc: 0.6418\n",
      "Epoch 19/60\n",
      "416/416 - 0s - loss: 0.5675 - acc: 0.6370\n",
      "Epoch 20/60\n",
      "416/416 - 0s - loss: 0.5553 - acc: 0.6442\n",
      "Epoch 21/60\n",
      "416/416 - 0s - loss: 0.5495 - acc: 0.6442\n",
      "Epoch 22/60\n",
      "416/416 - 0s - loss: 0.5524 - acc: 0.6562\n",
      "Epoch 23/60\n",
      "416/416 - 0s - loss: 0.5549 - acc: 0.6538\n",
      "Epoch 24/60\n",
      "416/416 - 0s - loss: 0.5383 - acc: 0.6971\n",
      "Epoch 25/60\n",
      "416/416 - 0s - loss: 0.5322 - acc: 0.6851\n",
      "Epoch 26/60\n",
      "416/416 - 0s - loss: 0.5278 - acc: 0.6731\n",
      "Epoch 27/60\n",
      "416/416 - 0s - loss: 0.5116 - acc: 0.6683\n",
      "Epoch 28/60\n",
      "416/416 - 0s - loss: 0.5096 - acc: 0.6923\n",
      "Epoch 29/60\n",
      "416/416 - 0s - loss: 0.5097 - acc: 0.6875\n",
      "Epoch 30/60\n",
      "416/416 - 0s - loss: 0.5075 - acc: 0.6635\n",
      "Epoch 31/60\n",
      "416/416 - 0s - loss: 0.5036 - acc: 0.6875\n",
      "Epoch 32/60\n",
      "416/416 - 0s - loss: 0.5075 - acc: 0.6707\n",
      "Epoch 33/60\n",
      "416/416 - 0s - loss: 0.5383 - acc: 0.6827\n",
      "Epoch 34/60\n",
      "416/416 - 0s - loss: 0.5105 - acc: 0.6875\n",
      "Epoch 35/60\n",
      "416/416 - 0s - loss: 0.5031 - acc: 0.6923\n",
      "Epoch 36/60\n",
      "416/416 - 0s - loss: 0.4872 - acc: 0.6659\n",
      "Epoch 37/60\n",
      "416/416 - 0s - loss: 0.4793 - acc: 0.6971\n",
      "Epoch 38/60\n",
      "416/416 - 0s - loss: 0.4859 - acc: 0.6803\n",
      "Epoch 39/60\n",
      "416/416 - 0s - loss: 0.4936 - acc: 0.6827\n",
      "Epoch 40/60\n",
      "416/416 - 0s - loss: 0.4940 - acc: 0.6947\n",
      "Epoch 41/60\n",
      "416/416 - 0s - loss: 0.4875 - acc: 0.7188\n",
      "Epoch 42/60\n",
      "416/416 - 0s - loss: 0.4841 - acc: 0.6779\n",
      "Epoch 43/60\n",
      "416/416 - 0s - loss: 0.4649 - acc: 0.7115\n",
      "Epoch 44/60\n",
      "416/416 - 0s - loss: 0.4693 - acc: 0.6947\n",
      "Epoch 45/60\n",
      "416/416 - 0s - loss: 0.4670 - acc: 0.6803\n",
      "Epoch 46/60\n",
      "416/416 - 0s - loss: 0.4725 - acc: 0.7115\n",
      "Epoch 47/60\n",
      "416/416 - 0s - loss: 0.4646 - acc: 0.7091\n",
      "Epoch 48/60\n",
      "416/416 - 0s - loss: 0.4541 - acc: 0.7139\n",
      "Epoch 49/60\n",
      "416/416 - 0s - loss: 0.4556 - acc: 0.7139\n",
      "Epoch 50/60\n",
      "416/416 - 0s - loss: 0.4644 - acc: 0.7139\n",
      "Epoch 51/60\n",
      "416/416 - 0s - loss: 0.4567 - acc: 0.7188\n",
      "Epoch 52/60\n",
      "416/416 - 0s - loss: 0.4512 - acc: 0.7188\n",
      "Epoch 53/60\n",
      "416/416 - 0s - loss: 0.4427 - acc: 0.7260\n",
      "Epoch 54/60\n",
      "416/416 - 0s - loss: 0.4386 - acc: 0.7163\n",
      "Epoch 55/60\n",
      "416/416 - 0s - loss: 0.4446 - acc: 0.7284\n",
      "Epoch 56/60\n",
      "416/416 - 0s - loss: 0.4476 - acc: 0.7380\n",
      "Epoch 57/60\n",
      "416/416 - 0s - loss: 0.4512 - acc: 0.7067\n",
      "Epoch 58/60\n",
      "416/416 - 0s - loss: 0.4477 - acc: 0.7356\n",
      "Epoch 59/60\n",
      "416/416 - 0s - loss: 0.4461 - acc: 0.7332\n",
      "Epoch 60/60\n",
      "416/416 - 0s - loss: 0.4413 - acc: 0.7212\n"
     ]
    },
    {
     "data": {
      "text/plain": [
       "<tensorflow.python.keras.callbacks.History at 0x1a44716150>"
      ]
     },
     "execution_count": 24,
     "metadata": {},
     "output_type": "execute_result"
    }
   ],
   "source": [
    "model.fit(\n",
    "    X_train_scaled,\n",
    "    y_train_categorical,\n",
    "    epochs=60,\n",
    "    shuffle=True,\n",
    "    verbose=2\n",
    ")"
   ]
  },
  {
   "cell_type": "markdown",
   "metadata": {},
   "source": [
    "# Quantify our Trained Model"
   ]
  },
  {
   "cell_type": "code",
   "execution_count": 25,
   "metadata": {},
   "outputs": [
    {
     "name": "stdout",
     "output_type": "stream",
     "text": [
      "139/139 [==============================] - 0s 1ms/sample - loss: 3.3149 - acc: 0.2734\n",
      "Normal Neural Network - Loss: 3.3148674278808157, Accuracy: 0.2733812928199768\n"
     ]
    }
   ],
   "source": [
    "model_loss, model_accuracy = model.evaluate(\n",
    "    X_test_scaled, y_test_categorical, verbose=1)\n",
    "print(\n",
    "    f\"Normal Neural Network - Loss: {model_loss}, Accuracy: {model_accuracy}\")"
   ]
  },
  {
   "cell_type": "markdown",
   "metadata": {},
   "source": [
    "# Make Predictions"
   ]
  },
  {
   "cell_type": "code",
   "execution_count": 26,
   "metadata": {},
   "outputs": [],
   "source": [
    "encoded_predictions = model.predict_classes(X_test_scaled[:5])\n",
    "prediction_labels = label_encoder.inverse_transform(encoded_predictions)"
   ]
  },
  {
   "cell_type": "code",
   "execution_count": 27,
   "metadata": {},
   "outputs": [
    {
     "name": "stdout",
     "output_type": "stream",
     "text": [
      "Predicted classes: [' Card Club' ' State Licensed Casino' ' Tribal Authorized Casino'\n",
      " ' Card Club' ' Other Casino/Card Club']\n",
      "Actual Labels: [array([' State Licensed Casino'], dtype=object), array([' Tribal Authorized Casino'], dtype=object), array([' Card Club'], dtype=object), array([' Tribal Authorized Casino'], dtype=object)]\n"
     ]
    }
   ],
   "source": [
    "print(f\"Predicted classes: {prediction_labels}\")\n",
    "print(f\"Actual Labels: {list(y_test[:4])}\")"
   ]
  },
  {
   "cell_type": "code",
   "execution_count": null,
   "metadata": {},
   "outputs": [],
   "source": []
  },
  {
   "cell_type": "code",
   "execution_count": null,
   "metadata": {},
   "outputs": [],
   "source": []
  }
 ],
 "metadata": {
  "kernelspec": {
   "display_name": "Python 3",
   "language": "python",
   "name": "python3"
  },
  "language_info": {
   "codemirror_mode": {
    "name": "ipython",
    "version": 3
   },
   "file_extension": ".py",
   "mimetype": "text/x-python",
   "name": "python",
   "nbconvert_exporter": "python",
   "pygments_lexer": "ipython3",
   "version": "3.7.4"
  }
 },
 "nbformat": 4,
 "nbformat_minor": 4
}
