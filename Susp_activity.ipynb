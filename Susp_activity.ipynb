{
 "cells": [
  {
   "cell_type": "code",
   "execution_count": 52,
   "metadata": {},
   "outputs": [],
   "source": [
    "# Dependencies\n",
    "import pandas as pd"
   ]
  },
  {
   "cell_type": "code",
   "execution_count": 53,
   "metadata": {},
   "outputs": [
    {
     "data": {
      "text/html": [
       "<div>\n",
       "<style scoped>\n",
       "    .dataframe tbody tr th:only-of-type {\n",
       "        vertical-align: middle;\n",
       "    }\n",
       "\n",
       "    .dataframe tbody tr th {\n",
       "        vertical-align: top;\n",
       "    }\n",
       "\n",
       "    .dataframe thead th {\n",
       "        text-align: right;\n",
       "    }\n",
       "</style>\n",
       "<table border=\"1\" class=\"dataframe\">\n",
       "  <thead>\n",
       "    <tr style=\"text-align: right;\">\n",
       "      <th></th>\n",
       "      <th>Year Month</th>\n",
       "      <th>State</th>\n",
       "      <th>Countym</th>\n",
       "      <th>Industry</th>\n",
       "      <th>Suspicious Activity</th>\n",
       "      <th>Count</th>\n",
       "    </tr>\n",
       "  </thead>\n",
       "  <tbody>\n",
       "    <tr>\n",
       "      <td>0</td>\n",
       "      <td>2014</td>\n",
       "      <td>Arizona</td>\n",
       "      <td>Coconino County, AZ</td>\n",
       "      <td>Casino/Card Club - Tribal Authorized Casino</td>\n",
       "      <td>Alters or Cancels Transaction to Avoid CTR Req...</td>\n",
       "      <td>1</td>\n",
       "    </tr>\n",
       "    <tr>\n",
       "      <td>1</td>\n",
       "      <td>2014</td>\n",
       "      <td>Arizona</td>\n",
       "      <td>Coconino County, AZ</td>\n",
       "      <td>Casino/Card Club - Tribal Authorized Casino</td>\n",
       "      <td>Exchanges Small Bills for Large Bills or Vice ...</td>\n",
       "      <td>1</td>\n",
       "    </tr>\n",
       "    <tr>\n",
       "      <td>2</td>\n",
       "      <td>2014</td>\n",
       "      <td>Arizona</td>\n",
       "      <td>Coconino County, AZ</td>\n",
       "      <td>Casino/Card Club - Tribal Authorized Casino</td>\n",
       "      <td>Other Structuring</td>\n",
       "      <td>1</td>\n",
       "    </tr>\n",
       "    <tr>\n",
       "      <td>3</td>\n",
       "      <td>2014</td>\n",
       "      <td>Arizona</td>\n",
       "      <td>Coconino County, AZ</td>\n",
       "      <td>Casino/Card Club - Tribal Authorized Casino</td>\n",
       "      <td>Provided Questionable or False Documentation</td>\n",
       "      <td>1</td>\n",
       "    </tr>\n",
       "    <tr>\n",
       "      <td>4</td>\n",
       "      <td>2014</td>\n",
       "      <td>Arizona</td>\n",
       "      <td>Coconino County, AZ</td>\n",
       "      <td>Casino/Card Club - Tribal Authorized Casino</td>\n",
       "      <td>[Total]</td>\n",
       "      <td>4</td>\n",
       "    </tr>\n",
       "  </tbody>\n",
       "</table>\n",
       "</div>"
      ],
      "text/plain": [
       "  Year Month    State              Countym  \\\n",
       "0       2014  Arizona  Coconino County, AZ   \n",
       "1       2014  Arizona  Coconino County, AZ   \n",
       "2       2014  Arizona  Coconino County, AZ   \n",
       "3       2014  Arizona  Coconino County, AZ   \n",
       "4       2014  Arizona  Coconino County, AZ   \n",
       "\n",
       "                                      Industry  \\\n",
       "0  Casino/Card Club - Tribal Authorized Casino   \n",
       "1  Casino/Card Club - Tribal Authorized Casino   \n",
       "2  Casino/Card Club - Tribal Authorized Casino   \n",
       "3  Casino/Card Club - Tribal Authorized Casino   \n",
       "4  Casino/Card Club - Tribal Authorized Casino   \n",
       "\n",
       "                                 Suspicious Activity Count  \n",
       "0  Alters or Cancels Transaction to Avoid CTR Req...     1  \n",
       "1  Exchanges Small Bills for Large Bills or Vice ...     1  \n",
       "2                                  Other Structuring     1  \n",
       "3       Provided Questionable or False Documentation     1  \n",
       "4                                            [Total]     4  "
      ]
     },
     "execution_count": 53,
     "metadata": {},
     "output_type": "execute_result"
    }
   ],
   "source": [
    "sarstats = pd.read_csv('data/SARStats_casino.csv')\n",
    "sw_countyloc = pd.read_csv('data/SW_countyloc.csv')\n",
    "sarstats.head()"
   ]
  },
  {
   "cell_type": "code",
   "execution_count": 54,
   "metadata": {},
   "outputs": [
    {
     "data": {
      "text/plain": [
       "Year Month             9317\n",
       "State                  9317\n",
       "Countym                9317\n",
       "Industry               9317\n",
       "Suspicious Activity    9317\n",
       "Count                  9317\n",
       "dtype: int64"
      ]
     },
     "execution_count": 54,
     "metadata": {},
     "output_type": "execute_result"
    }
   ],
   "source": [
    "sarstats.count()"
   ]
  },
  {
   "cell_type": "code",
   "execution_count": 55,
   "metadata": {},
   "outputs": [
    {
     "data": {
      "text/html": [
       "<div>\n",
       "<style scoped>\n",
       "    .dataframe tbody tr th:only-of-type {\n",
       "        vertical-align: middle;\n",
       "    }\n",
       "\n",
       "    .dataframe tbody tr th {\n",
       "        vertical-align: top;\n",
       "    }\n",
       "\n",
       "    .dataframe thead th {\n",
       "        text-align: right;\n",
       "    }\n",
       "</style>\n",
       "<table border=\"1\" class=\"dataframe\">\n",
       "  <thead>\n",
       "    <tr style=\"text-align: right;\">\n",
       "      <th></th>\n",
       "      <th>Year</th>\n",
       "      <th>State</th>\n",
       "      <th>Countym</th>\n",
       "      <th>Industry</th>\n",
       "      <th>Suspicious Activity</th>\n",
       "      <th>Count</th>\n",
       "    </tr>\n",
       "  </thead>\n",
       "  <tbody>\n",
       "    <tr>\n",
       "      <td>0</td>\n",
       "      <td>2014</td>\n",
       "      <td>Arizona</td>\n",
       "      <td>Coconino County, AZ</td>\n",
       "      <td>Tribal Authorized Casino</td>\n",
       "      <td>Alters or Cancels Transaction to Avoid CTR Req...</td>\n",
       "      <td>1</td>\n",
       "    </tr>\n",
       "    <tr>\n",
       "      <td>1</td>\n",
       "      <td>2014</td>\n",
       "      <td>Arizona</td>\n",
       "      <td>Coconino County, AZ</td>\n",
       "      <td>Tribal Authorized Casino</td>\n",
       "      <td>Exchanges Small Bills for Large Bills or Vice ...</td>\n",
       "      <td>1</td>\n",
       "    </tr>\n",
       "    <tr>\n",
       "      <td>2</td>\n",
       "      <td>2014</td>\n",
       "      <td>Arizona</td>\n",
       "      <td>Coconino County, AZ</td>\n",
       "      <td>Tribal Authorized Casino</td>\n",
       "      <td>Other Structuring</td>\n",
       "      <td>1</td>\n",
       "    </tr>\n",
       "    <tr>\n",
       "      <td>3</td>\n",
       "      <td>2014</td>\n",
       "      <td>Arizona</td>\n",
       "      <td>Coconino County, AZ</td>\n",
       "      <td>Tribal Authorized Casino</td>\n",
       "      <td>Provided Questionable or False Documentation</td>\n",
       "      <td>1</td>\n",
       "    </tr>\n",
       "    <tr>\n",
       "      <td>6</td>\n",
       "      <td>2014</td>\n",
       "      <td>Arizona</td>\n",
       "      <td>Maricopa County, AZ</td>\n",
       "      <td>Tribal Authorized Casino</td>\n",
       "      <td>Account Takeover</td>\n",
       "      <td>11</td>\n",
       "    </tr>\n",
       "  </tbody>\n",
       "</table>\n",
       "</div>"
      ],
      "text/plain": [
       "   Year    State              Countym                   Industry  \\\n",
       "0  2014  Arizona  Coconino County, AZ   Tribal Authorized Casino   \n",
       "1  2014  Arizona  Coconino County, AZ   Tribal Authorized Casino   \n",
       "2  2014  Arizona  Coconino County, AZ   Tribal Authorized Casino   \n",
       "3  2014  Arizona  Coconino County, AZ   Tribal Authorized Casino   \n",
       "6  2014  Arizona  Maricopa County, AZ   Tribal Authorized Casino   \n",
       "\n",
       "                                 Suspicious Activity Count  \n",
       "0  Alters or Cancels Transaction to Avoid CTR Req...     1  \n",
       "1  Exchanges Small Bills for Large Bills or Vice ...     1  \n",
       "2                                  Other Structuring     1  \n",
       "3       Provided Questionable or False Documentation     1  \n",
       "6                                   Account Takeover    11  "
      ]
     },
     "execution_count": 55,
     "metadata": {},
     "output_type": "execute_result"
    }
   ],
   "source": [
    "sarstats.drop(sarstats.loc[sarstats['Suspicious Activity']=='[Total]'].index, inplace=True)\n",
    "sarstats.drop(sarstats.loc[sarstats['Year Month']== '2020'].index, inplace=True)\n",
    "sarstats.rename(columns={\"Year Month\": \"Year\"}, inplace=True)\n",
    "sarstats['Industry'] = sarstats['Industry'].str.split('\\-+').str[1]\n",
    "\n",
    "sarstats.head()"
   ]
  },
  {
   "cell_type": "code",
   "execution_count": 56,
   "metadata": {},
   "outputs": [
    {
     "data": {
      "text/plain": [
       "Year                   7269\n",
       "State                  7269\n",
       "Countym                7269\n",
       "Industry               7268\n",
       "Suspicious Activity    7269\n",
       "Count                  7269\n",
       "dtype: int64"
      ]
     },
     "execution_count": 56,
     "metadata": {},
     "output_type": "execute_result"
    }
   ],
   "source": [
    "sarstats.count()"
   ]
  },
  {
   "cell_type": "code",
   "execution_count": 57,
   "metadata": {},
   "outputs": [
    {
     "data": {
      "text/html": [
       "<div>\n",
       "<style scoped>\n",
       "    .dataframe tbody tr th:only-of-type {\n",
       "        vertical-align: middle;\n",
       "    }\n",
       "\n",
       "    .dataframe tbody tr th {\n",
       "        vertical-align: top;\n",
       "    }\n",
       "\n",
       "    .dataframe thead th {\n",
       "        text-align: right;\n",
       "    }\n",
       "</style>\n",
       "<table border=\"1\" class=\"dataframe\">\n",
       "  <thead>\n",
       "    <tr style=\"text-align: right;\">\n",
       "      <th></th>\n",
       "      <th>Industry</th>\n",
       "      <th>Suspicious Activity</th>\n",
       "      <th>State</th>\n",
       "      <th>Countym</th>\n",
       "      <th>Count</th>\n",
       "    </tr>\n",
       "  </thead>\n",
       "  <tbody>\n",
       "    <tr>\n",
       "      <td>0</td>\n",
       "      <td>Card Club</td>\n",
       "      <td>ACH</td>\n",
       "      <td>California</td>\n",
       "      <td>Los Angeles County, CA</td>\n",
       "      <td>1</td>\n",
       "    </tr>\n",
       "    <tr>\n",
       "      <td>1</td>\n",
       "      <td>Card Club</td>\n",
       "      <td>ACH</td>\n",
       "      <td>California</td>\n",
       "      <td>San Joaquin County, CA</td>\n",
       "      <td>1</td>\n",
       "    </tr>\n",
       "    <tr>\n",
       "      <td>2</td>\n",
       "      <td>Card Club</td>\n",
       "      <td>Account Takeover</td>\n",
       "      <td>California</td>\n",
       "      <td>Contra Costa County, CA</td>\n",
       "      <td>1</td>\n",
       "    </tr>\n",
       "    <tr>\n",
       "      <td>3</td>\n",
       "      <td>Card Club</td>\n",
       "      <td>Account Takeover</td>\n",
       "      <td>California</td>\n",
       "      <td>Kern County, CA</td>\n",
       "      <td>1</td>\n",
       "    </tr>\n",
       "    <tr>\n",
       "      <td>4</td>\n",
       "      <td>Card Club</td>\n",
       "      <td>Account Takeover</td>\n",
       "      <td>California</td>\n",
       "      <td>San Diego County, CA</td>\n",
       "      <td>1</td>\n",
       "    </tr>\n",
       "  </tbody>\n",
       "</table>\n",
       "</div>"
      ],
      "text/plain": [
       "     Industry Suspicious Activity       State                  Countym  Count\n",
       "0   Card Club                 ACH  California   Los Angeles County, CA      1\n",
       "1   Card Club                 ACH  California   San Joaquin County, CA      1\n",
       "2   Card Club    Account Takeover  California  Contra Costa County, CA      1\n",
       "3   Card Club    Account Takeover  California          Kern County, CA      1\n",
       "4   Card Club    Account Takeover  California     San Diego County, CA      1"
      ]
     },
     "execution_count": 57,
     "metadata": {},
     "output_type": "execute_result"
    }
   ],
   "source": [
    "act_county = sarstats.groupby([ 'Industry', 'Suspicious Activity', 'State', 'Countym'])['Count'].count().reset_index()\n",
    "act_county.head()\n"
   ]
  },
  {
   "cell_type": "code",
   "execution_count": 58,
   "metadata": {},
   "outputs": [],
   "source": [
    "act_county['Count'] = act_county['Count'].astype(int)\n"
   ]
  },
  {
   "cell_type": "code",
   "execution_count": 59,
   "metadata": {},
   "outputs": [
    {
     "data": {
      "text/plain": [
       "6"
      ]
     },
     "execution_count": 59,
     "metadata": {},
     "output_type": "execute_result"
    }
   ],
   "source": [
    "act_county['Count'].max()"
   ]
  },
  {
   "cell_type": "code",
   "execution_count": 60,
   "metadata": {},
   "outputs": [
    {
     "data": {
      "text/html": [
       "<div>\n",
       "<style scoped>\n",
       "    .dataframe tbody tr th:only-of-type {\n",
       "        vertical-align: middle;\n",
       "    }\n",
       "\n",
       "    .dataframe tbody tr th {\n",
       "        vertical-align: top;\n",
       "    }\n",
       "\n",
       "    .dataframe thead th {\n",
       "        text-align: right;\n",
       "    }\n",
       "</style>\n",
       "<table border=\"1\" class=\"dataframe\">\n",
       "  <thead>\n",
       "    <tr style=\"text-align: right;\">\n",
       "      <th></th>\n",
       "      <th>Industry</th>\n",
       "      <th>Suspicious Activity</th>\n",
       "      <th>State</th>\n",
       "      <th>Countym</th>\n",
       "      <th>Count</th>\n",
       "    </tr>\n",
       "  </thead>\n",
       "  <tbody>\n",
       "    <tr>\n",
       "      <td>1973</td>\n",
       "      <td>Tribal Authorized Casino</td>\n",
       "      <td>Provided Questionable or False Documentation</td>\n",
       "      <td>California</td>\n",
       "      <td>San Bernardino County, CA</td>\n",
       "      <td>6</td>\n",
       "    </tr>\n",
       "    <tr>\n",
       "      <td>2574</td>\n",
       "      <td>Tribal Authorized Casino</td>\n",
       "      <td>Transaction(s) Below CTR Threshold</td>\n",
       "      <td>California</td>\n",
       "      <td>Kings County, CA</td>\n",
       "      <td>6</td>\n",
       "    </tr>\n",
       "    <tr>\n",
       "      <td>2582</td>\n",
       "      <td>Tribal Authorized Casino</td>\n",
       "      <td>Transaction(s) Below CTR Threshold</td>\n",
       "      <td>California</td>\n",
       "      <td>Riverside County, CA</td>\n",
       "      <td>6</td>\n",
       "    </tr>\n",
       "    <tr>\n",
       "      <td>1064</td>\n",
       "      <td>Tribal Authorized Casino</td>\n",
       "      <td>Alters or Cancels Transaction to Avoid BSA Rec...</td>\n",
       "      <td>California</td>\n",
       "      <td>San Diego County, CA</td>\n",
       "      <td>6</td>\n",
       "    </tr>\n",
       "    <tr>\n",
       "      <td>1063</td>\n",
       "      <td>Tribal Authorized Casino</td>\n",
       "      <td>Alters or Cancels Transaction to Avoid BSA Rec...</td>\n",
       "      <td>California</td>\n",
       "      <td>San Bernardino County, CA</td>\n",
       "      <td>6</td>\n",
       "    </tr>\n",
       "  </tbody>\n",
       "</table>\n",
       "</div>"
      ],
      "text/plain": [
       "                       Industry  \\\n",
       "1973   Tribal Authorized Casino   \n",
       "2574   Tribal Authorized Casino   \n",
       "2582   Tribal Authorized Casino   \n",
       "1064   Tribal Authorized Casino   \n",
       "1063   Tribal Authorized Casino   \n",
       "\n",
       "                                    Suspicious Activity       State  \\\n",
       "1973       Provided Questionable or False Documentation  California   \n",
       "2574                 Transaction(s) Below CTR Threshold  California   \n",
       "2582                 Transaction(s) Below CTR Threshold  California   \n",
       "1064  Alters or Cancels Transaction to Avoid BSA Rec...  California   \n",
       "1063  Alters or Cancels Transaction to Avoid BSA Rec...  California   \n",
       "\n",
       "                        Countym  Count  \n",
       "1973  San Bernardino County, CA      6  \n",
       "2574           Kings County, CA      6  \n",
       "2582       Riverside County, CA      6  \n",
       "1064       San Diego County, CA      6  \n",
       "1063  San Bernardino County, CA      6  "
      ]
     },
     "execution_count": 60,
     "metadata": {},
     "output_type": "execute_result"
    }
   ],
   "source": [
    "top_act = act_county.sort_values(by=['Count'], ascending=False)\n",
    "top_act.head()"
   ]
  },
  {
   "cell_type": "code",
   "execution_count": 61,
   "metadata": {},
   "outputs": [
    {
     "data": {
      "text/plain": [
       "Industry               2774\n",
       "Suspicious Activity    2774\n",
       "State                  2774\n",
       "Countym                2774\n",
       "Count                  2774\n",
       "dtype: int64"
      ]
     },
     "execution_count": 61,
     "metadata": {},
     "output_type": "execute_result"
    }
   ],
   "source": [
    "top_act.count()"
   ]
  },
  {
   "cell_type": "code",
   "execution_count": 62,
   "metadata": {},
   "outputs": [
    {
     "data": {
      "text/html": [
       "<div>\n",
       "<style scoped>\n",
       "    .dataframe tbody tr th:only-of-type {\n",
       "        vertical-align: middle;\n",
       "    }\n",
       "\n",
       "    .dataframe tbody tr th {\n",
       "        vertical-align: top;\n",
       "    }\n",
       "\n",
       "    .dataframe thead th {\n",
       "        text-align: right;\n",
       "    }\n",
       "</style>\n",
       "<table border=\"1\" class=\"dataframe\">\n",
       "  <thead>\n",
       "    <tr style=\"text-align: right;\">\n",
       "      <th></th>\n",
       "      <th>Suspicious Activity</th>\n",
       "      <th>State</th>\n",
       "      <th>Count</th>\n",
       "    </tr>\n",
       "  </thead>\n",
       "  <tbody>\n",
       "    <tr>\n",
       "      <td>0</td>\n",
       "      <td>ACH</td>\n",
       "      <td>California</td>\n",
       "      <td>9</td>\n",
       "    </tr>\n",
       "    <tr>\n",
       "      <td>1</td>\n",
       "      <td>ACH</td>\n",
       "      <td>Nevada</td>\n",
       "      <td>6</td>\n",
       "    </tr>\n",
       "    <tr>\n",
       "      <td>2</td>\n",
       "      <td>ACH</td>\n",
       "      <td>New Mexico</td>\n",
       "      <td>2</td>\n",
       "    </tr>\n",
       "    <tr>\n",
       "      <td>3</td>\n",
       "      <td>Account Takeover</td>\n",
       "      <td>Arizona</td>\n",
       "      <td>7</td>\n",
       "    </tr>\n",
       "    <tr>\n",
       "      <td>4</td>\n",
       "      <td>Account Takeover</td>\n",
       "      <td>California</td>\n",
       "      <td>15</td>\n",
       "    </tr>\n",
       "  </tbody>\n",
       "</table>\n",
       "</div>"
      ],
      "text/plain": [
       "  Suspicious Activity       State  Count\n",
       "0                 ACH  California      9\n",
       "1                 ACH      Nevada      6\n",
       "2                 ACH  New Mexico      2\n",
       "3    Account Takeover     Arizona      7\n",
       "4    Account Takeover  California     15"
      ]
     },
     "execution_count": 62,
     "metadata": {},
     "output_type": "execute_result"
    }
   ],
   "source": [
    "act_state = sarstats.groupby(['Suspicious Activity','State'])['Count'].count().reset_index()\n",
    "act_state.head()"
   ]
  },
  {
   "cell_type": "code",
   "execution_count": 63,
   "metadata": {},
   "outputs": [
    {
     "data": {
      "text/plain": [
       "Suspicious Activity    326\n",
       "State                  326\n",
       "Count                  326\n",
       "dtype: int64"
      ]
     },
     "execution_count": 63,
     "metadata": {},
     "output_type": "execute_result"
    }
   ],
   "source": [
    "act_state.count()"
   ]
  },
  {
   "cell_type": "code",
   "execution_count": 64,
   "metadata": {},
   "outputs": [
    {
     "data": {
      "text/html": [
       "<div>\n",
       "<style scoped>\n",
       "    .dataframe tbody tr th:only-of-type {\n",
       "        vertical-align: middle;\n",
       "    }\n",
       "\n",
       "    .dataframe tbody tr th {\n",
       "        vertical-align: top;\n",
       "    }\n",
       "\n",
       "    .dataframe thead th {\n",
       "        text-align: right;\n",
       "    }\n",
       "</style>\n",
       "<table border=\"1\" class=\"dataframe\">\n",
       "  <thead>\n",
       "    <tr style=\"text-align: right;\">\n",
       "      <th></th>\n",
       "      <th>Suspicious Activity</th>\n",
       "      <th>State</th>\n",
       "      <th>Count</th>\n",
       "    </tr>\n",
       "  </thead>\n",
       "  <tbody>\n",
       "    <tr>\n",
       "      <td>295</td>\n",
       "      <td>Transaction(s) Below CTR Threshold</td>\n",
       "      <td>California</td>\n",
       "      <td>203</td>\n",
       "    </tr>\n",
       "    <tr>\n",
       "      <td>194</td>\n",
       "      <td>Refused or Avoided Request for Documentation</td>\n",
       "      <td>California</td>\n",
       "      <td>196</td>\n",
       "    </tr>\n",
       "    <tr>\n",
       "      <td>17</td>\n",
       "      <td>Alters or Cancels Transaction to Avoid CTR Req...</td>\n",
       "      <td>California</td>\n",
       "      <td>192</td>\n",
       "    </tr>\n",
       "    <tr>\n",
       "      <td>304</td>\n",
       "      <td>Two or More Individuals Working Together</td>\n",
       "      <td>California</td>\n",
       "      <td>188</td>\n",
       "    </tr>\n",
       "    <tr>\n",
       "      <td>113</td>\n",
       "      <td>Minimal Gaming with Large Transactions</td>\n",
       "      <td>California</td>\n",
       "      <td>182</td>\n",
       "    </tr>\n",
       "  </tbody>\n",
       "</table>\n",
       "</div>"
      ],
      "text/plain": [
       "                                   Suspicious Activity       State  Count\n",
       "295                 Transaction(s) Below CTR Threshold  California    203\n",
       "194       Refused or Avoided Request for Documentation  California    196\n",
       "17   Alters or Cancels Transaction to Avoid CTR Req...  California    192\n",
       "304           Two or More Individuals Working Together  California    188\n",
       "113             Minimal Gaming with Large Transactions  California    182"
      ]
     },
     "execution_count": 64,
     "metadata": {},
     "output_type": "execute_result"
    }
   ],
   "source": [
    "top_act_state = act_state.sort_values(by=['Count'], ascending=False)\n",
    "top_act_state.head()"
   ]
  },
  {
   "cell_type": "code",
   "execution_count": 65,
   "metadata": {},
   "outputs": [
    {
     "data": {
      "text/html": [
       "<div>\n",
       "<style scoped>\n",
       "    .dataframe tbody tr th:only-of-type {\n",
       "        vertical-align: middle;\n",
       "    }\n",
       "\n",
       "    .dataframe tbody tr th {\n",
       "        vertical-align: top;\n",
       "    }\n",
       "\n",
       "    .dataframe thead th {\n",
       "        text-align: right;\n",
       "    }\n",
       "</style>\n",
       "<table border=\"1\" class=\"dataframe\">\n",
       "  <thead>\n",
       "    <tr style=\"text-align: right;\">\n",
       "      <th></th>\n",
       "      <th>USPS</th>\n",
       "      <th>GEOID</th>\n",
       "      <th>ANSICODE</th>\n",
       "      <th>NAME</th>\n",
       "      <th>Countym</th>\n",
       "      <th>ALAND</th>\n",
       "      <th>AWATER</th>\n",
       "      <th>ALAND_SQMI</th>\n",
       "      <th>AWATER_SQMI</th>\n",
       "      <th>INTPTLAT</th>\n",
       "      <th>INTPTLONG</th>\n",
       "    </tr>\n",
       "  </thead>\n",
       "  <tbody>\n",
       "    <tr>\n",
       "      <td>0</td>\n",
       "      <td>AZ</td>\n",
       "      <td>4001</td>\n",
       "      <td>25441</td>\n",
       "      <td>Apache County</td>\n",
       "      <td>Apache County, AZ</td>\n",
       "      <td>29002035366</td>\n",
       "      <td>54153162</td>\n",
       "      <td>11197.749</td>\n",
       "      <td>20.909</td>\n",
       "      <td>35.385084</td>\n",
       "      <td>-109.490172</td>\n",
       "    </tr>\n",
       "    <tr>\n",
       "      <td>1</td>\n",
       "      <td>AZ</td>\n",
       "      <td>4003</td>\n",
       "      <td>25442</td>\n",
       "      <td>Cochise County</td>\n",
       "      <td>Cochise County, AZ</td>\n",
       "      <td>16083174724</td>\n",
       "      <td>17667961</td>\n",
       "      <td>6209.749</td>\n",
       "      <td>6.822</td>\n",
       "      <td>31.840129</td>\n",
       "      <td>-109.775163</td>\n",
       "    </tr>\n",
       "    <tr>\n",
       "      <td>2</td>\n",
       "      <td>AZ</td>\n",
       "      <td>4005</td>\n",
       "      <td>25443</td>\n",
       "      <td>Coconino County</td>\n",
       "      <td>Coconino County, AZ</td>\n",
       "      <td>48217246133</td>\n",
       "      <td>116631412</td>\n",
       "      <td>18616.784</td>\n",
       "      <td>45.032</td>\n",
       "      <td>35.829692</td>\n",
       "      <td>-111.773728</td>\n",
       "    </tr>\n",
       "    <tr>\n",
       "      <td>3</td>\n",
       "      <td>AZ</td>\n",
       "      <td>4007</td>\n",
       "      <td>40471</td>\n",
       "      <td>Gila County</td>\n",
       "      <td>Gila County, AZ</td>\n",
       "      <td>12323152721</td>\n",
       "      <td>97113523</td>\n",
       "      <td>4757.996</td>\n",
       "      <td>37.496</td>\n",
       "      <td>33.789618</td>\n",
       "      <td>-110.811870</td>\n",
       "    </tr>\n",
       "    <tr>\n",
       "      <td>4</td>\n",
       "      <td>AZ</td>\n",
       "      <td>4009</td>\n",
       "      <td>25444</td>\n",
       "      <td>Graham County</td>\n",
       "      <td>Graham County, AZ</td>\n",
       "      <td>11970605964</td>\n",
       "      <td>47476264</td>\n",
       "      <td>4621.877</td>\n",
       "      <td>18.331</td>\n",
       "      <td>32.931828</td>\n",
       "      <td>-109.878310</td>\n",
       "    </tr>\n",
       "  </tbody>\n",
       "</table>\n",
       "</div>"
      ],
      "text/plain": [
       "  USPS  GEOID  ANSICODE             NAME              Countym        ALAND  \\\n",
       "0   AZ   4001     25441    Apache County    Apache County, AZ  29002035366   \n",
       "1   AZ   4003     25442   Cochise County   Cochise County, AZ  16083174724   \n",
       "2   AZ   4005     25443  Coconino County  Coconino County, AZ  48217246133   \n",
       "3   AZ   4007     40471      Gila County      Gila County, AZ  12323152721   \n",
       "4   AZ   4009     25444    Graham County    Graham County, AZ  11970605964   \n",
       "\n",
       "      AWATER  ALAND_SQMI  AWATER_SQMI   INTPTLAT  \\\n",
       "0   54153162   11197.749       20.909  35.385084   \n",
       "1   17667961    6209.749        6.822  31.840129   \n",
       "2  116631412   18616.784       45.032  35.829692   \n",
       "3   97113523    4757.996       37.496  33.789618   \n",
       "4   47476264    4621.877       18.331  32.931828   \n",
       "\n",
       "   INTPTLONG                                                                                                                 \n",
       "0                                        -109.490172                                                                         \n",
       "1                                        -109.775163                                                                         \n",
       "2                                        -111.773728                                                                         \n",
       "3                                        -110.811870                                                                         \n",
       "4                                        -109.878310                                                                         "
      ]
     },
     "execution_count": 65,
     "metadata": {},
     "output_type": "execute_result"
    }
   ],
   "source": [
    "sw_countyloc.head()"
   ]
  },
  {
   "cell_type": "code",
   "execution_count": 66,
   "metadata": {},
   "outputs": [
    {
     "data": {
      "text/html": [
       "<div>\n",
       "<style scoped>\n",
       "    .dataframe tbody tr th:only-of-type {\n",
       "        vertical-align: middle;\n",
       "    }\n",
       "\n",
       "    .dataframe tbody tr th {\n",
       "        vertical-align: top;\n",
       "    }\n",
       "\n",
       "    .dataframe thead th {\n",
       "        text-align: right;\n",
       "    }\n",
       "</style>\n",
       "<table border=\"1\" class=\"dataframe\">\n",
       "  <thead>\n",
       "    <tr style=\"text-align: right;\">\n",
       "      <th></th>\n",
       "      <th>USPS</th>\n",
       "      <th>Countym</th>\n",
       "      <th>Lat</th>\n",
       "      <th>Long</th>\n",
       "    </tr>\n",
       "  </thead>\n",
       "  <tbody>\n",
       "    <tr>\n",
       "      <td>0</td>\n",
       "      <td>AZ</td>\n",
       "      <td>Apache County, AZ</td>\n",
       "      <td>35.385084</td>\n",
       "      <td>-109.490172</td>\n",
       "    </tr>\n",
       "    <tr>\n",
       "      <td>1</td>\n",
       "      <td>AZ</td>\n",
       "      <td>Cochise County, AZ</td>\n",
       "      <td>31.840129</td>\n",
       "      <td>-109.775163</td>\n",
       "    </tr>\n",
       "    <tr>\n",
       "      <td>2</td>\n",
       "      <td>AZ</td>\n",
       "      <td>Coconino County, AZ</td>\n",
       "      <td>35.829692</td>\n",
       "      <td>-111.773728</td>\n",
       "    </tr>\n",
       "    <tr>\n",
       "      <td>3</td>\n",
       "      <td>AZ</td>\n",
       "      <td>Gila County, AZ</td>\n",
       "      <td>33.789618</td>\n",
       "      <td>-110.811870</td>\n",
       "    </tr>\n",
       "    <tr>\n",
       "      <td>4</td>\n",
       "      <td>AZ</td>\n",
       "      <td>Graham County, AZ</td>\n",
       "      <td>32.931828</td>\n",
       "      <td>-109.878310</td>\n",
       "    </tr>\n",
       "  </tbody>\n",
       "</table>\n",
       "</div>"
      ],
      "text/plain": [
       "  USPS              Countym        Lat        Long\n",
       "0   AZ    Apache County, AZ  35.385084 -109.490172\n",
       "1   AZ   Cochise County, AZ  31.840129 -109.775163\n",
       "2   AZ  Coconino County, AZ  35.829692 -111.773728\n",
       "3   AZ      Gila County, AZ  33.789618 -110.811870\n",
       "4   AZ    Graham County, AZ  32.931828 -109.878310"
      ]
     },
     "execution_count": 66,
     "metadata": {},
     "output_type": "execute_result"
    }
   ],
   "source": [
    "sw_countyloc.drop(['GEOID', 'ANSICODE', 'NAME', 'ALAND', 'AWATER', 'ALAND_SQMI', 'AWATER_SQMI'], axis=1, inplace=True)\n",
    "sw_county=sw_countyloc.rename(columns={\"NAME\":\"Countym\", \"INTPTLAT\":\"Lat\", \"INTPTLONG                                                                                                               \":\"Long\" })\n",
    "sw_county.head()"
   ]
  },
  {
   "cell_type": "code",
   "execution_count": 67,
   "metadata": {},
   "outputs": [],
   "source": [
    "# top_act_county = pd.merge(top_act, sw_county, on='Countym', how='inner')\n",
    "# top_act_county.head()"
   ]
  },
  {
   "cell_type": "code",
   "execution_count": 68,
   "metadata": {},
   "outputs": [],
   "source": [
    "# del top_act_county['USPS']\n",
    "# top_act_county['Countym'] = top_act_county['Countym'].str.split('\\,+').str[0]\n",
    "# top_act_county.head()"
   ]
  },
  {
   "cell_type": "code",
   "execution_count": 69,
   "metadata": {},
   "outputs": [],
   "source": [
    "# from sqlalchemy import create_engine\n",
    "# engine = create_engine('sqlite:///SW_fincrime_db', echo=False)\n",
    "# sqlite_connection = engine.connect()"
   ]
  },
  {
   "cell_type": "code",
   "execution_count": 70,
   "metadata": {},
   "outputs": [],
   "source": [
    "# sqlite_table = \"topActivityCounty\"\n",
    "# top_act_county.to_sql(sqlite_table, sqlite_connection, if_exists='replace')"
   ]
  },
  {
   "cell_type": "code",
   "execution_count": 71,
   "metadata": {},
   "outputs": [],
   "source": [
    "# engine.execute(\"SELECT * FROM topActivityState\").fetchall()"
   ]
  },
  {
   "cell_type": "code",
   "execution_count": 72,
   "metadata": {},
   "outputs": [],
   "source": [
    "# sqlite_table = \"topActivityState\"\n",
    "# top_act_state.to_sql(sqlite_table, sqlite_connection, if_exists='replace')"
   ]
  },
  {
   "cell_type": "code",
   "execution_count": 73,
   "metadata": {},
   "outputs": [],
   "source": [
    "# engine.execute(\"SELECT * FROM topActivityState\").fetchall()"
   ]
  },
  {
   "cell_type": "code",
   "execution_count": 74,
   "metadata": {},
   "outputs": [],
   "source": [
    "# sqlite_connection.close()"
   ]
  },
  {
   "cell_type": "code",
   "execution_count": 75,
   "metadata": {},
   "outputs": [
    {
     "data": {
      "text/html": [
       "<div>\n",
       "<style scoped>\n",
       "    .dataframe tbody tr th:only-of-type {\n",
       "        vertical-align: middle;\n",
       "    }\n",
       "\n",
       "    .dataframe tbody tr th {\n",
       "        vertical-align: top;\n",
       "    }\n",
       "\n",
       "    .dataframe thead th {\n",
       "        text-align: right;\n",
       "    }\n",
       "</style>\n",
       "<table border=\"1\" class=\"dataframe\">\n",
       "  <thead>\n",
       "    <tr style=\"text-align: right;\">\n",
       "      <th></th>\n",
       "      <th>Year</th>\n",
       "      <th>State</th>\n",
       "      <th>Countym</th>\n",
       "      <th>Industry</th>\n",
       "      <th>Suspicious Activity</th>\n",
       "      <th>Count</th>\n",
       "    </tr>\n",
       "  </thead>\n",
       "  <tbody>\n",
       "    <tr>\n",
       "      <td>0</td>\n",
       "      <td>2014</td>\n",
       "      <td>Arizona</td>\n",
       "      <td>Coconino County, AZ</td>\n",
       "      <td>Tribal Authorized Casino</td>\n",
       "      <td>Alters or Cancels Transaction to Avoid CTR Req...</td>\n",
       "      <td>1</td>\n",
       "    </tr>\n",
       "    <tr>\n",
       "      <td>1</td>\n",
       "      <td>2014</td>\n",
       "      <td>Arizona</td>\n",
       "      <td>Coconino County, AZ</td>\n",
       "      <td>Tribal Authorized Casino</td>\n",
       "      <td>Exchanges Small Bills for Large Bills or Vice ...</td>\n",
       "      <td>1</td>\n",
       "    </tr>\n",
       "    <tr>\n",
       "      <td>2</td>\n",
       "      <td>2014</td>\n",
       "      <td>Arizona</td>\n",
       "      <td>Coconino County, AZ</td>\n",
       "      <td>Tribal Authorized Casino</td>\n",
       "      <td>Other Structuring</td>\n",
       "      <td>1</td>\n",
       "    </tr>\n",
       "    <tr>\n",
       "      <td>3</td>\n",
       "      <td>2014</td>\n",
       "      <td>Arizona</td>\n",
       "      <td>Coconino County, AZ</td>\n",
       "      <td>Tribal Authorized Casino</td>\n",
       "      <td>Provided Questionable or False Documentation</td>\n",
       "      <td>1</td>\n",
       "    </tr>\n",
       "    <tr>\n",
       "      <td>6</td>\n",
       "      <td>2014</td>\n",
       "      <td>Arizona</td>\n",
       "      <td>Maricopa County, AZ</td>\n",
       "      <td>Tribal Authorized Casino</td>\n",
       "      <td>Account Takeover</td>\n",
       "      <td>11</td>\n",
       "    </tr>\n",
       "  </tbody>\n",
       "</table>\n",
       "</div>"
      ],
      "text/plain": [
       "   Year    State              Countym                   Industry  \\\n",
       "0  2014  Arizona  Coconino County, AZ   Tribal Authorized Casino   \n",
       "1  2014  Arizona  Coconino County, AZ   Tribal Authorized Casino   \n",
       "2  2014  Arizona  Coconino County, AZ   Tribal Authorized Casino   \n",
       "3  2014  Arizona  Coconino County, AZ   Tribal Authorized Casino   \n",
       "6  2014  Arizona  Maricopa County, AZ   Tribal Authorized Casino   \n",
       "\n",
       "                                 Suspicious Activity Count  \n",
       "0  Alters or Cancels Transaction to Avoid CTR Req...     1  \n",
       "1  Exchanges Small Bills for Large Bills or Vice ...     1  \n",
       "2                                  Other Structuring     1  \n",
       "3       Provided Questionable or False Documentation     1  \n",
       "6                                   Account Takeover    11  "
      ]
     },
     "execution_count": 75,
     "metadata": {},
     "output_type": "execute_result"
    }
   ],
   "source": [
    "sarstats.head()"
   ]
  },
  {
   "cell_type": "code",
   "execution_count": 76,
   "metadata": {},
   "outputs": [
    {
     "data": {
      "text/html": [
       "<div>\n",
       "<style scoped>\n",
       "    .dataframe tbody tr th:only-of-type {\n",
       "        vertical-align: middle;\n",
       "    }\n",
       "\n",
       "    .dataframe tbody tr th {\n",
       "        vertical-align: top;\n",
       "    }\n",
       "\n",
       "    .dataframe thead th {\n",
       "        text-align: right;\n",
       "    }\n",
       "</style>\n",
       "<table border=\"1\" class=\"dataframe\">\n",
       "  <thead>\n",
       "    <tr style=\"text-align: right;\">\n",
       "      <th></th>\n",
       "      <th>Countym</th>\n",
       "      <th>Lat</th>\n",
       "      <th>Long</th>\n",
       "    </tr>\n",
       "  </thead>\n",
       "  <tbody>\n",
       "    <tr>\n",
       "      <td>0</td>\n",
       "      <td>Apache County, AZ</td>\n",
       "      <td>35.385084</td>\n",
       "      <td>-109.490172</td>\n",
       "    </tr>\n",
       "    <tr>\n",
       "      <td>1</td>\n",
       "      <td>Cochise County, AZ</td>\n",
       "      <td>31.840129</td>\n",
       "      <td>-109.775163</td>\n",
       "    </tr>\n",
       "    <tr>\n",
       "      <td>2</td>\n",
       "      <td>Coconino County, AZ</td>\n",
       "      <td>35.829692</td>\n",
       "      <td>-111.773728</td>\n",
       "    </tr>\n",
       "    <tr>\n",
       "      <td>3</td>\n",
       "      <td>Gila County, AZ</td>\n",
       "      <td>33.789618</td>\n",
       "      <td>-110.811870</td>\n",
       "    </tr>\n",
       "    <tr>\n",
       "      <td>4</td>\n",
       "      <td>Graham County, AZ</td>\n",
       "      <td>32.931828</td>\n",
       "      <td>-109.878310</td>\n",
       "    </tr>\n",
       "  </tbody>\n",
       "</table>\n",
       "</div>"
      ],
      "text/plain": [
       "               Countym        Lat        Long\n",
       "0    Apache County, AZ  35.385084 -109.490172\n",
       "1   Cochise County, AZ  31.840129 -109.775163\n",
       "2  Coconino County, AZ  35.829692 -111.773728\n",
       "3      Gila County, AZ  33.789618 -110.811870\n",
       "4    Graham County, AZ  32.931828 -109.878310"
      ]
     },
     "execution_count": 76,
     "metadata": {},
     "output_type": "execute_result"
    }
   ],
   "source": [
    "del sw_county['USPS']\n",
    "sw_county.head()"
   ]
  },
  {
   "cell_type": "code",
   "execution_count": 77,
   "metadata": {},
   "outputs": [
    {
     "data": {
      "text/html": [
       "<div>\n",
       "<style scoped>\n",
       "    .dataframe tbody tr th:only-of-type {\n",
       "        vertical-align: middle;\n",
       "    }\n",
       "\n",
       "    .dataframe tbody tr th {\n",
       "        vertical-align: top;\n",
       "    }\n",
       "\n",
       "    .dataframe thead th {\n",
       "        text-align: right;\n",
       "    }\n",
       "</style>\n",
       "<table border=\"1\" class=\"dataframe\">\n",
       "  <thead>\n",
       "    <tr style=\"text-align: right;\">\n",
       "      <th></th>\n",
       "      <th>Year</th>\n",
       "      <th>State</th>\n",
       "      <th>Countym</th>\n",
       "      <th>Industry</th>\n",
       "      <th>Suspicious Activity</th>\n",
       "      <th>Count</th>\n",
       "      <th>Lat</th>\n",
       "      <th>Long</th>\n",
       "    </tr>\n",
       "  </thead>\n",
       "  <tbody>\n",
       "    <tr>\n",
       "      <td>0</td>\n",
       "      <td>2014</td>\n",
       "      <td>Arizona</td>\n",
       "      <td>Coconino County</td>\n",
       "      <td>Tribal Authorized Casino</td>\n",
       "      <td>Alters or Cancels Transaction to Avoid CTR Req...</td>\n",
       "      <td>1</td>\n",
       "      <td>35.829692</td>\n",
       "      <td>-111.773728</td>\n",
       "    </tr>\n",
       "    <tr>\n",
       "      <td>1</td>\n",
       "      <td>2014</td>\n",
       "      <td>Arizona</td>\n",
       "      <td>Coconino County</td>\n",
       "      <td>Tribal Authorized Casino</td>\n",
       "      <td>Exchanges Small Bills for Large Bills or Vice ...</td>\n",
       "      <td>1</td>\n",
       "      <td>35.829692</td>\n",
       "      <td>-111.773728</td>\n",
       "    </tr>\n",
       "    <tr>\n",
       "      <td>2</td>\n",
       "      <td>2014</td>\n",
       "      <td>Arizona</td>\n",
       "      <td>Coconino County</td>\n",
       "      <td>Tribal Authorized Casino</td>\n",
       "      <td>Other Structuring</td>\n",
       "      <td>1</td>\n",
       "      <td>35.829692</td>\n",
       "      <td>-111.773728</td>\n",
       "    </tr>\n",
       "    <tr>\n",
       "      <td>3</td>\n",
       "      <td>2014</td>\n",
       "      <td>Arizona</td>\n",
       "      <td>Coconino County</td>\n",
       "      <td>Tribal Authorized Casino</td>\n",
       "      <td>Provided Questionable or False Documentation</td>\n",
       "      <td>1</td>\n",
       "      <td>35.829692</td>\n",
       "      <td>-111.773728</td>\n",
       "    </tr>\n",
       "    <tr>\n",
       "      <td>4</td>\n",
       "      <td>2016</td>\n",
       "      <td>Arizona</td>\n",
       "      <td>Coconino County</td>\n",
       "      <td>Tribal Authorized Casino</td>\n",
       "      <td>Account Takeover</td>\n",
       "      <td>1</td>\n",
       "      <td>35.829692</td>\n",
       "      <td>-111.773728</td>\n",
       "    </tr>\n",
       "  </tbody>\n",
       "</table>\n",
       "</div>"
      ],
      "text/plain": [
       "   Year    State          Countym                   Industry  \\\n",
       "0  2014  Arizona  Coconino County   Tribal Authorized Casino   \n",
       "1  2014  Arizona  Coconino County   Tribal Authorized Casino   \n",
       "2  2014  Arizona  Coconino County   Tribal Authorized Casino   \n",
       "3  2014  Arizona  Coconino County   Tribal Authorized Casino   \n",
       "4  2016  Arizona  Coconino County   Tribal Authorized Casino   \n",
       "\n",
       "                                 Suspicious Activity Count        Lat  \\\n",
       "0  Alters or Cancels Transaction to Avoid CTR Req...     1  35.829692   \n",
       "1  Exchanges Small Bills for Large Bills or Vice ...     1  35.829692   \n",
       "2                                  Other Structuring     1  35.829692   \n",
       "3       Provided Questionable or False Documentation     1  35.829692   \n",
       "4                                   Account Takeover     1  35.829692   \n",
       "\n",
       "         Long  \n",
       "0 -111.773728  \n",
       "1 -111.773728  \n",
       "2 -111.773728  \n",
       "3 -111.773728  \n",
       "4 -111.773728  "
      ]
     },
     "execution_count": 77,
     "metadata": {},
     "output_type": "execute_result"
    }
   ],
   "source": [
    "casino_crime = pd.merge(sarstats, sw_county, on = 'Countym', how = 'inner' )\n",
    "casino_crime['Countym'] = casino_crime['Countym'].str.split('\\,+').str[0]\n",
    "# casino_crime.set_index('State', inplace = True)\n",
    "casino_crime.head()"
   ]
  },
  {
   "cell_type": "code",
   "execution_count": 78,
   "metadata": {},
   "outputs": [],
   "source": [
    "casino_crime.index.name = 'Id'"
   ]
  },
  {
   "cell_type": "code",
   "execution_count": 79,
   "metadata": {},
   "outputs": [
    {
     "data": {
      "text/html": [
       "<div>\n",
       "<style scoped>\n",
       "    .dataframe tbody tr th:only-of-type {\n",
       "        vertical-align: middle;\n",
       "    }\n",
       "\n",
       "    .dataframe tbody tr th {\n",
       "        vertical-align: top;\n",
       "    }\n",
       "\n",
       "    .dataframe thead th {\n",
       "        text-align: right;\n",
       "    }\n",
       "</style>\n",
       "<table border=\"1\" class=\"dataframe\">\n",
       "  <thead>\n",
       "    <tr style=\"text-align: right;\">\n",
       "      <th></th>\n",
       "      <th>Year</th>\n",
       "      <th>State</th>\n",
       "      <th>Countym</th>\n",
       "      <th>Industry</th>\n",
       "      <th>Suspicious Activity</th>\n",
       "      <th>Count</th>\n",
       "      <th>Lat</th>\n",
       "      <th>Long</th>\n",
       "    </tr>\n",
       "    <tr>\n",
       "      <th>Id</th>\n",
       "      <th></th>\n",
       "      <th></th>\n",
       "      <th></th>\n",
       "      <th></th>\n",
       "      <th></th>\n",
       "      <th></th>\n",
       "      <th></th>\n",
       "      <th></th>\n",
       "    </tr>\n",
       "  </thead>\n",
       "  <tbody>\n",
       "    <tr>\n",
       "      <td>0</td>\n",
       "      <td>2014</td>\n",
       "      <td>Arizona</td>\n",
       "      <td>Coconino County</td>\n",
       "      <td>Tribal Authorized Casino</td>\n",
       "      <td>Alters or Cancels Transaction to Avoid CTR Req...</td>\n",
       "      <td>1</td>\n",
       "      <td>35.829692</td>\n",
       "      <td>-111.773728</td>\n",
       "    </tr>\n",
       "    <tr>\n",
       "      <td>1</td>\n",
       "      <td>2014</td>\n",
       "      <td>Arizona</td>\n",
       "      <td>Coconino County</td>\n",
       "      <td>Tribal Authorized Casino</td>\n",
       "      <td>Exchanges Small Bills for Large Bills or Vice ...</td>\n",
       "      <td>1</td>\n",
       "      <td>35.829692</td>\n",
       "      <td>-111.773728</td>\n",
       "    </tr>\n",
       "    <tr>\n",
       "      <td>2</td>\n",
       "      <td>2014</td>\n",
       "      <td>Arizona</td>\n",
       "      <td>Coconino County</td>\n",
       "      <td>Tribal Authorized Casino</td>\n",
       "      <td>Other Structuring</td>\n",
       "      <td>1</td>\n",
       "      <td>35.829692</td>\n",
       "      <td>-111.773728</td>\n",
       "    </tr>\n",
       "    <tr>\n",
       "      <td>3</td>\n",
       "      <td>2014</td>\n",
       "      <td>Arizona</td>\n",
       "      <td>Coconino County</td>\n",
       "      <td>Tribal Authorized Casino</td>\n",
       "      <td>Provided Questionable or False Documentation</td>\n",
       "      <td>1</td>\n",
       "      <td>35.829692</td>\n",
       "      <td>-111.773728</td>\n",
       "    </tr>\n",
       "    <tr>\n",
       "      <td>4</td>\n",
       "      <td>2016</td>\n",
       "      <td>Arizona</td>\n",
       "      <td>Coconino County</td>\n",
       "      <td>Tribal Authorized Casino</td>\n",
       "      <td>Account Takeover</td>\n",
       "      <td>1</td>\n",
       "      <td>35.829692</td>\n",
       "      <td>-111.773728</td>\n",
       "    </tr>\n",
       "  </tbody>\n",
       "</table>\n",
       "</div>"
      ],
      "text/plain": [
       "    Year    State          Countym                   Industry  \\\n",
       "Id                                                              \n",
       "0   2014  Arizona  Coconino County   Tribal Authorized Casino   \n",
       "1   2014  Arizona  Coconino County   Tribal Authorized Casino   \n",
       "2   2014  Arizona  Coconino County   Tribal Authorized Casino   \n",
       "3   2014  Arizona  Coconino County   Tribal Authorized Casino   \n",
       "4   2016  Arizona  Coconino County   Tribal Authorized Casino   \n",
       "\n",
       "                                  Suspicious Activity Count        Lat  \\\n",
       "Id                                                                       \n",
       "0   Alters or Cancels Transaction to Avoid CTR Req...     1  35.829692   \n",
       "1   Exchanges Small Bills for Large Bills or Vice ...     1  35.829692   \n",
       "2                                   Other Structuring     1  35.829692   \n",
       "3        Provided Questionable or False Documentation     1  35.829692   \n",
       "4                                    Account Takeover     1  35.829692   \n",
       "\n",
       "          Long  \n",
       "Id              \n",
       "0  -111.773728  \n",
       "1  -111.773728  \n",
       "2  -111.773728  \n",
       "3  -111.773728  \n",
       "4  -111.773728  "
      ]
     },
     "execution_count": 79,
     "metadata": {},
     "output_type": "execute_result"
    }
   ],
   "source": [
    "casino_crime.head()"
   ]
  },
  {
   "cell_type": "code",
   "execution_count": 80,
   "metadata": {},
   "outputs": [],
   "source": [
    "import sqlalchemy\n",
    "from sqlalchemy.ext.automap import automap_base\n",
    "from sqlalchemy.orm import Session\n",
    "from sqlalchemy import create_engine, inspect, func\n",
    "from datetime import datetime\n",
    "import sqlite3"
   ]
  },
  {
   "cell_type": "code",
   "execution_count": 81,
   "metadata": {},
   "outputs": [],
   "source": [
    "engine = create_engine('sqlite:///data/Casino.sqlite', echo=False)\n",
    "sqlite_connection = engine.connect()"
   ]
  },
  {
   "cell_type": "code",
   "execution_count": 82,
   "metadata": {},
   "outputs": [],
   "source": [
    "sqlite_table = \"casinoSW\"\n",
    "# casino_crime.to_sql(sqlite_table, sqlite_connection, if_exists='replace')"
   ]
  },
  {
   "cell_type": "code",
   "execution_count": 83,
   "metadata": {},
   "outputs": [],
   "source": [
    "#  engine.execute('drop table casinoSW')"
   ]
  },
  {
   "cell_type": "code",
   "execution_count": 84,
   "metadata": {},
   "outputs": [],
   "source": [
    "# inspector = inspect(engine)\n",
    "# columns = inspector.get_columns('casinoSW')\n",
    "# print(columns)"
   ]
  },
  {
   "cell_type": "code",
   "execution_count": 85,
   "metadata": {},
   "outputs": [],
   "source": [
    "# engine.execute('''create table casinoSW(id int not null Primary key,\n",
    "#               Year int,\n",
    "#               State varchar(255),\n",
    "#               Countym varchar(255),\n",
    "#               Industry varchar(255),\n",
    "#               \"Suspicious Activity\" varchar(500),\n",
    "#               Count int not null,\n",
    "#               Lat decimal,\n",
    "#               Long decimal)\n",
    "#               ''')"
   ]
  },
  {
   "cell_type": "code",
   "execution_count": null,
   "metadata": {},
   "outputs": [],
   "source": []
  },
  {
   "cell_type": "code",
   "execution_count": 86,
   "metadata": {},
   "outputs": [],
   "source": [
    "Base = automap_base()\n",
    "# reflect the tables\n",
    "Base.prepare(engine, reflect=True)"
   ]
  },
  {
   "cell_type": "code",
   "execution_count": 87,
   "metadata": {},
   "outputs": [
    {
     "data": {
      "text/plain": [
       "['casinoSW']"
      ]
     },
     "execution_count": 87,
     "metadata": {},
     "output_type": "execute_result"
    }
   ],
   "source": [
    "Base.classes.keys()"
   ]
  },
  {
   "cell_type": "code",
   "execution_count": null,
   "metadata": {},
   "outputs": [],
   "source": []
  },
  {
   "cell_type": "code",
   "execution_count": null,
   "metadata": {},
   "outputs": [],
   "source": []
  },
  {
   "cell_type": "code",
   "execution_count": 88,
   "metadata": {},
   "outputs": [],
   "source": [
    "# casino_crime.to_sql(sqlite_table, sqlite_connection, if_exists='append', index=True)\n",
    "\n",
    "# with sqlite_connection() as con:\n",
    "#     con.execute('ALTER TABLE `casinoSW` ADD PRIMARY KEY (`ID_column`);')"
   ]
  },
  {
   "cell_type": "code",
   "execution_count": 89,
   "metadata": {},
   "outputs": [],
   "source": [
    "casinoSW = engine.execute(\"SELECT * FROM casinoSW LIMIT 5\")"
   ]
  },
  {
   "cell_type": "code",
   "execution_count": 96,
   "metadata": {},
   "outputs": [],
   "source": [
    "for item in casinoSW:\n",
    "    print(item)\n"
   ]
  },
  {
   "cell_type": "code",
   "execution_count": 91,
   "metadata": {},
   "outputs": [],
   "source": [
    "# con = sqlalchemy.create_engine(url, client_encoding= 'utf8')\n",
    "# con.executor('alter table my_table add primary key(index)')"
   ]
  },
  {
   "cell_type": "code",
   "execution_count": 92,
   "metadata": {},
   "outputs": [],
   "source": [
    "# engine.execute(\"ALTER TABLE casinoSW ADD PR KEY ('ID_column')\")"
   ]
  },
  {
   "cell_type": "code",
   "execution_count": 93,
   "metadata": {},
   "outputs": [],
   "source": [
    "# Base = automap_base()\n",
    "# # reflect the tables\n",
    "# Base.prepare(engine, reflect=True)"
   ]
  },
  {
   "cell_type": "code",
   "execution_count": 94,
   "metadata": {},
   "outputs": [],
   "source": [
    "# Base.classes.keys()"
   ]
  },
  {
   "cell_type": "code",
   "execution_count": null,
   "metadata": {},
   "outputs": [],
   "source": []
  }
 ],
 "metadata": {
  "kernelspec": {
   "display_name": "Python 3",
   "language": "python",
   "name": "python3"
  },
  "language_info": {
   "codemirror_mode": {
    "name": "ipython",
    "version": 3
   },
   "file_extension": ".py",
   "mimetype": "text/x-python",
   "name": "python",
   "nbconvert_exporter": "python",
   "pygments_lexer": "ipython3",
   "version": "3.7.4"
  }
 },
 "nbformat": 4,
 "nbformat_minor": 4
}
